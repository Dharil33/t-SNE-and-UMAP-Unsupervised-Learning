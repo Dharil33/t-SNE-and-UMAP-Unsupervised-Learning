{
  "nbformat": 4,
  "nbformat_minor": 0,
  "metadata": {
    "colab": {
      "provenance": [],
      "authorship_tag": "ABX9TyPlQ4UgstEpHrHn2wDtZ2+t",
      "include_colab_link": true
    },
    "kernelspec": {
      "name": "python3",
      "display_name": "Python 3"
    },
    "language_info": {
      "name": "python"
    }
  },
  "cells": [
    {
      "cell_type": "markdown",
      "metadata": {
        "id": "view-in-github",
        "colab_type": "text"
      },
      "source": [
        "<a href=\"https://colab.research.google.com/github/Dharil33/t-SNE-and-UMAP-Unsupervised-Learning/blob/main/t_SNE_and_UMAP_Unsupervised_Learning.ipynb\" target=\"_parent\"><img src=\"https://colab.research.google.com/assets/colab-badge.svg\" alt=\"Open In Colab\"/></a>"
      ]
    },
    {
      "cell_type": "code",
      "execution_count": null,
      "metadata": {
        "id": "OMzbTfKagI36"
      },
      "outputs": [],
      "source": [
        "import numpy as np\n",
        "import pandas as pd\n",
        "import matplotlib.pyplot as plt\n",
        "import seaborn as sns"
      ]
    },
    {
      "cell_type": "code",
      "source": [
        "df = pd.read_csv(\"/content/data.csv\")\n",
        "df.head()"
      ],
      "metadata": {
        "colab": {
          "base_uri": "https://localhost:8080/",
          "height": 317
        },
        "id": "9gy0BFGQgWoc",
        "outputId": "0408dbed-9616-4e68-eb47-b7db16e1b656"
      },
      "execution_count": null,
      "outputs": [
        {
          "output_type": "execute_result",
          "data": {
            "text/plain": [
              "         id diagnosis  radius_mean  texture_mean  perimeter_mean  area_mean  \\\n",
              "0    842302         M        17.99         10.38          122.80     1001.0   \n",
              "1    842517         M        20.57         17.77          132.90     1326.0   \n",
              "2  84300903         M        19.69         21.25          130.00     1203.0   \n",
              "3  84348301         M        11.42         20.38           77.58      386.1   \n",
              "4  84358402         M        20.29         14.34          135.10     1297.0   \n",
              "\n",
              "   smoothness_mean  compactness_mean  concavity_mean  concave points_mean  \\\n",
              "0          0.11840           0.27760          0.3001              0.14710   \n",
              "1          0.08474           0.07864          0.0869              0.07017   \n",
              "2          0.10960           0.15990          0.1974              0.12790   \n",
              "3          0.14250           0.28390          0.2414              0.10520   \n",
              "4          0.10030           0.13280          0.1980              0.10430   \n",
              "\n",
              "   ...  texture_worst  perimeter_worst  area_worst  smoothness_worst  \\\n",
              "0  ...          17.33           184.60      2019.0            0.1622   \n",
              "1  ...          23.41           158.80      1956.0            0.1238   \n",
              "2  ...          25.53           152.50      1709.0            0.1444   \n",
              "3  ...          26.50            98.87       567.7            0.2098   \n",
              "4  ...          16.67           152.20      1575.0            0.1374   \n",
              "\n",
              "   compactness_worst  concavity_worst  concave points_worst  symmetry_worst  \\\n",
              "0             0.6656           0.7119                0.2654          0.4601   \n",
              "1             0.1866           0.2416                0.1860          0.2750   \n",
              "2             0.4245           0.4504                0.2430          0.3613   \n",
              "3             0.8663           0.6869                0.2575          0.6638   \n",
              "4             0.2050           0.4000                0.1625          0.2364   \n",
              "\n",
              "   fractal_dimension_worst  Unnamed: 32  \n",
              "0                  0.11890          NaN  \n",
              "1                  0.08902          NaN  \n",
              "2                  0.08758          NaN  \n",
              "3                  0.17300          NaN  \n",
              "4                  0.07678          NaN  \n",
              "\n",
              "[5 rows x 33 columns]"
            ],
            "text/html": [
              "\n",
              "  <div id=\"df-15a0c1b1-eed5-47af-bd9a-815ac102e112\">\n",
              "    <div class=\"colab-df-container\">\n",
              "      <div>\n",
              "<style scoped>\n",
              "    .dataframe tbody tr th:only-of-type {\n",
              "        vertical-align: middle;\n",
              "    }\n",
              "\n",
              "    .dataframe tbody tr th {\n",
              "        vertical-align: top;\n",
              "    }\n",
              "\n",
              "    .dataframe thead th {\n",
              "        text-align: right;\n",
              "    }\n",
              "</style>\n",
              "<table border=\"1\" class=\"dataframe\">\n",
              "  <thead>\n",
              "    <tr style=\"text-align: right;\">\n",
              "      <th></th>\n",
              "      <th>id</th>\n",
              "      <th>diagnosis</th>\n",
              "      <th>radius_mean</th>\n",
              "      <th>texture_mean</th>\n",
              "      <th>perimeter_mean</th>\n",
              "      <th>area_mean</th>\n",
              "      <th>smoothness_mean</th>\n",
              "      <th>compactness_mean</th>\n",
              "      <th>concavity_mean</th>\n",
              "      <th>concave points_mean</th>\n",
              "      <th>...</th>\n",
              "      <th>texture_worst</th>\n",
              "      <th>perimeter_worst</th>\n",
              "      <th>area_worst</th>\n",
              "      <th>smoothness_worst</th>\n",
              "      <th>compactness_worst</th>\n",
              "      <th>concavity_worst</th>\n",
              "      <th>concave points_worst</th>\n",
              "      <th>symmetry_worst</th>\n",
              "      <th>fractal_dimension_worst</th>\n",
              "      <th>Unnamed: 32</th>\n",
              "    </tr>\n",
              "  </thead>\n",
              "  <tbody>\n",
              "    <tr>\n",
              "      <th>0</th>\n",
              "      <td>842302</td>\n",
              "      <td>M</td>\n",
              "      <td>17.99</td>\n",
              "      <td>10.38</td>\n",
              "      <td>122.80</td>\n",
              "      <td>1001.0</td>\n",
              "      <td>0.11840</td>\n",
              "      <td>0.27760</td>\n",
              "      <td>0.3001</td>\n",
              "      <td>0.14710</td>\n",
              "      <td>...</td>\n",
              "      <td>17.33</td>\n",
              "      <td>184.60</td>\n",
              "      <td>2019.0</td>\n",
              "      <td>0.1622</td>\n",
              "      <td>0.6656</td>\n",
              "      <td>0.7119</td>\n",
              "      <td>0.2654</td>\n",
              "      <td>0.4601</td>\n",
              "      <td>0.11890</td>\n",
              "      <td>NaN</td>\n",
              "    </tr>\n",
              "    <tr>\n",
              "      <th>1</th>\n",
              "      <td>842517</td>\n",
              "      <td>M</td>\n",
              "      <td>20.57</td>\n",
              "      <td>17.77</td>\n",
              "      <td>132.90</td>\n",
              "      <td>1326.0</td>\n",
              "      <td>0.08474</td>\n",
              "      <td>0.07864</td>\n",
              "      <td>0.0869</td>\n",
              "      <td>0.07017</td>\n",
              "      <td>...</td>\n",
              "      <td>23.41</td>\n",
              "      <td>158.80</td>\n",
              "      <td>1956.0</td>\n",
              "      <td>0.1238</td>\n",
              "      <td>0.1866</td>\n",
              "      <td>0.2416</td>\n",
              "      <td>0.1860</td>\n",
              "      <td>0.2750</td>\n",
              "      <td>0.08902</td>\n",
              "      <td>NaN</td>\n",
              "    </tr>\n",
              "    <tr>\n",
              "      <th>2</th>\n",
              "      <td>84300903</td>\n",
              "      <td>M</td>\n",
              "      <td>19.69</td>\n",
              "      <td>21.25</td>\n",
              "      <td>130.00</td>\n",
              "      <td>1203.0</td>\n",
              "      <td>0.10960</td>\n",
              "      <td>0.15990</td>\n",
              "      <td>0.1974</td>\n",
              "      <td>0.12790</td>\n",
              "      <td>...</td>\n",
              "      <td>25.53</td>\n",
              "      <td>152.50</td>\n",
              "      <td>1709.0</td>\n",
              "      <td>0.1444</td>\n",
              "      <td>0.4245</td>\n",
              "      <td>0.4504</td>\n",
              "      <td>0.2430</td>\n",
              "      <td>0.3613</td>\n",
              "      <td>0.08758</td>\n",
              "      <td>NaN</td>\n",
              "    </tr>\n",
              "    <tr>\n",
              "      <th>3</th>\n",
              "      <td>84348301</td>\n",
              "      <td>M</td>\n",
              "      <td>11.42</td>\n",
              "      <td>20.38</td>\n",
              "      <td>77.58</td>\n",
              "      <td>386.1</td>\n",
              "      <td>0.14250</td>\n",
              "      <td>0.28390</td>\n",
              "      <td>0.2414</td>\n",
              "      <td>0.10520</td>\n",
              "      <td>...</td>\n",
              "      <td>26.50</td>\n",
              "      <td>98.87</td>\n",
              "      <td>567.7</td>\n",
              "      <td>0.2098</td>\n",
              "      <td>0.8663</td>\n",
              "      <td>0.6869</td>\n",
              "      <td>0.2575</td>\n",
              "      <td>0.6638</td>\n",
              "      <td>0.17300</td>\n",
              "      <td>NaN</td>\n",
              "    </tr>\n",
              "    <tr>\n",
              "      <th>4</th>\n",
              "      <td>84358402</td>\n",
              "      <td>M</td>\n",
              "      <td>20.29</td>\n",
              "      <td>14.34</td>\n",
              "      <td>135.10</td>\n",
              "      <td>1297.0</td>\n",
              "      <td>0.10030</td>\n",
              "      <td>0.13280</td>\n",
              "      <td>0.1980</td>\n",
              "      <td>0.10430</td>\n",
              "      <td>...</td>\n",
              "      <td>16.67</td>\n",
              "      <td>152.20</td>\n",
              "      <td>1575.0</td>\n",
              "      <td>0.1374</td>\n",
              "      <td>0.2050</td>\n",
              "      <td>0.4000</td>\n",
              "      <td>0.1625</td>\n",
              "      <td>0.2364</td>\n",
              "      <td>0.07678</td>\n",
              "      <td>NaN</td>\n",
              "    </tr>\n",
              "  </tbody>\n",
              "</table>\n",
              "<p>5 rows × 33 columns</p>\n",
              "</div>\n",
              "      <button class=\"colab-df-convert\" onclick=\"convertToInteractive('df-15a0c1b1-eed5-47af-bd9a-815ac102e112')\"\n",
              "              title=\"Convert this dataframe to an interactive table.\"\n",
              "              style=\"display:none;\">\n",
              "        \n",
              "  <svg xmlns=\"http://www.w3.org/2000/svg\" height=\"24px\"viewBox=\"0 0 24 24\"\n",
              "       width=\"24px\">\n",
              "    <path d=\"M0 0h24v24H0V0z\" fill=\"none\"/>\n",
              "    <path d=\"M18.56 5.44l.94 2.06.94-2.06 2.06-.94-2.06-.94-.94-2.06-.94 2.06-2.06.94zm-11 1L8.5 8.5l.94-2.06 2.06-.94-2.06-.94L8.5 2.5l-.94 2.06-2.06.94zm10 10l.94 2.06.94-2.06 2.06-.94-2.06-.94-.94-2.06-.94 2.06-2.06.94z\"/><path d=\"M17.41 7.96l-1.37-1.37c-.4-.4-.92-.59-1.43-.59-.52 0-1.04.2-1.43.59L10.3 9.45l-7.72 7.72c-.78.78-.78 2.05 0 2.83L4 21.41c.39.39.9.59 1.41.59.51 0 1.02-.2 1.41-.59l7.78-7.78 2.81-2.81c.8-.78.8-2.07 0-2.86zM5.41 20L4 18.59l7.72-7.72 1.47 1.35L5.41 20z\"/>\n",
              "  </svg>\n",
              "      </button>\n",
              "      \n",
              "  <style>\n",
              "    .colab-df-container {\n",
              "      display:flex;\n",
              "      flex-wrap:wrap;\n",
              "      gap: 12px;\n",
              "    }\n",
              "\n",
              "    .colab-df-convert {\n",
              "      background-color: #E8F0FE;\n",
              "      border: none;\n",
              "      border-radius: 50%;\n",
              "      cursor: pointer;\n",
              "      display: none;\n",
              "      fill: #1967D2;\n",
              "      height: 32px;\n",
              "      padding: 0 0 0 0;\n",
              "      width: 32px;\n",
              "    }\n",
              "\n",
              "    .colab-df-convert:hover {\n",
              "      background-color: #E2EBFA;\n",
              "      box-shadow: 0px 1px 2px rgba(60, 64, 67, 0.3), 0px 1px 3px 1px rgba(60, 64, 67, 0.15);\n",
              "      fill: #174EA6;\n",
              "    }\n",
              "\n",
              "    [theme=dark] .colab-df-convert {\n",
              "      background-color: #3B4455;\n",
              "      fill: #D2E3FC;\n",
              "    }\n",
              "\n",
              "    [theme=dark] .colab-df-convert:hover {\n",
              "      background-color: #434B5C;\n",
              "      box-shadow: 0px 1px 3px 1px rgba(0, 0, 0, 0.15);\n",
              "      filter: drop-shadow(0px 1px 2px rgba(0, 0, 0, 0.3));\n",
              "      fill: #FFFFFF;\n",
              "    }\n",
              "  </style>\n",
              "\n",
              "      <script>\n",
              "        const buttonEl =\n",
              "          document.querySelector('#df-15a0c1b1-eed5-47af-bd9a-815ac102e112 button.colab-df-convert');\n",
              "        buttonEl.style.display =\n",
              "          google.colab.kernel.accessAllowed ? 'block' : 'none';\n",
              "\n",
              "        async function convertToInteractive(key) {\n",
              "          const element = document.querySelector('#df-15a0c1b1-eed5-47af-bd9a-815ac102e112');\n",
              "          const dataTable =\n",
              "            await google.colab.kernel.invokeFunction('convertToInteractive',\n",
              "                                                     [key], {});\n",
              "          if (!dataTable) return;\n",
              "\n",
              "          const docLinkHtml = 'Like what you see? Visit the ' +\n",
              "            '<a target=\"_blank\" href=https://colab.research.google.com/notebooks/data_table.ipynb>data table notebook</a>'\n",
              "            + ' to learn more about interactive tables.';\n",
              "          element.innerHTML = '';\n",
              "          dataTable['output_type'] = 'display_data';\n",
              "          await google.colab.output.renderOutput(dataTable, element);\n",
              "          const docLink = document.createElement('div');\n",
              "          docLink.innerHTML = docLinkHtml;\n",
              "          element.appendChild(docLink);\n",
              "        }\n",
              "      </script>\n",
              "    </div>\n",
              "  </div>\n",
              "  "
            ]
          },
          "metadata": {},
          "execution_count": 160
        }
      ]
    },
    {
      "cell_type": "code",
      "source": [
        "df.drop('Unnamed: 32',axis = 1, inplace = True)"
      ],
      "metadata": {
        "id": "u-O5G88tgXzs"
      },
      "execution_count": null,
      "outputs": []
    },
    {
      "cell_type": "code",
      "source": [
        "X = df.drop('diagnosis',axis = 1)\n",
        "X"
      ],
      "metadata": {
        "colab": {
          "base_uri": "https://localhost:8080/",
          "height": 505
        },
        "id": "fM2_uBWDgaH6",
        "outputId": "35a058a9-3c0b-4b05-937c-0a0cf0561cc0"
      },
      "execution_count": null,
      "outputs": [
        {
          "output_type": "execute_result",
          "data": {
            "text/plain": [
              "           id  radius_mean  texture_mean  perimeter_mean  area_mean  \\\n",
              "0      842302        17.99         10.38          122.80     1001.0   \n",
              "1      842517        20.57         17.77          132.90     1326.0   \n",
              "2    84300903        19.69         21.25          130.00     1203.0   \n",
              "3    84348301        11.42         20.38           77.58      386.1   \n",
              "4    84358402        20.29         14.34          135.10     1297.0   \n",
              "..        ...          ...           ...             ...        ...   \n",
              "564    926424        21.56         22.39          142.00     1479.0   \n",
              "565    926682        20.13         28.25          131.20     1261.0   \n",
              "566    926954        16.60         28.08          108.30      858.1   \n",
              "567    927241        20.60         29.33          140.10     1265.0   \n",
              "568     92751         7.76         24.54           47.92      181.0   \n",
              "\n",
              "     smoothness_mean  compactness_mean  concavity_mean  concave points_mean  \\\n",
              "0            0.11840           0.27760         0.30010              0.14710   \n",
              "1            0.08474           0.07864         0.08690              0.07017   \n",
              "2            0.10960           0.15990         0.19740              0.12790   \n",
              "3            0.14250           0.28390         0.24140              0.10520   \n",
              "4            0.10030           0.13280         0.19800              0.10430   \n",
              "..               ...               ...             ...                  ...   \n",
              "564          0.11100           0.11590         0.24390              0.13890   \n",
              "565          0.09780           0.10340         0.14400              0.09791   \n",
              "566          0.08455           0.10230         0.09251              0.05302   \n",
              "567          0.11780           0.27700         0.35140              0.15200   \n",
              "568          0.05263           0.04362         0.00000              0.00000   \n",
              "\n",
              "     symmetry_mean  ...  radius_worst  texture_worst  perimeter_worst  \\\n",
              "0           0.2419  ...        25.380          17.33           184.60   \n",
              "1           0.1812  ...        24.990          23.41           158.80   \n",
              "2           0.2069  ...        23.570          25.53           152.50   \n",
              "3           0.2597  ...        14.910          26.50            98.87   \n",
              "4           0.1809  ...        22.540          16.67           152.20   \n",
              "..             ...  ...           ...            ...              ...   \n",
              "564         0.1726  ...        25.450          26.40           166.10   \n",
              "565         0.1752  ...        23.690          38.25           155.00   \n",
              "566         0.1590  ...        18.980          34.12           126.70   \n",
              "567         0.2397  ...        25.740          39.42           184.60   \n",
              "568         0.1587  ...         9.456          30.37            59.16   \n",
              "\n",
              "     area_worst  smoothness_worst  compactness_worst  concavity_worst  \\\n",
              "0        2019.0           0.16220            0.66560           0.7119   \n",
              "1        1956.0           0.12380            0.18660           0.2416   \n",
              "2        1709.0           0.14440            0.42450           0.4504   \n",
              "3         567.7           0.20980            0.86630           0.6869   \n",
              "4        1575.0           0.13740            0.20500           0.4000   \n",
              "..          ...               ...                ...              ...   \n",
              "564      2027.0           0.14100            0.21130           0.4107   \n",
              "565      1731.0           0.11660            0.19220           0.3215   \n",
              "566      1124.0           0.11390            0.30940           0.3403   \n",
              "567      1821.0           0.16500            0.86810           0.9387   \n",
              "568       268.6           0.08996            0.06444           0.0000   \n",
              "\n",
              "     concave points_worst  symmetry_worst  fractal_dimension_worst  \n",
              "0                  0.2654          0.4601                  0.11890  \n",
              "1                  0.1860          0.2750                  0.08902  \n",
              "2                  0.2430          0.3613                  0.08758  \n",
              "3                  0.2575          0.6638                  0.17300  \n",
              "4                  0.1625          0.2364                  0.07678  \n",
              "..                    ...             ...                      ...  \n",
              "564                0.2216          0.2060                  0.07115  \n",
              "565                0.1628          0.2572                  0.06637  \n",
              "566                0.1418          0.2218                  0.07820  \n",
              "567                0.2650          0.4087                  0.12400  \n",
              "568                0.0000          0.2871                  0.07039  \n",
              "\n",
              "[569 rows x 31 columns]"
            ],
            "text/html": [
              "\n",
              "  <div id=\"df-eaa99971-2d58-434d-ae85-245d0378c0fe\">\n",
              "    <div class=\"colab-df-container\">\n",
              "      <div>\n",
              "<style scoped>\n",
              "    .dataframe tbody tr th:only-of-type {\n",
              "        vertical-align: middle;\n",
              "    }\n",
              "\n",
              "    .dataframe tbody tr th {\n",
              "        vertical-align: top;\n",
              "    }\n",
              "\n",
              "    .dataframe thead th {\n",
              "        text-align: right;\n",
              "    }\n",
              "</style>\n",
              "<table border=\"1\" class=\"dataframe\">\n",
              "  <thead>\n",
              "    <tr style=\"text-align: right;\">\n",
              "      <th></th>\n",
              "      <th>id</th>\n",
              "      <th>radius_mean</th>\n",
              "      <th>texture_mean</th>\n",
              "      <th>perimeter_mean</th>\n",
              "      <th>area_mean</th>\n",
              "      <th>smoothness_mean</th>\n",
              "      <th>compactness_mean</th>\n",
              "      <th>concavity_mean</th>\n",
              "      <th>concave points_mean</th>\n",
              "      <th>symmetry_mean</th>\n",
              "      <th>...</th>\n",
              "      <th>radius_worst</th>\n",
              "      <th>texture_worst</th>\n",
              "      <th>perimeter_worst</th>\n",
              "      <th>area_worst</th>\n",
              "      <th>smoothness_worst</th>\n",
              "      <th>compactness_worst</th>\n",
              "      <th>concavity_worst</th>\n",
              "      <th>concave points_worst</th>\n",
              "      <th>symmetry_worst</th>\n",
              "      <th>fractal_dimension_worst</th>\n",
              "    </tr>\n",
              "  </thead>\n",
              "  <tbody>\n",
              "    <tr>\n",
              "      <th>0</th>\n",
              "      <td>842302</td>\n",
              "      <td>17.99</td>\n",
              "      <td>10.38</td>\n",
              "      <td>122.80</td>\n",
              "      <td>1001.0</td>\n",
              "      <td>0.11840</td>\n",
              "      <td>0.27760</td>\n",
              "      <td>0.30010</td>\n",
              "      <td>0.14710</td>\n",
              "      <td>0.2419</td>\n",
              "      <td>...</td>\n",
              "      <td>25.380</td>\n",
              "      <td>17.33</td>\n",
              "      <td>184.60</td>\n",
              "      <td>2019.0</td>\n",
              "      <td>0.16220</td>\n",
              "      <td>0.66560</td>\n",
              "      <td>0.7119</td>\n",
              "      <td>0.2654</td>\n",
              "      <td>0.4601</td>\n",
              "      <td>0.11890</td>\n",
              "    </tr>\n",
              "    <tr>\n",
              "      <th>1</th>\n",
              "      <td>842517</td>\n",
              "      <td>20.57</td>\n",
              "      <td>17.77</td>\n",
              "      <td>132.90</td>\n",
              "      <td>1326.0</td>\n",
              "      <td>0.08474</td>\n",
              "      <td>0.07864</td>\n",
              "      <td>0.08690</td>\n",
              "      <td>0.07017</td>\n",
              "      <td>0.1812</td>\n",
              "      <td>...</td>\n",
              "      <td>24.990</td>\n",
              "      <td>23.41</td>\n",
              "      <td>158.80</td>\n",
              "      <td>1956.0</td>\n",
              "      <td>0.12380</td>\n",
              "      <td>0.18660</td>\n",
              "      <td>0.2416</td>\n",
              "      <td>0.1860</td>\n",
              "      <td>0.2750</td>\n",
              "      <td>0.08902</td>\n",
              "    </tr>\n",
              "    <tr>\n",
              "      <th>2</th>\n",
              "      <td>84300903</td>\n",
              "      <td>19.69</td>\n",
              "      <td>21.25</td>\n",
              "      <td>130.00</td>\n",
              "      <td>1203.0</td>\n",
              "      <td>0.10960</td>\n",
              "      <td>0.15990</td>\n",
              "      <td>0.19740</td>\n",
              "      <td>0.12790</td>\n",
              "      <td>0.2069</td>\n",
              "      <td>...</td>\n",
              "      <td>23.570</td>\n",
              "      <td>25.53</td>\n",
              "      <td>152.50</td>\n",
              "      <td>1709.0</td>\n",
              "      <td>0.14440</td>\n",
              "      <td>0.42450</td>\n",
              "      <td>0.4504</td>\n",
              "      <td>0.2430</td>\n",
              "      <td>0.3613</td>\n",
              "      <td>0.08758</td>\n",
              "    </tr>\n",
              "    <tr>\n",
              "      <th>3</th>\n",
              "      <td>84348301</td>\n",
              "      <td>11.42</td>\n",
              "      <td>20.38</td>\n",
              "      <td>77.58</td>\n",
              "      <td>386.1</td>\n",
              "      <td>0.14250</td>\n",
              "      <td>0.28390</td>\n",
              "      <td>0.24140</td>\n",
              "      <td>0.10520</td>\n",
              "      <td>0.2597</td>\n",
              "      <td>...</td>\n",
              "      <td>14.910</td>\n",
              "      <td>26.50</td>\n",
              "      <td>98.87</td>\n",
              "      <td>567.7</td>\n",
              "      <td>0.20980</td>\n",
              "      <td>0.86630</td>\n",
              "      <td>0.6869</td>\n",
              "      <td>0.2575</td>\n",
              "      <td>0.6638</td>\n",
              "      <td>0.17300</td>\n",
              "    </tr>\n",
              "    <tr>\n",
              "      <th>4</th>\n",
              "      <td>84358402</td>\n",
              "      <td>20.29</td>\n",
              "      <td>14.34</td>\n",
              "      <td>135.10</td>\n",
              "      <td>1297.0</td>\n",
              "      <td>0.10030</td>\n",
              "      <td>0.13280</td>\n",
              "      <td>0.19800</td>\n",
              "      <td>0.10430</td>\n",
              "      <td>0.1809</td>\n",
              "      <td>...</td>\n",
              "      <td>22.540</td>\n",
              "      <td>16.67</td>\n",
              "      <td>152.20</td>\n",
              "      <td>1575.0</td>\n",
              "      <td>0.13740</td>\n",
              "      <td>0.20500</td>\n",
              "      <td>0.4000</td>\n",
              "      <td>0.1625</td>\n",
              "      <td>0.2364</td>\n",
              "      <td>0.07678</td>\n",
              "    </tr>\n",
              "    <tr>\n",
              "      <th>...</th>\n",
              "      <td>...</td>\n",
              "      <td>...</td>\n",
              "      <td>...</td>\n",
              "      <td>...</td>\n",
              "      <td>...</td>\n",
              "      <td>...</td>\n",
              "      <td>...</td>\n",
              "      <td>...</td>\n",
              "      <td>...</td>\n",
              "      <td>...</td>\n",
              "      <td>...</td>\n",
              "      <td>...</td>\n",
              "      <td>...</td>\n",
              "      <td>...</td>\n",
              "      <td>...</td>\n",
              "      <td>...</td>\n",
              "      <td>...</td>\n",
              "      <td>...</td>\n",
              "      <td>...</td>\n",
              "      <td>...</td>\n",
              "      <td>...</td>\n",
              "    </tr>\n",
              "    <tr>\n",
              "      <th>564</th>\n",
              "      <td>926424</td>\n",
              "      <td>21.56</td>\n",
              "      <td>22.39</td>\n",
              "      <td>142.00</td>\n",
              "      <td>1479.0</td>\n",
              "      <td>0.11100</td>\n",
              "      <td>0.11590</td>\n",
              "      <td>0.24390</td>\n",
              "      <td>0.13890</td>\n",
              "      <td>0.1726</td>\n",
              "      <td>...</td>\n",
              "      <td>25.450</td>\n",
              "      <td>26.40</td>\n",
              "      <td>166.10</td>\n",
              "      <td>2027.0</td>\n",
              "      <td>0.14100</td>\n",
              "      <td>0.21130</td>\n",
              "      <td>0.4107</td>\n",
              "      <td>0.2216</td>\n",
              "      <td>0.2060</td>\n",
              "      <td>0.07115</td>\n",
              "    </tr>\n",
              "    <tr>\n",
              "      <th>565</th>\n",
              "      <td>926682</td>\n",
              "      <td>20.13</td>\n",
              "      <td>28.25</td>\n",
              "      <td>131.20</td>\n",
              "      <td>1261.0</td>\n",
              "      <td>0.09780</td>\n",
              "      <td>0.10340</td>\n",
              "      <td>0.14400</td>\n",
              "      <td>0.09791</td>\n",
              "      <td>0.1752</td>\n",
              "      <td>...</td>\n",
              "      <td>23.690</td>\n",
              "      <td>38.25</td>\n",
              "      <td>155.00</td>\n",
              "      <td>1731.0</td>\n",
              "      <td>0.11660</td>\n",
              "      <td>0.19220</td>\n",
              "      <td>0.3215</td>\n",
              "      <td>0.1628</td>\n",
              "      <td>0.2572</td>\n",
              "      <td>0.06637</td>\n",
              "    </tr>\n",
              "    <tr>\n",
              "      <th>566</th>\n",
              "      <td>926954</td>\n",
              "      <td>16.60</td>\n",
              "      <td>28.08</td>\n",
              "      <td>108.30</td>\n",
              "      <td>858.1</td>\n",
              "      <td>0.08455</td>\n",
              "      <td>0.10230</td>\n",
              "      <td>0.09251</td>\n",
              "      <td>0.05302</td>\n",
              "      <td>0.1590</td>\n",
              "      <td>...</td>\n",
              "      <td>18.980</td>\n",
              "      <td>34.12</td>\n",
              "      <td>126.70</td>\n",
              "      <td>1124.0</td>\n",
              "      <td>0.11390</td>\n",
              "      <td>0.30940</td>\n",
              "      <td>0.3403</td>\n",
              "      <td>0.1418</td>\n",
              "      <td>0.2218</td>\n",
              "      <td>0.07820</td>\n",
              "    </tr>\n",
              "    <tr>\n",
              "      <th>567</th>\n",
              "      <td>927241</td>\n",
              "      <td>20.60</td>\n",
              "      <td>29.33</td>\n",
              "      <td>140.10</td>\n",
              "      <td>1265.0</td>\n",
              "      <td>0.11780</td>\n",
              "      <td>0.27700</td>\n",
              "      <td>0.35140</td>\n",
              "      <td>0.15200</td>\n",
              "      <td>0.2397</td>\n",
              "      <td>...</td>\n",
              "      <td>25.740</td>\n",
              "      <td>39.42</td>\n",
              "      <td>184.60</td>\n",
              "      <td>1821.0</td>\n",
              "      <td>0.16500</td>\n",
              "      <td>0.86810</td>\n",
              "      <td>0.9387</td>\n",
              "      <td>0.2650</td>\n",
              "      <td>0.4087</td>\n",
              "      <td>0.12400</td>\n",
              "    </tr>\n",
              "    <tr>\n",
              "      <th>568</th>\n",
              "      <td>92751</td>\n",
              "      <td>7.76</td>\n",
              "      <td>24.54</td>\n",
              "      <td>47.92</td>\n",
              "      <td>181.0</td>\n",
              "      <td>0.05263</td>\n",
              "      <td>0.04362</td>\n",
              "      <td>0.00000</td>\n",
              "      <td>0.00000</td>\n",
              "      <td>0.1587</td>\n",
              "      <td>...</td>\n",
              "      <td>9.456</td>\n",
              "      <td>30.37</td>\n",
              "      <td>59.16</td>\n",
              "      <td>268.6</td>\n",
              "      <td>0.08996</td>\n",
              "      <td>0.06444</td>\n",
              "      <td>0.0000</td>\n",
              "      <td>0.0000</td>\n",
              "      <td>0.2871</td>\n",
              "      <td>0.07039</td>\n",
              "    </tr>\n",
              "  </tbody>\n",
              "</table>\n",
              "<p>569 rows × 31 columns</p>\n",
              "</div>\n",
              "      <button class=\"colab-df-convert\" onclick=\"convertToInteractive('df-eaa99971-2d58-434d-ae85-245d0378c0fe')\"\n",
              "              title=\"Convert this dataframe to an interactive table.\"\n",
              "              style=\"display:none;\">\n",
              "        \n",
              "  <svg xmlns=\"http://www.w3.org/2000/svg\" height=\"24px\"viewBox=\"0 0 24 24\"\n",
              "       width=\"24px\">\n",
              "    <path d=\"M0 0h24v24H0V0z\" fill=\"none\"/>\n",
              "    <path d=\"M18.56 5.44l.94 2.06.94-2.06 2.06-.94-2.06-.94-.94-2.06-.94 2.06-2.06.94zm-11 1L8.5 8.5l.94-2.06 2.06-.94-2.06-.94L8.5 2.5l-.94 2.06-2.06.94zm10 10l.94 2.06.94-2.06 2.06-.94-2.06-.94-.94-2.06-.94 2.06-2.06.94z\"/><path d=\"M17.41 7.96l-1.37-1.37c-.4-.4-.92-.59-1.43-.59-.52 0-1.04.2-1.43.59L10.3 9.45l-7.72 7.72c-.78.78-.78 2.05 0 2.83L4 21.41c.39.39.9.59 1.41.59.51 0 1.02-.2 1.41-.59l7.78-7.78 2.81-2.81c.8-.78.8-2.07 0-2.86zM5.41 20L4 18.59l7.72-7.72 1.47 1.35L5.41 20z\"/>\n",
              "  </svg>\n",
              "      </button>\n",
              "      \n",
              "  <style>\n",
              "    .colab-df-container {\n",
              "      display:flex;\n",
              "      flex-wrap:wrap;\n",
              "      gap: 12px;\n",
              "    }\n",
              "\n",
              "    .colab-df-convert {\n",
              "      background-color: #E8F0FE;\n",
              "      border: none;\n",
              "      border-radius: 50%;\n",
              "      cursor: pointer;\n",
              "      display: none;\n",
              "      fill: #1967D2;\n",
              "      height: 32px;\n",
              "      padding: 0 0 0 0;\n",
              "      width: 32px;\n",
              "    }\n",
              "\n",
              "    .colab-df-convert:hover {\n",
              "      background-color: #E2EBFA;\n",
              "      box-shadow: 0px 1px 2px rgba(60, 64, 67, 0.3), 0px 1px 3px 1px rgba(60, 64, 67, 0.15);\n",
              "      fill: #174EA6;\n",
              "    }\n",
              "\n",
              "    [theme=dark] .colab-df-convert {\n",
              "      background-color: #3B4455;\n",
              "      fill: #D2E3FC;\n",
              "    }\n",
              "\n",
              "    [theme=dark] .colab-df-convert:hover {\n",
              "      background-color: #434B5C;\n",
              "      box-shadow: 0px 1px 3px 1px rgba(0, 0, 0, 0.15);\n",
              "      filter: drop-shadow(0px 1px 2px rgba(0, 0, 0, 0.3));\n",
              "      fill: #FFFFFF;\n",
              "    }\n",
              "  </style>\n",
              "\n",
              "      <script>\n",
              "        const buttonEl =\n",
              "          document.querySelector('#df-eaa99971-2d58-434d-ae85-245d0378c0fe button.colab-df-convert');\n",
              "        buttonEl.style.display =\n",
              "          google.colab.kernel.accessAllowed ? 'block' : 'none';\n",
              "\n",
              "        async function convertToInteractive(key) {\n",
              "          const element = document.querySelector('#df-eaa99971-2d58-434d-ae85-245d0378c0fe');\n",
              "          const dataTable =\n",
              "            await google.colab.kernel.invokeFunction('convertToInteractive',\n",
              "                                                     [key], {});\n",
              "          if (!dataTable) return;\n",
              "\n",
              "          const docLinkHtml = 'Like what you see? Visit the ' +\n",
              "            '<a target=\"_blank\" href=https://colab.research.google.com/notebooks/data_table.ipynb>data table notebook</a>'\n",
              "            + ' to learn more about interactive tables.';\n",
              "          element.innerHTML = '';\n",
              "          dataTable['output_type'] = 'display_data';\n",
              "          await google.colab.output.renderOutput(dataTable, element);\n",
              "          const docLink = document.createElement('div');\n",
              "          docLink.innerHTML = docLinkHtml;\n",
              "          element.appendChild(docLink);\n",
              "        }\n",
              "      </script>\n",
              "    </div>\n",
              "  </div>\n",
              "  "
            ]
          },
          "metadata": {},
          "execution_count": 162
        }
      ]
    },
    {
      "cell_type": "code",
      "source": [
        "y = df.iloc[:,1]\n",
        "y"
      ],
      "metadata": {
        "colab": {
          "base_uri": "https://localhost:8080/"
        },
        "id": "D_LjymoBgeTr",
        "outputId": "0cd5e1b6-3ecd-49c2-c6a7-5414dd781656"
      },
      "execution_count": null,
      "outputs": [
        {
          "output_type": "execute_result",
          "data": {
            "text/plain": [
              "0      M\n",
              "1      M\n",
              "2      M\n",
              "3      M\n",
              "4      M\n",
              "      ..\n",
              "564    M\n",
              "565    M\n",
              "566    M\n",
              "567    M\n",
              "568    B\n",
              "Name: diagnosis, Length: 569, dtype: object"
            ]
          },
          "metadata": {},
          "execution_count": 163
        }
      ]
    },
    {
      "cell_type": "code",
      "source": [
        "sns.countplot(df['diagnosis'])\n",
        "plt.show()"
      ],
      "metadata": {
        "colab": {
          "base_uri": "https://localhost:8080/",
          "height": 368
        },
        "id": "HDJFgPChi5fr",
        "outputId": "df967289-befc-466f-c364-3eba87aa9644"
      },
      "execution_count": null,
      "outputs": [
        {
          "output_type": "stream",
          "name": "stderr",
          "text": [
            "/usr/local/lib/python3.8/dist-packages/seaborn/_decorators.py:36: FutureWarning:\n",
            "\n",
            "Pass the following variable as a keyword arg: x. From version 0.12, the only valid positional argument will be `data`, and passing other arguments without an explicit keyword will result in an error or misinterpretation.\n",
            "\n"
          ]
        },
        {
          "output_type": "display_data",
          "data": {
            "text/plain": [
              "<Figure size 432x288 with 1 Axes>"
            ],
            "image/png": "[encoded data removed]"
          },
          "metadata": {
            "needs_background": "light"
          }
        }
      ]
    },
    {
      "cell_type": "code",
      "source": [
        "import plotly.express as px\n",
        "\n",
        "features = ['perimeter_mean','perimeter_se','perimeter_worst']\n",
        "fig = px.scatter_matrix(df, dimensions=features, color=\"diagnosis\")\n",
        "fig.show()"
      ],
      "metadata": {
        "colab": {
          "base_uri": "https://localhost:8080/",
          "height": 542
        },
        "id": "GpwLLHhcgbFg",
        "outputId": "491ff1dd-97b3-4379-924b-7e77509cafe9"
      },
      "execution_count": null,
      "outputs": [
        {
          "output_type": "display_data",
          "data": {
            "text/html": [
              "<html>\n",
              "<head><meta charset=\"utf-8\" /></head>\n",
              "<body>\n",
              "    <div>            <script src=\"https://cdnjs.cloudflare.com/ajax/libs/mathjax/2.7.5/MathJax.js?config=TeX-AMS-MML_SVG\"></script><script type=\"text/javascript\">if (window.MathJax) {MathJax.Hub.Config({SVG: {font: \"STIX-Web\"}});}</script>                <script type=\"text/javascript\">window.PlotlyConfig = {MathJaxConfig: 'local'};</script>\n",
              "        <script src=\"https://cdn.plot.ly/plotly-2.8.3.min.js\"></script>                <div id=\"8dd21dc5-b111-41dc-8c1e-9107a9520d3b\" class=\"plotly-graph-div\" style=\"height:525px; width:100%;\"></div>            <script type=\"text/javascript\">                                    window.PLOTLYENV=window.PLOTLYENV || {};                                    if (document.getElementById(\"8dd21dc5-b111-41dc-8c1e-9107a9520d3b\")) {                    Plotly.newPlot(                        \"8dd21dc5-b111-41dc-8c1e-9107a9520d3b\",                        [{\"dimensions\":[{\"axis\":{\"matches\":true},\"label\":\"perimeter_mean\",\"values\":[122.8,132.9,130.0,77.58,135.1,82.57,119.6,90.2,87.5,83.97,102.7,103.6,132.4,103.7,93.6,96.73,94.74,108.1,130.0,102.5,137.2,110.0,116.0,97.41,122.1,102.4,115.0,124.8,77.93,112.8,127.9,107.0,110.1,93.63,95.54,88.4,86.18,71.9,128.3,87.32,85.42,123.7,85.98,120.3,97.26,125.5,95.55,96.42,82.69,97.4,123.6,114.2,90.43,104.1,120.2,143.7,171.5,129.1,121.1,94.25,122.0,100.2,100.3,132.4,94.48,88.05,87.21,152.8,98.64,105.7,114.2,121.4,166.2,87.76,123.4,130.4,101.7,106.2,120.2,81.72,96.85,105.1,78.99,117.4,126.3,130.7,152.1,109.3,116.1,85.84,102.5,109.3,182.1,142.7,101.2,98.92,118.6,94.37,81.15,100.4,90.63,117.4,127.5,94.49,115.1,158.9,91.56,98.78,109.7,134.7,188.5,114.5,92.87,90.96,129.7,128.0,102.6,85.26,113.4,134.4,153.5,132.5,113.4,129.1,138.9,130.7,113.0,126.5,91.43,133.6,103.2,110.2,103.7,132.9,111.0,114.4,100.0,111.6,135.7,147.3,115.2,120.9,126.2,127.2,108.8,75.0,129.5,134.7,118.7,131.1,135.9,106.9,107.5,105.8,111.8,122.9,155.1,129.9,107.1,174.2,98.0,133.8,133.7,140.9,147.2,109.0,141.3,134.8,73.3,93.97,128.9,102.4,144.4,124.4,117.8,96.71,102.9,102.1,133.8,123.7,91.12,112.4,117.5,117.3,138.1,127.7,111.2,186.9,119.0,109.8,128.1,107.1,118.4,121.3,137.8,92.33,152.1,103.8,88.64,97.26,120.8,130.5,165.5,134.7,137.8,93.77,103.4,143.0,142.0,131.2,108.3,140.1]},{\"axis\":{\"matches\":true},\"label\":\"perimeter_se\",\"values\":[8.589,3.398,4.585,3.445,5.438,2.217,3.18,3.856,2.406,2.039,2.466,3.564,11.07,2.903,2.061,2.879,3.195,3.854,5.865,3.384,4.303,5.455,7.276,2.11,5.632,3.498,4.655,5.574,3.475,3.999,3.528,2.183,3.008,2.657,8.077,1.545,1.572,1.822,8.83,2.427,1.334,4.293,1.897,4.877,2.097,4.837,2.735,5.373,2.927,2.45,5.486,3.705,1.957,5.029,6.311,8.649,7.382,5.801,4.782,3.301,3.055,2.075,3.706,4.554,2.376,2.861,2.41,10.05,2.989,3.598,3.357,4.895,9.807,1.752,5.216,2.765,3.094,2.844,3.766,1.457,8.419,4.533,2.281,5.54,6.971,4.792,4.603,4.129,7.337,3.142,2.805,2.482,5.82,4.414,2.406,1.344,1.817,2.112,2.642,3.591,4.906,4.312,3.833,1.446,3.088,4.667,3.909,1.974,4.106,7.029,21.98,3.767,3.534,1.933,6.487,4.722,2.244,2.257,2.153,3.767,7.247,5.144,3.002,4.037,6.372,4.115,2.193,3.797,2.563,7.158,4.061,10.12,1.903,2.587,2.577,6.146,1.534,2.819,7.749,8.867,2.765,2.363,4.321,2.903,2.464,4.138,7.237,7.804,2.547,3.868,4.012,3.27,2.961,2.629,6.076,4.369,6.462,5.173,3.477,7.222,4.174,4.218,7.128,7.733,7.561,2.972,2.407,4.119,1.719,2.914,5.383,4.675,4.158,3.123,3.061,3.043,9.424,3.466,3.008,4.493,1.602,3.283,1.921,2.873,4.542,2.916,6.051,18.65,5.801,3.07,3.631,1.775,5.353,4.851,4.206,2.974,9.635,2.937,3.093,2.63,3.218,3.654,7.05,5.168,4.706,1.895,2.362,8.758,7.673,5.203,3.425,5.772]},{\"axis\":{\"matches\":true},\"label\":\"perimeter_worst\",\"values\":[184.6,158.8,152.5,98.87,152.2,103.4,153.2,110.6,106.2,97.65,123.8,136.5,151.7,112.0,108.8,124.1,123.4,136.8,186.8,125.1,188.0,177.0,152.4,122.4,139.9,149.3,134.9,160.5,119.4,136.1,161.4,132.7,133.5,116.2,95.54,107.3,102.5,87.22,177.4,113.1,105.5,150.6,102.8,135.1,117.7,170.1,115.7,119.1,111.8,114.6,165.9,151.6,110.3,128.8,150.1,170.3,211.7,141.3,152.2,108.4,152.9,107.5,123.5,156.1,109.5,108.6,106.4,206.8,127.1,130.3,129.2,145.4,180.9,113.2,148.2,148.7,124.9,129.7,145.6,92.04,121.4,129.0,91.93,132.9,146.6,174.9,184.2,130.7,155.3,116.6,125.0,123.5,220.8,176.5,129.3,113.8,139.2,106.4,101.7,118.6,111.6,129.1,166.4,117.9,139.5,177.0,128.5,117.7,130.0,158.3,188.5,120.4,115.0,104.4,170.3,180.2,125.9,105.3,133.5,162.7,206.0,161.7,141.2,144.9,165.3,159.8,130.9,163.1,108.1,178.6,119.8,143.7,126.3,162.3,128.2,137.9,115.9,140.5,214.0,195.9,135.1,129.0,159.8,152.4,126.9,85.1,171.1,158.8,140.9,150.2,171.1,129.8,113.7,124.3,143.2,161.1,202.4,157.6,119.4,229.3,121.2,161.2,160.0,199.5,195.0,129.3,152.1,166.8,91.76,102.2,142.0,142.1,172.0,149.6,138.1,110.1,157.1,125.4,146.0,145.3,113.9,132.8,133.3,145.4,168.2,139.8,152.1,251.2,143.6,122.1,153.9,127.3,143.4,146.4,163.2,106.0,211.5,117.7,113.3,113.8,142.2,160.5,205.7,152.0,160.2,104.3,128.7,179.1,166.1,155.0,126.7,184.6]}],\"hovertemplate\":\"diagnosis=M<br>%{xaxis.title.text}=%{x}<br>%{yaxis.title.text}=%{y}<extra></extra>\",\"legendgroup\":\"M\",\"marker\":{\"color\":\"#636efa\",\"symbol\":\"circle\"},\"name\":\"M\",\"showlegend\":true,\"type\":\"splom\"},{\"dimensions\":[{\"axis\":{\"matches\":true},\"label\":\"perimeter_mean\",\"values\":[87.46,85.63,60.34,82.61,51.71,78.04,86.91,74.72,87.21,75.71,73.34,82.61,54.34,64.55,54.66,59.2,60.11,71.8,58.79,81.37,58.79,79.19,87.91,83.19,73.81,86.49,76.95,79.78,95.77,94.57,84.74,86.6,77.79,62.11,74.34,43.79,77.22,63.95,67.41,75.17,79.01,72.48,62.5,82.15,97.83,68.64,55.84,76.53,58.74,73.34,94.28,86.1,88.44,99.58,79.08,102.0,74.72,73.06,73.0,61.24,73.66,83.74,68.26,78.11,97.84,93.97,88.12,83.51,53.27,63.78,70.87,85.31,78.27,108.4,76.84,68.69,76.1,79.85,95.5,68.77,96.22,78.85,70.21,67.49,54.42,64.6,82.01,81.29,73.53,63.76,74.68,75.27,78.83,82.02,60.73,82.53,78.54,81.09,62.92,87.02,98.17,75.51,77.32,65.05,87.88,88.59,65.12,84.55,92.51,66.62,97.45,81.35,71.76,70.79,60.21,89.79,92.55,87.38,78.61,73.93,88.54,66.72,84.13,84.95,68.01,73.87,73.28,69.28,87.16,82.38,69.5,90.3,72.23,61.5,76.2,71.79,86.24,88.99,74.24,84.08,79.83,77.87,81.89,73.72,72.17,96.03,97.03,83.14,75.54,81.78,88.06,69.14,91.22,66.85,80.43,66.86,73.59,74.23,84.07,56.36,85.69,82.71,74.33,92.68,82.29,73.73,54.09,79.19,77.25,60.07,78.6,66.52,82.82,78.01,81.25,90.03,76.09,84.52,71.94,71.38,77.88,84.08,64.41,94.15,61.64,71.49,75.03,66.2,76.66,94.87,73.02,77.23,73.7,71.24,81.92,85.09,88.52,56.74,59.82,79.42,85.24,81.87,106.6,85.48,78.31,97.65,87.84,106.3,70.15,85.89,88.27,73.16,70.67,78.75,80.64,85.79,78.78,88.37,73.38,65.75,55.27,78.07,89.75,88.1,83.05,70.31,75.26,76.14,84.18,83.18,78.29,70.39,104.3,82.63,78.41,72.49,70.92,59.75,97.53,76.39,59.6,80.88,70.95,74.2,98.22,75.46,89.46,61.93,63.19,67.49,68.79,70.47,80.98,81.47,94.89,82.67,89.78,88.68,89.59,71.73,88.37,66.82,77.61,95.88,94.25,76.83,76.77,93.86,80.62,86.34,74.87,84.1,82.61,61.68,92.25,73.88,84.28,86.87,85.98,61.06,76.38,61.49,76.85,96.45,77.42,70.41,82.89,92.41,88.97,73.99,78.29,88.73,87.32,87.76,102.8,82.85,94.21,75.49,78.18,114.6,78.83,84.06,96.12,82.69,80.45,98.73,81.25,61.49,64.12,79.47,71.25,104.7,76.31,94.66,94.29,72.76,84.45,82.51,59.96,71.3,88.73,63.0,54.53,87.44,78.94,90.31,77.83,75.89,75.21,87.76,70.79,76.37,47.98,48.34,74.65,95.81,94.7,84.88,89.77,87.19,65.31,65.85,61.05,68.89,68.51,71.49,81.35,59.01,82.5,65.67,64.73,59.26,96.39,74.52,91.38,70.67,47.92]},{\"axis\":{\"matches\":true},\"label\":\"perimeter_se\",\"values\":[2.058,1.383,1.909,1.17,1.094,1.848,1.735,2.635,1.449,1.52,2.183,2.595,1.046,3.312,2.493,2.608,1.66,1.831,1.885,1.471,3.168,1.74,2.652,1.778,2.077,1.535,1.441,2.203,3.814,2.279,2.701,2.099,2.41,2.132,1.475,1.553,1.183,1.528,2.302,2.155,0.8484,1.597,2.747,2.711,3.399,2.041,1.354,2.0,3.28,1.103,1.928,1.223,1.495,2.796,1.973,1.972,3.258,1.143,1.851,1.218,1.937,1.689,1.806,3.021,3.271,2.12,1.573,2.873,1.243,4.073,1.429,1.819,1.484,3.479,1.171,1.808,3.926,1.955,1.286,1.126,1.893,1.67,1.377,2.155,1.435,3.132,1.101,1.778,1.902,2.68,1.742,1.011,1.687,5.118,2.23,1.493,2.308,2.497,1.517,1.491,1.525,1.444,2.087,2.747,1.391,2.011,1.641,2.044,3.763,1.208,2.276,1.445,1.059,1.489,1.215,1.667,2.105,1.996,0.757,2.369,2.829,2.517,0.873,2.393,1.497,1.686,2.684,3.43,2.591,1.546,2.23,0.8439,1.164,1.75,4.021,1.565,1.683,1.83,3.717,2.347,1.721,3.198,1.115,2.877,1.954,4.36,2.171,1.231,1.234,1.34,1.479,1.267,1.661,2.289,2.579,1.035,2.475,1.961,1.204,1.144,1.509,2.567,1.109,1.954,2.346,1.107,2.222,1.047,1.438,3.769,2.487,1.597,1.614,1.959,1.566,1.558,1.466,2.465,1.959,1.529,1.199,0.9219,1.778,2.677,1.429,1.355,2.355,2.394,1.559,2.537,1.09,2.455,2.225,3.33,3.212,2.59,1.737,4.277,3.267,2.329,2.028,1.535,2.344,1.036,1.874,1.338,1.372,1.349,2.363,1.4,1.101,1.809,1.281,1.778,2.117,1.592,2.097,1.709,2.569,1.348,3.167,1.869,1.237,1.513,2.668,1.263,2.225,1.649,2.397,0.9975,2.602,3.018,1.729,2.552,2.079,1.359,1.342,1.174,2.31,1.93,2.759,1.527,1.968,2.206,4.795,1.667,1.804,4.607,1.184,2.564,2.24,0.968,2.109,2.204,1.612,2.597,2.644,2.331,1.606,2.806,2.235,1.277,1.865,1.482,1.994,1.955,1.516,2.143,1.116,2.287,2.15,1.314,1.657,1.243,1.727,1.303,1.236,3.369,2.312,2.275,3.027,2.569,4.099,1.826,2.884,1.301,1.195,2.749,1.392,1.567,1.678,2.056,1.102,1.564,1.143,5.004,1.471,2.554,1.577,3.163,2.108,2.326,1.596,1.696,1.253,2.304,1.566,3.014,1.787,0.9857,1.318,1.146,1.345,1.677,2.561,1.491,3.176,2.495,2.388,0.9812,2.284,1.976,1.069,1.443,0.7714,4.091,1.714,3.149,1.393,1.373,1.165,2.158,2.492,1.445,1.628,2.615,2.177,1.539,2.076,2.066,1.356,0.9887,2.054,3.564,2.115,1.994,1.477,2.121,1.502,1.437,1.648,3.618,2.224,1.936,2.888,2.041,2.548]},{\"axis\":{\"matches\":true},\"label\":\"perimeter_worst\",\"values\":[99.7,96.09,65.13,84.46,57.26,89.88,99.0,82.98,96.08,83.67,81.81,90.24,59.9,69.86,62.06,65.59,67.03,78.0,65.5,85.67,62.56,89.71,91.36,91.88,84.53,96.66,87.78,91.46,109.4,102.9,104.5,97.59,82.14,68.81,82.96,50.41,84.58,72.22,74.22,85.51,85.56,83.99,71.68,89.0,107.0,72.62,64.48,87.54,63.34,83.74,102.8,91.99,100.3,105.9,91.38,114.3,86.16,79.93,76.53,66.53,82.66,97.17,77.79,86.26,107.1,108.6,97.19,90.82,58.08,71.04,76.25,97.67,86.6,120.3,84.08,78.07,88.91,87.36,102.3,73.66,104.6,86.97,72.01,73.2,58.36,73.07,88.18,86.7,79.12,75.39,84.42,79.57,86.65,89.04,62.25,90.81,92.15,96.05,67.08,99.48,113.7,85.22,86.2,75.4,99.71,101.1,71.94,98.84,110.4,73.47,114.2,90.67,79.82,78.44,65.74,98.27,102.5,94.11,83.85,87.16,98.0,73.68,88.28,105.0,77.98,80.88,83.12,78.28,97.66,89.27,76.51,94.44,78.27,68.09,79.46,77.37,98.91,98.37,84.7,92.12,85.56,92.2,87.4,78.27,79.29,101.7,109.1,88.81,84.35,88.54,94.17,72.42,105.8,70.1,88.13,70.76,82.69,81.39,92.0,60.9,95.48,93.96,80.92,103.7,92.04,81.23,56.65,84.48,81.6,68.62,81.76,71.53,92.8,91.11,88.7,98.4,82.74,99.21,76.91,82.08,84.53,87.38,71.98,111.4,71.25,79.76,84.16,70.89,86.54,114.2,79.67,83.09,83.61,79.62,89.02,94.22,96.74,65.27,75.79,86.82,92.94,87.82,117.2,93.76,93.85,104.5,99.16,113.1,76.51,97.11,97.96,84.93,79.73,87.36,95.23,96.59,87.65,99.66,79.73,73.23,64.01,88.33,96.42,97.33,90.72,80.79,86.0,87.64,96.31,89.69,84.11,82.76,115.9,91.63,89.0,85.07,79.93,66.61,110.2,85.09,68.73,88.12,79.26,86.43,114.1,81.93,101.4,71.79,69.92,81.41,83.69,74.35,88.87,89.61,102.3,95.14,101.2,100.9,96.53,90.14,97.9,69.35,84.48,105.9,108.1,83.51,85.07,103.1,91.62,96.69,86.04,91.29,91.06,68.03,100.4,82.68,95.1,115.0,100.9,71.11,88.14,70.88,87.24,112.0,85.08,80.78,93.22,112.1,101.2,82.04,88.83,104.4,94.94,95.78,112.5,97.82,106.0,86.57,92.74,127.1,83.24,95.29,103.9,95.29,92.82,109.7,86.67,69.05,69.47,85.13,76.08,109.8,81.25,101.7,108.5,79.15,99.31,93.63,67.84,76.38,99.43,74.32,63.3,101.9,87.22,94.52,86.92,88.52,87.0,101.6,76.43,86.12,57.17,54.49,78.78,113.5,107.4,92.48,99.17,97.58,71.12,71.08,69.1,83.9,74.08,77.8,88.1,62.86,88.84,69.57,67.88,66.5,105.9,82.28,100.2,75.19,59.16]}],\"hovertemplate\":\"diagnosis=B<br>%{xaxis.title.text}=%{x}<br>%{yaxis.title.text}=%{y}<extra></extra>\",\"legendgroup\":\"B\",\"marker\":{\"color\":\"#EF553B\",\"symbol\":\"circle\"},\"name\":\"B\",\"showlegend\":true,\"type\":\"splom\"}],                        {\"template\":{\"data\":{\"bar\":[{\"error_x\":{\"color\":\"#2a3f5f\"},\"error_y\":{\"color\":\"#2a3f5f\"},\"marker\":{\"line\":{\"color\":\"#E5ECF6\",\"width\":0.5},\"pattern\":{\"fillmode\":\"overlay\",\"size\":10,\"solidity\":0.2}},\"type\":\"bar\"}],\"barpolar\":[{\"marker\":{\"line\":{\"color\":\"#E5ECF6\",\"width\":0.5},\"pattern\":{\"fillmode\":\"overlay\",\"size\":10,\"solidity\":0.2}},\"type\":\"barpolar\"}],\"carpet\":[{\"aaxis\":{\"endlinecolor\":\"#2a3f5f\",\"gridcolor\":\"white\",\"linecolor\":\"white\",\"minorgridcolor\":\"white\",\"startlinecolor\":\"#2a3f5f\"},\"baxis\":{\"endlinecolor\":\"#2a3f5f\",\"gridcolor\":\"white\",\"linecolor\":\"white\",\"minorgridcolor\":\"white\",\"startlinecolor\":\"#2a3f5f\"},\"type\":\"carpet\"}],\"choropleth\":[{\"colorbar\":{\"outlinewidth\":0,\"ticks\":\"\"},\"type\":\"choropleth\"}],\"contour\":[{\"colorbar\":{\"outlinewidth\":0,\"ticks\":\"\"},\"colorscale\":[[0.0,\"#0d0887\"],[0.1111111111111111,\"#46039f\"],[0.2222222222222222,\"#7201a8\"],[0.3333333333333333,\"#9c179e\"],[0.4444444444444444,\"#bd3786\"],[0.5555555555555556,\"#d8576b\"],[0.6666666666666666,\"#ed7953\"],[0.7777777777777778,\"#fb9f3a\"],[0.8888888888888888,\"#fdca26\"],[1.0,\"#f0f921\"]],\"type\":\"contour\"}],\"contourcarpet\":[{\"colorbar\":{\"outlinewidth\":0,\"ticks\":\"\"},\"type\":\"contourcarpet\"}],\"heatmap\":[{\"colorbar\":{\"outlinewidth\":0,\"ticks\":\"\"},\"colorscale\":[[0.0,\"#0d0887\"],[0.1111111111111111,\"#46039f\"],[0.2222222222222222,\"#7201a8\"],[0.3333333333333333,\"#9c179e\"],[0.4444444444444444,\"#bd3786\"],[0.5555555555555556,\"#d8576b\"],[0.6666666666666666,\"#ed7953\"],[0.7777777777777778,\"#fb9f3a\"],[0.8888888888888888,\"#fdca26\"],[1.0,\"#f0f921\"]],\"type\":\"heatmap\"}],\"heatmapgl\":[{\"colorbar\":{\"outlinewidth\":0,\"ticks\":\"\"},\"colorscale\":[[0.0,\"#0d0887\"],[0.1111111111111111,\"#46039f\"],[0.2222222222222222,\"#7201a8\"],[0.3333333333333333,\"#9c179e\"],[0.4444444444444444,\"#bd3786\"],[0.5555555555555556,\"#d8576b\"],[0.6666666666666666,\"#ed7953\"],[0.7777777777777778,\"#fb9f3a\"],[0.8888888888888888,\"#fdca26\"],[1.0,\"#f0f921\"]],\"type\":\"heatmapgl\"}],\"histogram\":[{\"marker\":{\"pattern\":{\"fillmode\":\"overlay\",\"size\":10,\"solidity\":0.2}},\"type\":\"histogram\"}],\"histogram2d\":[{\"colorbar\":{\"outlinewidth\":0,\"ticks\":\"\"},\"colorscale\":[[0.0,\"#0d0887\"],[0.1111111111111111,\"#46039f\"],[0.2222222222222222,\"#7201a8\"],[0.3333333333333333,\"#9c179e\"],[0.4444444444444444,\"#bd3786\"],[0.5555555555555556,\"#d8576b\"],[0.6666666666666666,\"#ed7953\"],[0.7777777777777778,\"#fb9f3a\"],[0.8888888888888888,\"#fdca26\"],[1.0,\"#f0f921\"]],\"type\":\"histogram2d\"}],\"histogram2dcontour\":[{\"colorbar\":{\"outlinewidth\":0,\"ticks\":\"\"},\"colorscale\":[[0.0,\"#0d0887\"],[0.1111111111111111,\"#46039f\"],[0.2222222222222222,\"#7201a8\"],[0.3333333333333333,\"#9c179e\"],[0.4444444444444444,\"#bd3786\"],[0.5555555555555556,\"#d8576b\"],[0.6666666666666666,\"#ed7953\"],[0.7777777777777778,\"#fb9f3a\"],[0.8888888888888888,\"#fdca26\"],[1.0,\"#f0f921\"]],\"type\":\"histogram2dcontour\"}],\"mesh3d\":[{\"colorbar\":{\"outlinewidth\":0,\"ticks\":\"\"},\"type\":\"mesh3d\"}],\"parcoords\":[{\"line\":{\"colorbar\":{\"outlinewidth\":0,\"ticks\":\"\"}},\"type\":\"parcoords\"}],\"pie\":[{\"automargin\":true,\"type\":\"pie\"}],\"scatter\":[{\"marker\":{\"colorbar\":{\"outlinewidth\":0,\"ticks\":\"\"}},\"type\":\"scatter\"}],\"scatter3d\":[{\"line\":{\"colorbar\":{\"outlinewidth\":0,\"ticks\":\"\"}},\"marker\":{\"colorbar\":{\"outlinewidth\":0,\"ticks\":\"\"}},\"type\":\"scatter3d\"}],\"scattercarpet\":[{\"marker\":{\"colorbar\":{\"outlinewidth\":0,\"ticks\":\"\"}},\"type\":\"scattercarpet\"}],\"scattergeo\":[{\"marker\":{\"colorbar\":{\"outlinewidth\":0,\"ticks\":\"\"}},\"type\":\"scattergeo\"}],\"scattergl\":[{\"marker\":{\"colorbar\":{\"outlinewidth\":0,\"ticks\":\"\"}},\"type\":\"scattergl\"}],\"scattermapbox\":[{\"marker\":{\"colorbar\":{\"outlinewidth\":0,\"ticks\":\"\"}},\"type\":\"scattermapbox\"}],\"scatterpolar\":[{\"marker\":{\"colorbar\":{\"outlinewidth\":0,\"ticks\":\"\"}},\"type\":\"scatterpolar\"}],\"scatterpolargl\":[{\"marker\":{\"colorbar\":{\"outlinewidth\":0,\"ticks\":\"\"}},\"type\":\"scatterpolargl\"}],\"scatterternary\":[{\"marker\":{\"colorbar\":{\"outlinewidth\":0,\"ticks\":\"\"}},\"type\":\"scatterternary\"}],\"surface\":[{\"colorbar\":{\"outlinewidth\":0,\"ticks\":\"\"},\"colorscale\":[[0.0,\"#0d0887\"],[0.1111111111111111,\"#46039f\"],[0.2222222222222222,\"#7201a8\"],[0.3333333333333333,\"#9c179e\"],[0.4444444444444444,\"#bd3786\"],[0.5555555555555556,\"#d8576b\"],[0.6666666666666666,\"#ed7953\"],[0.7777777777777778,\"#fb9f3a\"],[0.8888888888888888,\"#fdca26\"],[1.0,\"#f0f921\"]],\"type\":\"surface\"}],\"table\":[{\"cells\":{\"fill\":{\"color\":\"#EBF0F8\"},\"line\":{\"color\":\"white\"}},\"header\":{\"fill\":{\"color\":\"#C8D4E3\"},\"line\":{\"color\":\"white\"}},\"type\":\"table\"}]},\"layout\":{\"annotationdefaults\":{\"arrowcolor\":\"#2a3f5f\",\"arrowhead\":0,\"arrowwidth\":1},\"autotypenumbers\":\"strict\",\"coloraxis\":{\"colorbar\":{\"outlinewidth\":0,\"ticks\":\"\"}},\"colorscale\":{\"diverging\":[[0,\"#8e0152\"],[0.1,\"#c51b7d\"],[0.2,\"#de77ae\"],[0.3,\"#f1b6da\"],[0.4,\"#fde0ef\"],[0.5,\"#f7f7f7\"],[0.6,\"#e6f5d0\"],[0.7,\"#b8e186\"],[0.8,\"#7fbc41\"],[0.9,\"#4d9221\"],[1,\"#276419\"]],\"sequential\":[[0.0,\"#0d0887\"],[0.1111111111111111,\"#46039f\"],[0.2222222222222222,\"#7201a8\"],[0.3333333333333333,\"#9c179e\"],[0.4444444444444444,\"#bd3786\"],[0.5555555555555556,\"#d8576b\"],[0.6666666666666666,\"#ed7953\"],[0.7777777777777778,\"#fb9f3a\"],[0.8888888888888888,\"#fdca26\"],[1.0,\"#f0f921\"]],\"sequentialminus\":[[0.0,\"#0d0887\"],[0.1111111111111111,\"#46039f\"],[0.2222222222222222,\"#7201a8\"],[0.3333333333333333,\"#9c179e\"],[0.4444444444444444,\"#bd3786\"],[0.5555555555555556,\"#d8576b\"],[0.6666666666666666,\"#ed7953\"],[0.7777777777777778,\"#fb9f3a\"],[0.8888888888888888,\"#fdca26\"],[1.0,\"#f0f921\"]]},\"colorway\":[\"#636efa\",\"#EF553B\",\"#00cc96\",\"#ab63fa\",\"#FFA15A\",\"#19d3f3\",\"#FF6692\",\"#B6E880\",\"#FF97FF\",\"#FECB52\"],\"font\":{\"color\":\"#2a3f5f\"},\"geo\":{\"bgcolor\":\"white\",\"lakecolor\":\"white\",\"landcolor\":\"#E5ECF6\",\"showlakes\":true,\"showland\":true,\"subunitcolor\":\"white\"},\"hoverlabel\":{\"align\":\"left\"},\"hovermode\":\"closest\",\"mapbox\":{\"style\":\"light\"},\"paper_bgcolor\":\"white\",\"plot_bgcolor\":\"#E5ECF6\",\"polar\":{\"angularaxis\":{\"gridcolor\":\"white\",\"linecolor\":\"white\",\"ticks\":\"\"},\"bgcolor\":\"#E5ECF6\",\"radialaxis\":{\"gridcolor\":\"white\",\"linecolor\":\"white\",\"ticks\":\"\"}},\"scene\":{\"xaxis\":{\"backgroundcolor\":\"#E5ECF6\",\"gridcolor\":\"white\",\"gridwidth\":2,\"linecolor\":\"white\",\"showbackground\":true,\"ticks\":\"\",\"zerolinecolor\":\"white\"},\"yaxis\":{\"backgroundcolor\":\"#E5ECF6\",\"gridcolor\":\"white\",\"gridwidth\":2,\"linecolor\":\"white\",\"showbackground\":true,\"ticks\":\"\",\"zerolinecolor\":\"white\"},\"zaxis\":{\"backgroundcolor\":\"#E5ECF6\",\"gridcolor\":\"white\",\"gridwidth\":2,\"linecolor\":\"white\",\"showbackground\":true,\"ticks\":\"\",\"zerolinecolor\":\"white\"}},\"shapedefaults\":{\"line\":{\"color\":\"#2a3f5f\"}},\"ternary\":{\"aaxis\":{\"gridcolor\":\"white\",\"linecolor\":\"white\",\"ticks\":\"\"},\"baxis\":{\"gridcolor\":\"white\",\"linecolor\":\"white\",\"ticks\":\"\"},\"bgcolor\":\"#E5ECF6\",\"caxis\":{\"gridcolor\":\"white\",\"linecolor\":\"white\",\"ticks\":\"\"}},\"title\":{\"x\":0.05},\"xaxis\":{\"automargin\":true,\"gridcolor\":\"white\",\"linecolor\":\"white\",\"ticks\":\"\",\"title\":{\"standoff\":15},\"zerolinecolor\":\"white\",\"zerolinewidth\":2},\"yaxis\":{\"automargin\":true,\"gridcolor\":\"white\",\"linecolor\":\"white\",\"ticks\":\"\",\"title\":{\"standoff\":15},\"zerolinecolor\":\"white\",\"zerolinewidth\":2}}},\"legend\":{\"title\":{\"text\":\"diagnosis\"},\"tracegroupgap\":0},\"margin\":{\"t\":60},\"dragmode\":\"select\"},                        {\"responsive\": true}                    ).then(function(){\n",
              "                            \n",
              "var gd = document.getElementById('8dd21dc5-b111-41dc-8c1e-9107a9520d3b');\n",
              "var x = new MutationObserver(function (mutations, observer) {{\n",
              "        var display = window.getComputedStyle(gd).display;\n",
              "        if (!display || display === 'none') {{\n",
              "            console.log([gd, 'removed!']);\n",
              "            Plotly.purge(gd);\n",
              "            observer.disconnect();\n",
              "        }}\n",
              "}});\n",
              "\n",
              "// Listen for the removal of the full notebook cells\n",
              "var notebookContainer = gd.closest('#notebook-container');\n",
              "if (notebookContainer) {{\n",
              "    x.observe(notebookContainer, {childList: true});\n",
              "}}\n",
              "\n",
              "// Listen for the clearing of the current output cell\n",
              "var outputEl = gd.closest('.output');\n",
              "if (outputEl) {{\n",
              "    x.observe(outputEl, {childList: true});\n",
              "}}\n",
              "\n",
              "                        })                };                            </script>        </div>\n",
              "</body>\n",
              "</html>"
            ]
          },
          "metadata": {}
        }
      ]
    },
    {
      "cell_type": "markdown",
      "source": [
        "**Applying T-SNE Algorithm**"
      ],
      "metadata": {
        "id": "a-V43vfnEdB1"
      }
    },
    {
      "cell_type": "code",
      "source": [
        "from sklearn.model_selection import train_test_split\n",
        "X_train,X_test,y_train,y_test = train_test_split(X,y,test_size=0.2,random_state=0)"
      ],
      "metadata": {
        "id": "curDFgimhMhi"
      },
      "execution_count": null,
      "outputs": []
    },
    {
      "cell_type": "code",
      "source": [
        "from sklearn.preprocessing import StandardScaler\n",
        "\n",
        "sc = StandardScaler()\n",
        "X_train = sc.fit_transform(X_train)\n",
        "X_test = sc.transform(X_test)"
      ],
      "metadata": {
        "id": "Owq1T6A7kDpT"
      },
      "execution_count": null,
      "outputs": []
    },
    {
      "cell_type": "code",
      "source": [
        "from sklearn.manifold import TSNE\n",
        "res = TSNE(n_components=2,perplexity=30,n_iter=4000).fit_transform(X_train)"
      ],
      "metadata": {
        "colab": {
          "base_uri": "https://localhost:8080/"
        },
        "id": "E9o528-sggZC",
        "outputId": "36d35ad2-962b-430a-b29e-510b757a39d9"
      },
      "execution_count": null,
      "outputs": [
        {
          "output_type": "stream",
          "name": "stderr",
          "text": [
            "/usr/local/lib/python3.8/dist-packages/sklearn/manifold/_t_sne.py:780: FutureWarning:\n",
            "\n",
            "The default initialization in TSNE will change from 'random' to 'pca' in 1.2.\n",
            "\n",
            "/usr/local/lib/python3.8/dist-packages/sklearn/manifold/_t_sne.py:790: FutureWarning:\n",
            "\n",
            "The default learning rate in TSNE will change from 200.0 to 'auto' in 1.2.\n",
            "\n"
          ]
        }
      ]
    },
    {
      "cell_type": "markdown",
      "source": [
        "**2D plot for t-SNE**"
      ],
      "metadata": {
        "id": "mQ_mWDSckrzW"
      }
    },
    {
      "cell_type": "code",
      "source": [
        "tsne_df = pd.DataFrame({'X' : res[:,0],'Y' : res[:,1], 'classification' : y_train})"
      ],
      "metadata": {
        "id": "f-WKz2tGkUjc"
      },
      "execution_count": null,
      "outputs": []
    },
    {
      "cell_type": "code",
      "source": [
        "y_train_trf = y_train.astype('str')\n",
        "fig = px.scatter(tsne_df,x = 'X',y = 'Y',color = y_train_trf)\n",
        "fig.update_layout(margin = dict(l = 20,r=20,t=20,b=20))\n",
        "fig.show()"
      ],
      "metadata": {
        "colab": {
          "base_uri": "https://localhost:8080/",
          "height": 542
        },
        "id": "wH5UrqhLjZuu",
        "outputId": "77a2337d-baca-4cbd-c0f2-ed994675efb7"
      },
      "execution_count": null,
      "outputs": [
        {
          "output_type": "display_data",
          "data": {
            "text/html": [
              "<html>\n",
              "<head><meta charset=\"utf-8\" /></head>\n",
              "<body>\n",
              "    <div>            <script src=\"https://cdnjs.cloudflare.com/ajax/libs/mathjax/2.7.5/MathJax.js?config=TeX-AMS-MML_SVG\"></script><script type=\"text/javascript\">if (window.MathJax) {MathJax.Hub.Config({SVG: {font: \"STIX-Web\"}});}</script>                <script type=\"text/javascript\">window.PlotlyConfig = {MathJaxConfig: 'local'};</script>\n",
              "        <script src=\"https://cdn.plot.ly/plotly-2.8.3.min.js\"></script>                <div id=\"c1f0ff95-25b1-4ed3-b948-24928287cee0\" class=\"plotly-graph-div\" style=\"height:525px; width:100%;\"></div>            <script type=\"text/javascript\">                                    window.PLOTLYENV=window.PLOTLYENV || {};                                    if (document.getElementById(\"c1f0ff95-25b1-4ed3-b948-24928287cee0\")) {                    Plotly.newPlot(                        \"c1f0ff95-25b1-4ed3-b948-24928287cee0\",                        [{\"hovertemplate\":\"color=B<br>X=%{x}<br>Y=%{y}<extra></extra>\",\"legendgroup\":\"B\",\"marker\":{\"color\":\"#636efa\",\"symbol\":\"circle\"},\"mode\":\"markers\",\"name\":\"B\",\"orientation\":\"v\",\"showlegend\":true,\"x\":[11.777825355529785,12.987384796142578,-2.9321603775024414,-4.410757064819336,11.619492530822754,-0.27755364775657654,12.796672821044922,4.4823737144470215,6.19087553024292,10.568849563598633,-4.081677436828613,-0.5973994731903076,10.114675521850586,11.63237190246582,15.605080604553223,6.380311012268066,-4.079814910888672,2.1207802295684814,-0.8105178475379944,15.833012580871582,9.1770658493042,1.4382556676864624,9.913517951965332,7.8653388023376465,17.696409225463867,7.147674560546875,10.90970516204834,8.262611389160156,2.3170034885406494,3.5228703022003174,3.096219778060913,-5.482255458831787,12.4144868850708,5.354487419128418,5.605415344238281,11.17414665222168,5.320253372192383,4.425435543060303,5.713743209838867,13.79398250579834,17.9735107421875,4.18818998336792,10.685966491699219,6.568943023681641,12.931008338928223,-2.0152931213378906,1.1859508752822876,0.7008480429649353,4.340123176574707,15.381021499633789,-3.5315213203430176,18.03880500793457,-2.525545835494995,8.032769203186035,6.546079635620117,12.752201080322266,4.394667625427246,9.2599458694458,12.279729843139648,3.772679090499878,6.9583659172058105,-0.7103159427642822,8.805634498596191,4.691478729248047,11.880913734436035,0.6576924920082092,3.271871328353882,4.80927038192749,13.522138595581055,8.314689636230469,8.745929718017578,-1.738867998123169,1.0343689918518066,7.328660488128662,3.3415980339050293,15.466401100158691,1.4004931449890137,10.047677993774414,17.115833282470703,-4.107133865356445,-1.909233570098877,7.738630771636963,13.853889465332031,6.227910995483398,4.94325590133667,15.915009498596191,7.420382976531982,13.89422607421875,17.209415435791016,10.693668365478516,7.052007675170898,10.537740707397461,-1.7599115371704102,-0.19139628112316132,-1.3759621381759644,-4.704145431518555,19.586347579956055,18.887493133544922,9.90234661102295,12.108359336853027,16.670621871948242,20.917749404907227,1.4901055097579956,5.367307186126709,5.209245204925537,-6.038358211517334,8.745950698852539,5.599316596984863,6.989198207855225,7.933672904968262,3.5591063499450684,14.09456729888916,0.49761348962783813,20.894224166870117,7.839772701263428,8.890092849731445,6.061662673950195,12.921734809875488,5.9560675621032715,10.618722915649414,0.14087161421775818,12.326677322387695,15.567435264587402,0.5172697901725769,2.0698235034942627,14.506667137145996,5.506936550140381,4.747588157653809,6.042216777801514,6.176985740661621,6.154261112213135,5.002227306365967,7.1733503341674805,7.387990951538086,3.8313162326812744,5.871418476104736,-4.823671817779541,6.632359504699707,0.8388609886169434,12.73349666595459,19.367765426635742,18.622879028320312,-3.084658145904541,6.822883129119873,5.233372211456299,16.52499008178711,-0.4933910369873047,13.900503158569336,9.285898208618164,13.367364883422852,2.2330639362335205,7.423344612121582,13.167330741882324,7.394289970397949,4.279962062835693,-4.292445659637451,15.532333374023438,16.82175636291504,3.467799186706543,18.56609535217285,0.32722973823547363,13.504741668701172,2.2261574268341064,15.752671241760254,-3.7004055976867676,5.103437900543213,10.946674346923828,5.352184772491455,14.700183868408203,8.683321952819824,6.801566123962402,8.58242416381836,-2.213381052017212,14.564661979675293,11.038247108459473,19.749897003173828,5.9095916748046875,16.090505599975586,6.489845275878906,6.31144905090332,4.220606327056885,3.25535249710083,6.683253765106201,10.184837341308594,2.5484371185302734,3.024972677230835,15.547443389892578,7.042603969573975,3.7342019081115723,2.5832338333129883,7.979644775390625,13.53709602355957,3.953443765640259,14.178017616271973,20.024768829345703,-2.580293655395508,12.020214080810547,11.22150993347168,2.0966336727142334,3.883080005645752,-2.9267139434814453,6.204340934753418,4.473692893981934,7.8838067054748535,-9.158905029296875,-0.23253148794174194,-8.588996887207031,7.332230091094971,4.312882423400879,2.107393264770508,3.4810426235198975,16.713830947875977,15.448814392089844,1.6975891590118408,9.322709083557129,9.251909255981445,1.373637318611145,-5.502567768096924,12.157054901123047,10.663009643554688,4.687741756439209,8.607553482055664,10.755973815917969,0.5675988793373108,2.6462931632995605,9.094849586486816,10.271095275878906,-1.2363989353179932,12.371501922607422,11.501866340637207,12.634302139282227,17.475910186767578,4.465880870819092,3.8838002681732178,8.955958366394043,10.32474422454834,4.666646957397461,9.885377883911133,-1.7509276866912842,-0.8971292972564697,5.305081844329834,11.505820274353027,8.839264869689941,-0.24031734466552734,3.9290285110473633,4.486571788787842,-5.312911510467529,8.940055847167969,4.564159393310547,4.381157875061035,14.639135360717773,-1.0271180868148804,5.39382266998291,1.1341243982315063,3.4218714237213135,15.278182983398438,-1.1515178680419922,-2.6612682342529297,2.5271689891815186,2.553029775619507,7.813482761383057,1.569609522819519,-3.94063138961792,3.8957579135894775,4.779335021972656,14.801379203796387,8.395942687988281,-0.3596048057079315,2.162332773208618,18.56794548034668,1.2324802875518799,6.7208147048950195,18.008031845092773,6.249590873718262,8.582294464111328,-4.036816596984863,2.8897531032562256,-6.877341270446777,8.571568489074707,7.073086738586426,10.727174758911133,9.385685920715332,14.72911262512207,8.415374755859375,18.39438819885254,-2.31168794631958,-1.3918718099594116,19.533761978149414,16.696243286132812,21.377771377563477],\"xaxis\":\"x\",\"y\":[-4.473270893096924,-7.823666572570801,-5.280580043792725,-15.4267578125,-10.978150367736816,-7.198205471038818,-19.78767967224121,-12.18763256072998,0.4798427224159241,8.61956787109375,-3.6587111949920654,-11.835226058959961,4.150730609893799,-16.20020294189453,-2.543606758117676,-19.24665641784668,9.88876724243164,12.110856056213379,-14.419340133666992,-12.742746353149414,7.135038375854492,-10.564037322998047,0.8030487298965454,-8.650955200195312,0.3439788222312927,-21.31805419921875,-12.26007080078125,-19.214027404785156,6.4293999671936035,13.057209014892578,14.367281913757324,5.674894332885742,-3.413551092147827,-13.363452911376953,-17.216407775878906,-12.868827819824219,7.302685737609863,-10.238916397094727,-1.8180805444717407,-12.222885131835938,-1.5942555665969849,-0.7332044839859009,-2.386216878890991,-8.939163208007812,-1.906232476234436,-18.35756492614746,-2.094224214553833,-13.642433166503906,-3.3011178970336914,-12.959057807922363,-9.565078735351562,-1.738403558731079,-6.187199592590332,0.30352795124053955,-16.814329147338867,0.612493634223938,3.6146645545959473,6.62181282043457,-13.767971992492676,-13.3254976272583,-9.786720275878906,-12.539289474487305,-15.381429672241211,-8.435430526733398,7.789104461669922,5.132818222045898,0.9147727489471436,-18.988954544067383,-1.3604129552841187,-17.00162696838379,4.311593532562256,-3.487903118133545,-6.821211338043213,-11.992431640625,-9.461483001708984,-11.165620803833008,-12.455648422241211,-4.565676212310791,-17.58885383605957,-5.159604072570801,-8.87854290008545,-20.17007827758789,-9.214451789855957,-11.85035514831543,-9.504809379577637,0.07531199604272842,-22.649730682373047,-7.897174835205078,1.183305263519287,-17.874509811401367,-3.3601951599121094,-15.552631378173828,-1.7148184776306152,-9.884515762329102,-11.185647964477539,11.157891273498535,-7.889926433563232,-13.21371841430664,-12.61018180847168,2.6159567832946777,-17.13417625427246,-13.338454246520996,5.833530902862549,-18.161800384521484,-10.863472938537598,-15.47501277923584,9.357020378112793,-20.943477630615234,-17.245718002319336,2.6567347049713135,-8.250885963439941,2.6024086475372314,-5.8073954582214355,-11.57730770111084,-21.05147933959961,0.09440106153488159,-6.799488067626953,-14.339273452758789,-10.336602210998535,6.3509039878845215,-21.863319396972656,5.395310878753662,-2.520972490310669,-1.9686791896820068,-10.873266220092773,-7.932461738586426,-19.373605728149414,0.4169750213623047,1.6361970901489258,-22.06237030029297,-8.963032722473145,12.59757137298584,-23.82823944091797,8.589531898498535,-2.1667752265930176,4.646563529968262,-16.941913604736328,-7.343616485595703,-5.296438694000244,-12.592479705810547,-13.057897567749023,-15.475735664367676,-4.596719741821289,-2.3198111057281494,12.787638664245605,1.6364331245422363,-1.853760838508606,-11.868308067321777,-2.2557454109191895,0.8061895966529846,-13.88831615447998,-15.12280559539795,-13.335319519042969,-2.058917999267578,-18.519775390625,8.95658016204834,-6.850958347320557,-13.915796279907227,13.137151718139648,-13.82822322845459,-7.588273048400879,-4.770229339599609,-8.292795181274414,-5.207540512084961,6.726847171783447,-15.311543464660645,-1.6831389665603638,-1.9843274354934692,-1.9999818801879883,-13.197419166564941,5.953155517578125,7.908703327178955,-12.426037788391113,-11.98233699798584,6.778666019439697,-14.043176651000977,-7.414921760559082,-8.707884788513184,-14.969280242919922,-18.160259246826172,-19.88555335998535,-16.56754493713379,-12.243313789367676,-8.687477111816406,-9.276885986328125,8.380663871765137,0.9170252084732056,-20.810827255249023,14.800392150878906,1.750139594078064,-4.7950005531311035,-5.218739032745361,8.600715637207031,5.4251203536987305,-11.707688331604004,-4.93837308883667,-7.89574670791626,-9.90125560760498,-1.492903709411621,-8.866630554199219,-3.216097593307495,-15.998194694519043,-7.219022750854492,7.072972297668457,-0.5888397693634033,-12.888493537902832,-1.1322988271713257,-19.64668846130371,8.2789888381958,-15.408380508422852,12.446627616882324,-0.9179877638816833,5.2276105880737305,-12.700129508972168,2.5255706310272217,-16.83329200744629,-21.55263900756836,-0.0697268694639206,2.6388099193573,-15.555880546569824,-21.549846649169922,-6.399074554443359,-14.154154777526855,-16.00230598449707,-15.387391090393066,5.977113723754883,-17.925485610961914,-2.912569999694824,-2.9901552200317383,-6.911590576171875,-16.854679107666016,-14.1366548538208,0.5666886568069458,-12.317023277282715,-10.597567558288574,-4.9334611892700195,4.9289469718933105,-2.1000537872314453,-10.25239372253418,-10.97005558013916,-21.011751174926758,0.2585042119026184,-11.547706604003906,-10.963144302368164,0.847265362739563,-22.669458389282227,0.5152329206466675,3.8522682189941406,-6.469728469848633,-13.07411003112793,-9.325201988220215,-9.001556396484375,4.014927864074707,5.633199214935303,-6.693543910980225,5.909779071807861,-5.326758861541748,-2.0360379219055176,-7.721585273742676,-11.539595603942871,-7.580414295196533,-17.941314697265625,-0.10508035123348236,-17.771141052246094,10.68029499053955,-2.9521102905273438,0.0656551644206047,1.21038019657135,5.530945301055908,-14.821768760681152,-4.502699375152588,10.041613578796387,-13.672097206115723,-5.071483612060547,11.269137382507324,-0.015389379113912582,8.69394588470459,-0.3700834810733795,5.886796474456787,-4.56009578704834,9.044646263122559,-15.491493225097656,-6.464186191558838,-21.4479923248291,1.199086308479309,1.5301371812820435,-6.505748748779297,-7.792551517486572,-18.357954025268555,-12.255072593688965],\"yaxis\":\"y\",\"type\":\"scatter\"},{\"hovertemplate\":\"color=M<br>X=%{x}<br>Y=%{y}<extra></extra>\",\"legendgroup\":\"M\",\"marker\":{\"color\":\"#EF553B\",\"symbol\":\"circle\"},\"mode\":\"markers\",\"name\":\"M\",\"orientation\":\"v\",\"showlegend\":true,\"x\":[-5.1067681312561035,-22.327550888061523,-19.53365707397461,-7.938501358032227,-25.447608947753906,-21.764572143554688,-19.829465866088867,-6.470651626586914,-9.047392845153809,-7.6766533851623535,-10.791752815246582,-21.353343963623047,-15.201271057128906,-11.527414321899414,-3.602908134460449,-13.4457368850708,-12.685868263244629,-8.671334266662598,-20.867263793945312,-8.064647674560547,-18.25507926940918,-14.67563533782959,-5.952611446380615,-22.688274383544922,-26.05267906188965,-6.153706073760986,-10.75345516204834,-25.300527572631836,-17.031360626220703,-19.909805297851562,-25.40590476989746,-25.382160186767578,-20.08526039123535,-4.665371417999268,-8.917182922363281,-7.509645462036133,-22.311817169189453,-23.106416702270508,-7.311288356781006,-14.955510139465332,-17.6861572265625,-23.045747756958008,-3.76603364944458,-7.326545715332031,-5.3339385986328125,-15.264570236206055,-17.74774742126465,11.563921928405762,-27.26215362548828,-7.733377456665039,-15.973562240600586,-19.639732360839844,-22.929607391357422,-5.569697856903076,-22.53129005432129,-14.382227897644043,-5.343377113342285,-7.265761375427246,-13.21153736114502,-3.530691623687744,-21.623579025268555,-8.710038185119629,-19.31261444091797,-23.091541290283203,-20.291465759277344,-13.224135398864746,-16.54595947265625,-0.7382667064666748,-13.193827629089355,-6.385518550872803,-7.018101692199707,-21.5885009765625,-24.80550765991211,-5.124324321746826,-3.427048921585083,-10.245213508605957,-15.256294250488281,-19.824460983276367,-18.35593605041504,-18.473304748535156,-19.449724197387695,-27.64069366455078,-19.835426330566406,-4.9083476066589355,-9.513032913208008,-8.643142700195312,-18.112571716308594,-23.380462646484375,-7.0255446434021,-20.014188766479492,-20.81863784790039,15.174849510192871,-10.733530044555664,-4.8506855964660645,-18.524433135986328,-18.026594161987305,-18.055240631103516,-19.82577133178711,-6.27116060256958,-25.38894271850586,-9.220531463623047,-5.809709548950195,-19.69039535522461,-15.923285484313965,-26.88201332092285,-13.998804092407227,-21.993637084960938,-11.016786575317383,-5.790722370147705,-15.414247512817383,-18.66860008239746,-24.586505889892578,-6.963531494140625,-20.99108123779297,-9.468838691711426,-19.443559646606445,-26.497047424316406,-8.199631690979004,-3.420689105987549,-5.3376946449279785,-2.875612735748291,7.505144119262695,-25.707725524902344,-16.947370529174805,-5.528383255004883,-22.52390480041504,-4.61663818359375,-5.970560550689697,-9.852123260498047,-25.107954025268555,-14.04992961883545,-24.855958938598633,-27.660438537597656,-24.994237899780273,-23.646337509155273,-10.258122444152832,-16.463577270507812,-20.906633377075195,-21.053651809692383,-14.567497253417969,-26.5971736907959,-11.896791458129883,-5.489788055419922,-3.1693899631500244,-4.911266326904297,-26.522159576416016,-5.931173324584961,-13.211379051208496,-6.49533748626709,-14.332402229309082,-6.366158485412598,-24.97590446472168,-18.95234489440918,-19.434833526611328,-2.3689992427825928,-9.283771514892578,-18.051645278930664,-24.129838943481445,-9.776249885559082,-2.113346576690674,-12.460573196411133,-15.23819637298584,-20.54887580871582,-12.472631454467773,-4.081925392150879],\"xaxis\":\"x\",\"y\":[18.549406051635742,11.597024917602539,11.917474746704102,0.07746032625436783,12.99603271484375,8.86157512664795,14.31103801727295,-7.770157814025879,9.285840034484863,3.996443510055542,11.87575912475586,11.586791038513184,13.440620422363281,10.302428245544434,12.866084098815918,9.671314239501953,6.400158882141113,2.3032050132751465,8.382763862609863,1.6017543077468872,9.923707962036133,8.954668998718262,13.288443565368652,5.679173946380615,9.767049789428711,-16.824888229370117,0.6447444558143616,13.572061538696289,9.691317558288574,9.65859317779541,14.485809326171875,9.473274230957031,13.061258316040039,13.739692687988281,1.740495204925537,11.19412899017334,15.083749771118164,16.75020408630371,12.694931983947754,5.665668487548828,15.02243709564209,7.36664342880249,16.791791915893555,16.241722106933594,13.364850044250488,6.2568278312683105,4.038444519042969,-9.600934028625488,8.442814826965332,17.33608055114746,9.417579650878906,9.320693969726562,14.034796714782715,14.134254455566406,7.866325378417969,11.552397727966309,7.618758678436279,17.86635398864746,8.11126708984375,13.612565994262695,9.560701370239258,17.64965057373047,12.546834945678711,10.483274459838867,15.938517570495605,7.19736385345459,9.816608428955078,0.44862768054008484,12.569417953491211,5.873188495635986,9.222681045532227,12.9545316696167,9.01762580871582,-16.546871185302734,6.0614800453186035,14.876367568969727,6.840482711791992,20.138479232788086,13.755040168762207,12.281752586364746,3.7759666442871094,14.845301628112793,20.12158203125,10.982880592346191,16.610252380371094,13.54636001586914,8.971175193786621,9.58655071258545,10.027356147766113,8.589476585388184,12.567102432250977,-13.902374267578125,0.8969550132751465,2.80519700050354,11.656177520751953,11.437098503112793,15.82394790649414,5.812267780303955,12.354891777038574,6.192799091339111,2.4928905963897705,7.735304355621338,16.35161018371582,11.64340591430664,11.941963195800781,8.47644329071045,7.188521862030029,9.253192901611328,18.795862197875977,11.811172485351562,8.639363288879395,6.455687999725342,5.043941497802734,9.857828140258789,3.5301785469055176,7.634022235870361,7.777902126312256,10.735251426696777,3.2892563343048096,9.381858825683594,13.652691841125488,2.748342514038086,12.161296844482422,13.723030090332031,15.974150657653809,15.671531677246094,15.312639236450195,9.83449935913086,15.30791187286377,5.7124810218811035,7.967068195343018,15.070965766906738,14.812832832336426,12.154125213623047,11.011933326721191,11.143488883972168,17.199220657348633,12.147454261779785,15.397258758544922,4.876495838165283,12.594386100769043,8.689577102661133,12.137585639953613,14.873720169067383,2.709392547607422,10.919343948364258,16.309459686279297,16.719776153564453,10.63100814819336,4.350894927978516,14.831799507141113,7.947214603424072,13.59199333190918,11.127357482910156,3.004160165786743,12.980693817138672,12.805587768554688,16.296222686767578,11.33669376373291,3.2983193397521973,13.023183822631836,10.561820030212402,16.24758529663086,2.2140953540802,17.68629264831543],\"yaxis\":\"y\",\"type\":\"scatter\"}],                        {\"template\":{\"data\":{\"bar\":[{\"error_x\":{\"color\":\"#2a3f5f\"},\"error_y\":{\"color\":\"#2a3f5f\"},\"marker\":{\"line\":{\"color\":\"#E5ECF6\",\"width\":0.5},\"pattern\":{\"fillmode\":\"overlay\",\"size\":10,\"solidity\":0.2}},\"type\":\"bar\"}],\"barpolar\":[{\"marker\":{\"line\":{\"color\":\"#E5ECF6\",\"width\":0.5},\"pattern\":{\"fillmode\":\"overlay\",\"size\":10,\"solidity\":0.2}},\"type\":\"barpolar\"}],\"carpet\":[{\"aaxis\":{\"endlinecolor\":\"#2a3f5f\",\"gridcolor\":\"white\",\"linecolor\":\"white\",\"minorgridcolor\":\"white\",\"startlinecolor\":\"#2a3f5f\"},\"baxis\":{\"endlinecolor\":\"#2a3f5f\",\"gridcolor\":\"white\",\"linecolor\":\"white\",\"minorgridcolor\":\"white\",\"startlinecolor\":\"#2a3f5f\"},\"type\":\"carpet\"}],\"choropleth\":[{\"colorbar\":{\"outlinewidth\":0,\"ticks\":\"\"},\"type\":\"choropleth\"}],\"contour\":[{\"colorbar\":{\"outlinewidth\":0,\"ticks\":\"\"},\"colorscale\":[[0.0,\"#0d0887\"],[0.1111111111111111,\"#46039f\"],[0.2222222222222222,\"#7201a8\"],[0.3333333333333333,\"#9c179e\"],[0.4444444444444444,\"#bd3786\"],[0.5555555555555556,\"#d8576b\"],[0.6666666666666666,\"#ed7953\"],[0.7777777777777778,\"#fb9f3a\"],[0.8888888888888888,\"#fdca26\"],[1.0,\"#f0f921\"]],\"type\":\"contour\"}],\"contourcarpet\":[{\"colorbar\":{\"outlinewidth\":0,\"ticks\":\"\"},\"type\":\"contourcarpet\"}],\"heatmap\":[{\"colorbar\":{\"outlinewidth\":0,\"ticks\":\"\"},\"colorscale\":[[0.0,\"#0d0887\"],[0.1111111111111111,\"#46039f\"],[0.2222222222222222,\"#7201a8\"],[0.3333333333333333,\"#9c179e\"],[0.4444444444444444,\"#bd3786\"],[0.5555555555555556,\"#d8576b\"],[0.6666666666666666,\"#ed7953\"],[0.7777777777777778,\"#fb9f3a\"],[0.8888888888888888,\"#fdca26\"],[1.0,\"#f0f921\"]],\"type\":\"heatmap\"}],\"heatmapgl\":[{\"colorbar\":{\"outlinewidth\":0,\"ticks\":\"\"},\"colorscale\":[[0.0,\"#0d0887\"],[0.1111111111111111,\"#46039f\"],[0.2222222222222222,\"#7201a8\"],[0.3333333333333333,\"#9c179e\"],[0.4444444444444444,\"#bd3786\"],[0.5555555555555556,\"#d8576b\"],[0.6666666666666666,\"#ed7953\"],[0.7777777777777778,\"#fb9f3a\"],[0.8888888888888888,\"#fdca26\"],[1.0,\"#f0f921\"]],\"type\":\"heatmapgl\"}],\"histogram\":[{\"marker\":{\"pattern\":{\"fillmode\":\"overlay\",\"size\":10,\"solidity\":0.2}},\"type\":\"histogram\"}],\"histogram2d\":[{\"colorbar\":{\"outlinewidth\":0,\"ticks\":\"\"},\"colorscale\":[[0.0,\"#0d0887\"],[0.1111111111111111,\"#46039f\"],[0.2222222222222222,\"#7201a8\"],[0.3333333333333333,\"#9c179e\"],[0.4444444444444444,\"#bd3786\"],[0.5555555555555556,\"#d8576b\"],[0.6666666666666666,\"#ed7953\"],[0.7777777777777778,\"#fb9f3a\"],[0.8888888888888888,\"#fdca26\"],[1.0,\"#f0f921\"]],\"type\":\"histogram2d\"}],\"histogram2dcontour\":[{\"colorbar\":{\"outlinewidth\":0,\"ticks\":\"\"},\"colorscale\":[[0.0,\"#0d0887\"],[0.1111111111111111,\"#46039f\"],[0.2222222222222222,\"#7201a8\"],[0.3333333333333333,\"#9c179e\"],[0.4444444444444444,\"#bd3786\"],[0.5555555555555556,\"#d8576b\"],[0.6666666666666666,\"#ed7953\"],[0.7777777777777778,\"#fb9f3a\"],[0.8888888888888888,\"#fdca26\"],[1.0,\"#f0f921\"]],\"type\":\"histogram2dcontour\"}],\"mesh3d\":[{\"colorbar\":{\"outlinewidth\":0,\"ticks\":\"\"},\"type\":\"mesh3d\"}],\"parcoords\":[{\"line\":{\"colorbar\":{\"outlinewidth\":0,\"ticks\":\"\"}},\"type\":\"parcoords\"}],\"pie\":[{\"automargin\":true,\"type\":\"pie\"}],\"scatter\":[{\"marker\":{\"colorbar\":{\"outlinewidth\":0,\"ticks\":\"\"}},\"type\":\"scatter\"}],\"scatter3d\":[{\"line\":{\"colorbar\":{\"outlinewidth\":0,\"ticks\":\"\"}},\"marker\":{\"colorbar\":{\"outlinewidth\":0,\"ticks\":\"\"}},\"type\":\"scatter3d\"}],\"scattercarpet\":[{\"marker\":{\"colorbar\":{\"outlinewidth\":0,\"ticks\":\"\"}},\"type\":\"scattercarpet\"}],\"scattergeo\":[{\"marker\":{\"colorbar\":{\"outlinewidth\":0,\"ticks\":\"\"}},\"type\":\"scattergeo\"}],\"scattergl\":[{\"marker\":{\"colorbar\":{\"outlinewidth\":0,\"ticks\":\"\"}},\"type\":\"scattergl\"}],\"scattermapbox\":[{\"marker\":{\"colorbar\":{\"outlinewidth\":0,\"ticks\":\"\"}},\"type\":\"scattermapbox\"}],\"scatterpolar\":[{\"marker\":{\"colorbar\":{\"outlinewidth\":0,\"ticks\":\"\"}},\"type\":\"scatterpolar\"}],\"scatterpolargl\":[{\"marker\":{\"colorbar\":{\"outlinewidth\":0,\"ticks\":\"\"}},\"type\":\"scatterpolargl\"}],\"scatterternary\":[{\"marker\":{\"colorbar\":{\"outlinewidth\":0,\"ticks\":\"\"}},\"type\":\"scatterternary\"}],\"surface\":[{\"colorbar\":{\"outlinewidth\":0,\"ticks\":\"\"},\"colorscale\":[[0.0,\"#0d0887\"],[0.1111111111111111,\"#46039f\"],[0.2222222222222222,\"#7201a8\"],[0.3333333333333333,\"#9c179e\"],[0.4444444444444444,\"#bd3786\"],[0.5555555555555556,\"#d8576b\"],[0.6666666666666666,\"#ed7953\"],[0.7777777777777778,\"#fb9f3a\"],[0.8888888888888888,\"#fdca26\"],[1.0,\"#f0f921\"]],\"type\":\"surface\"}],\"table\":[{\"cells\":{\"fill\":{\"color\":\"#EBF0F8\"},\"line\":{\"color\":\"white\"}},\"header\":{\"fill\":{\"color\":\"#C8D4E3\"},\"line\":{\"color\":\"white\"}},\"type\":\"table\"}]},\"layout\":{\"annotationdefaults\":{\"arrowcolor\":\"#2a3f5f\",\"arrowhead\":0,\"arrowwidth\":1},\"autotypenumbers\":\"strict\",\"coloraxis\":{\"colorbar\":{\"outlinewidth\":0,\"ticks\":\"\"}},\"colorscale\":{\"diverging\":[[0,\"#8e0152\"],[0.1,\"#c51b7d\"],[0.2,\"#de77ae\"],[0.3,\"#f1b6da\"],[0.4,\"#fde0ef\"],[0.5,\"#f7f7f7\"],[0.6,\"#e6f5d0\"],[0.7,\"#b8e186\"],[0.8,\"#7fbc41\"],[0.9,\"#4d9221\"],[1,\"#276419\"]],\"sequential\":[[0.0,\"#0d0887\"],[0.1111111111111111,\"#46039f\"],[0.2222222222222222,\"#7201a8\"],[0.3333333333333333,\"#9c179e\"],[0.4444444444444444,\"#bd3786\"],[0.5555555555555556,\"#d8576b\"],[0.6666666666666666,\"#ed7953\"],[0.7777777777777778,\"#fb9f3a\"],[0.8888888888888888,\"#fdca26\"],[1.0,\"#f0f921\"]],\"sequentialminus\":[[0.0,\"#0d0887\"],[0.1111111111111111,\"#46039f\"],[0.2222222222222222,\"#7201a8\"],[0.3333333333333333,\"#9c179e\"],[0.4444444444444444,\"#bd3786\"],[0.5555555555555556,\"#d8576b\"],[0.6666666666666666,\"#ed7953\"],[0.7777777777777778,\"#fb9f3a\"],[0.8888888888888888,\"#fdca26\"],[1.0,\"#f0f921\"]]},\"colorway\":[\"#636efa\",\"#EF553B\",\"#00cc96\",\"#ab63fa\",\"#FFA15A\",\"#19d3f3\",\"#FF6692\",\"#B6E880\",\"#FF97FF\",\"#FECB52\"],\"font\":{\"color\":\"#2a3f5f\"},\"geo\":{\"bgcolor\":\"white\",\"lakecolor\":\"white\",\"landcolor\":\"#E5ECF6\",\"showlakes\":true,\"showland\":true,\"subunitcolor\":\"white\"},\"hoverlabel\":{\"align\":\"left\"},\"hovermode\":\"closest\",\"mapbox\":{\"style\":\"light\"},\"paper_bgcolor\":\"white\",\"plot_bgcolor\":\"#E5ECF6\",\"polar\":{\"angularaxis\":{\"gridcolor\":\"white\",\"linecolor\":\"white\",\"ticks\":\"\"},\"bgcolor\":\"#E5ECF6\",\"radialaxis\":{\"gridcolor\":\"white\",\"linecolor\":\"white\",\"ticks\":\"\"}},\"scene\":{\"xaxis\":{\"backgroundcolor\":\"#E5ECF6\",\"gridcolor\":\"white\",\"gridwidth\":2,\"linecolor\":\"white\",\"showbackground\":true,\"ticks\":\"\",\"zerolinecolor\":\"white\"},\"yaxis\":{\"backgroundcolor\":\"#E5ECF6\",\"gridcolor\":\"white\",\"gridwidth\":2,\"linecolor\":\"white\",\"showbackground\":true,\"ticks\":\"\",\"zerolinecolor\":\"white\"},\"zaxis\":{\"backgroundcolor\":\"#E5ECF6\",\"gridcolor\":\"white\",\"gridwidth\":2,\"linecolor\":\"white\",\"showbackground\":true,\"ticks\":\"\",\"zerolinecolor\":\"white\"}},\"shapedefaults\":{\"line\":{\"color\":\"#2a3f5f\"}},\"ternary\":{\"aaxis\":{\"gridcolor\":\"white\",\"linecolor\":\"white\",\"ticks\":\"\"},\"baxis\":{\"gridcolor\":\"white\",\"linecolor\":\"white\",\"ticks\":\"\"},\"bgcolor\":\"#E5ECF6\",\"caxis\":{\"gridcolor\":\"white\",\"linecolor\":\"white\",\"ticks\":\"\"}},\"title\":{\"x\":0.05},\"xaxis\":{\"automargin\":true,\"gridcolor\":\"white\",\"linecolor\":\"white\",\"ticks\":\"\",\"title\":{\"standoff\":15},\"zerolinecolor\":\"white\",\"zerolinewidth\":2},\"yaxis\":{\"automargin\":true,\"gridcolor\":\"white\",\"linecolor\":\"white\",\"ticks\":\"\",\"title\":{\"standoff\":15},\"zerolinecolor\":\"white\",\"zerolinewidth\":2}}},\"xaxis\":{\"anchor\":\"y\",\"domain\":[0.0,1.0],\"title\":{\"text\":\"X\"}},\"yaxis\":{\"anchor\":\"x\",\"domain\":[0.0,1.0],\"title\":{\"text\":\"Y\"}},\"legend\":{\"title\":{\"text\":\"color\"},\"tracegroupgap\":0},\"margin\":{\"t\":20,\"l\":20,\"r\":20,\"b\":20}},                        {\"responsive\": true}                    ).then(function(){\n",
              "                            \n",
              "var gd = document.getElementById('c1f0ff95-25b1-4ed3-b948-24928287cee0');\n",
              "var x = new MutationObserver(function (mutations, observer) {{\n",
              "        var display = window.getComputedStyle(gd).display;\n",
              "        if (!display || display === 'none') {{\n",
              "            console.log([gd, 'removed!']);\n",
              "            Plotly.purge(gd);\n",
              "            observer.disconnect();\n",
              "        }}\n",
              "}});\n",
              "\n",
              "// Listen for the removal of the full notebook cells\n",
              "var notebookContainer = gd.closest('#notebook-container');\n",
              "if (notebookContainer) {{\n",
              "    x.observe(notebookContainer, {childList: true});\n",
              "}}\n",
              "\n",
              "// Listen for the clearing of the current output cell\n",
              "var outputEl = gd.closest('.output');\n",
              "if (outputEl) {{\n",
              "    x.observe(outputEl, {childList: true});\n",
              "}}\n",
              "\n",
              "                        })                };                            </script>        </div>\n",
              "</body>\n",
              "</html>"
            ]
          },
          "metadata": {}
        }
      ]
    },
    {
      "cell_type": "markdown",
      "source": [
        "**3D for t-SNE**"
      ],
      "metadata": {
        "id": "dOY4sYZpk9Jc"
      }
    },
    {
      "cell_type": "code",
      "source": [
        "res = TSNE(n_components=3,perplexity=30,n_iter=4000).fit_transform(X_train)"
      ],
      "metadata": {
        "colab": {
          "base_uri": "https://localhost:8080/"
        },
        "id": "1My57rjRkvi8",
        "outputId": "dab353f1-d541-4117-ef1e-3cf77aac0a4a"
      },
      "execution_count": null,
      "outputs": [
        {
          "output_type": "stream",
          "name": "stderr",
          "text": [
            "/usr/local/lib/python3.8/dist-packages/sklearn/manifold/_t_sne.py:780: FutureWarning:\n",
            "\n",
            "The default initialization in TSNE will change from 'random' to 'pca' in 1.2.\n",
            "\n",
            "/usr/local/lib/python3.8/dist-packages/sklearn/manifold/_t_sne.py:790: FutureWarning:\n",
            "\n",
            "The default learning rate in TSNE will change from 200.0 to 'auto' in 1.2.\n",
            "\n"
          ]
        }
      ]
    },
    {
      "cell_type": "code",
      "source": [
        "tsne_df = pd.DataFrame({'X' : res[:,0],'Y' : res[:,1], 'Z': res[:,2], 'classification' : y_train})"
      ],
      "metadata": {
        "id": "KiEGtPGEkQGs"
      },
      "execution_count": null,
      "outputs": []
    },
    {
      "cell_type": "code",
      "source": [
        "tsne_df.head()"
      ],
      "metadata": {
        "colab": {
          "base_uri": "https://localhost:8080/",
          "height": 206
        },
        "id": "WXwRvrCSkfRy",
        "outputId": "528e8fb0-b36e-44b4-f69d-470fb6b0c88b"
      },
      "execution_count": null,
      "outputs": [
        {
          "output_type": "execute_result",
          "data": {
            "text/plain": [
              "              X           Y           Z classification\n",
              "338   58.247894  119.738602   42.179333              B\n",
              "427   83.278740   81.140083  118.664436              B\n",
              "406 -191.103500   28.980747  -52.693256              B\n",
              "96  -106.927132  -19.576754  199.218979              B\n",
              "490   30.231339  122.123344  127.256783              B"
            ],
            "text/html": [
              "\n",
              "  <div id=\"df-22627787-403d-4309-b4fa-c6edc47c6314\">\n",
              "    <div class=\"colab-df-container\">\n",
              "      <div>\n",
              "<style scoped>\n",
              "    .dataframe tbody tr th:only-of-type {\n",
              "        vertical-align: middle;\n",
              "    }\n",
              "\n",
              "    .dataframe tbody tr th {\n",
              "        vertical-align: top;\n",
              "    }\n",
              "\n",
              "    .dataframe thead th {\n",
              "        text-align: right;\n",
              "    }\n",
              "</style>\n",
              "<table border=\"1\" class=\"dataframe\">\n",
              "  <thead>\n",
              "    <tr style=\"text-align: right;\">\n",
              "      <th></th>\n",
              "      <th>X</th>\n",
              "      <th>Y</th>\n",
              "      <th>Z</th>\n",
              "      <th>classification</th>\n",
              "    </tr>\n",
              "  </thead>\n",
              "  <tbody>\n",
              "    <tr>\n",
              "      <th>338</th>\n",
              "      <td>58.247894</td>\n",
              "      <td>119.738602</td>\n",
              "      <td>42.179333</td>\n",
              "      <td>B</td>\n",
              "    </tr>\n",
              "    <tr>\n",
              "      <th>427</th>\n",
              "      <td>83.278740</td>\n",
              "      <td>81.140083</td>\n",
              "      <td>118.664436</td>\n",
              "      <td>B</td>\n",
              "    </tr>\n",
              "    <tr>\n",
              "      <th>406</th>\n",
              "      <td>-191.103500</td>\n",
              "      <td>28.980747</td>\n",
              "      <td>-52.693256</td>\n",
              "      <td>B</td>\n",
              "    </tr>\n",
              "    <tr>\n",
              "      <th>96</th>\n",
              "      <td>-106.927132</td>\n",
              "      <td>-19.576754</td>\n",
              "      <td>199.218979</td>\n",
              "      <td>B</td>\n",
              "    </tr>\n",
              "    <tr>\n",
              "      <th>490</th>\n",
              "      <td>30.231339</td>\n",
              "      <td>122.123344</td>\n",
              "      <td>127.256783</td>\n",
              "      <td>B</td>\n",
              "    </tr>\n",
              "  </tbody>\n",
              "</table>\n",
              "</div>\n",
              "      <button class=\"colab-df-convert\" onclick=\"convertToInteractive('df-22627787-403d-4309-b4fa-c6edc47c6314')\"\n",
              "              title=\"Convert this dataframe to an interactive table.\"\n",
              "              style=\"display:none;\">\n",
              "        \n",
              "  <svg xmlns=\"http://www.w3.org/2000/svg\" height=\"24px\"viewBox=\"0 0 24 24\"\n",
              "       width=\"24px\">\n",
              "    <path d=\"M0 0h24v24H0V0z\" fill=\"none\"/>\n",
              "    <path d=\"M18.56 5.44l.94 2.06.94-2.06 2.06-.94-2.06-.94-.94-2.06-.94 2.06-2.06.94zm-11 1L8.5 8.5l.94-2.06 2.06-.94-2.06-.94L8.5 2.5l-.94 2.06-2.06.94zm10 10l.94 2.06.94-2.06 2.06-.94-2.06-.94-.94-2.06-.94 2.06-2.06.94z\"/><path d=\"M17.41 7.96l-1.37-1.37c-.4-.4-.92-.59-1.43-.59-.52 0-1.04.2-1.43.59L10.3 9.45l-7.72 7.72c-.78.78-.78 2.05 0 2.83L4 21.41c.39.39.9.59 1.41.59.51 0 1.02-.2 1.41-.59l7.78-7.78 2.81-2.81c.8-.78.8-2.07 0-2.86zM5.41 20L4 18.59l7.72-7.72 1.47 1.35L5.41 20z\"/>\n",
              "  </svg>\n",
              "      </button>\n",
              "      \n",
              "  <style>\n",
              "    .colab-df-container {\n",
              "      display:flex;\n",
              "      flex-wrap:wrap;\n",
              "      gap: 12px;\n",
              "    }\n",
              "\n",
              "    .colab-df-convert {\n",
              "      background-color: #E8F0FE;\n",
              "      border: none;\n",
              "      border-radius: 50%;\n",
              "      cursor: pointer;\n",
              "      display: none;\n",
              "      fill: #1967D2;\n",
              "      height: 32px;\n",
              "      padding: 0 0 0 0;\n",
              "      width: 32px;\n",
              "    }\n",
              "\n",
              "    .colab-df-convert:hover {\n",
              "      background-color: #E2EBFA;\n",
              "      box-shadow: 0px 1px 2px rgba(60, 64, 67, 0.3), 0px 1px 3px 1px rgba(60, 64, 67, 0.15);\n",
              "      fill: #174EA6;\n",
              "    }\n",
              "\n",
              "    [theme=dark] .colab-df-convert {\n",
              "      background-color: #3B4455;\n",
              "      fill: #D2E3FC;\n",
              "    }\n",
              "\n",
              "    [theme=dark] .colab-df-convert:hover {\n",
              "      background-color: #434B5C;\n",
              "      box-shadow: 0px 1px 3px 1px rgba(0, 0, 0, 0.15);\n",
              "      filter: drop-shadow(0px 1px 2px rgba(0, 0, 0, 0.3));\n",
              "      fill: #FFFFFF;\n",
              "    }\n",
              "  </style>\n",
              "\n",
              "      <script>\n",
              "        const buttonEl =\n",
              "          document.querySelector('#df-22627787-403d-4309-b4fa-c6edc47c6314 button.colab-df-convert');\n",
              "        buttonEl.style.display =\n",
              "          google.colab.kernel.accessAllowed ? 'block' : 'none';\n",
              "\n",
              "        async function convertToInteractive(key) {\n",
              "          const element = document.querySelector('#df-22627787-403d-4309-b4fa-c6edc47c6314');\n",
              "          const dataTable =\n",
              "            await google.colab.kernel.invokeFunction('convertToInteractive',\n",
              "                                                     [key], {});\n",
              "          if (!dataTable) return;\n",
              "\n",
              "          const docLinkHtml = 'Like what you see? Visit the ' +\n",
              "            '<a target=\"_blank\" href=https://colab.research.google.com/notebooks/data_table.ipynb>data table notebook</a>'\n",
              "            + ' to learn more about interactive tables.';\n",
              "          element.innerHTML = '';\n",
              "          dataTable['output_type'] = 'display_data';\n",
              "          await google.colab.output.renderOutput(dataTable, element);\n",
              "          const docLink = document.createElement('div');\n",
              "          docLink.innerHTML = docLinkHtml;\n",
              "          element.appendChild(docLink);\n",
              "        }\n",
              "      </script>\n",
              "    </div>\n",
              "  </div>\n",
              "  "
            ]
          },
          "metadata": {},
          "execution_count": 173
        }
      ]
    },
    {
      "cell_type": "code",
      "source": [
        "tsne_df['classification'].value_counts()"
      ],
      "metadata": {
        "colab": {
          "base_uri": "https://localhost:8080/"
        },
        "id": "SGNhvUuPkhxR",
        "outputId": "ee0aa938-4928-4e11-b225-34c45343e1bd"
      },
      "execution_count": null,
      "outputs": [
        {
          "output_type": "execute_result",
          "data": {
            "text/plain": [
              "B    290\n",
              "M    165\n",
              "Name: classification, dtype: int64"
            ]
          },
          "metadata": {},
          "execution_count": 174
        }
      ]
    },
    {
      "cell_type": "markdown",
      "source": [
        "**3D Plot after applying T-SNE**"
      ],
      "metadata": {
        "id": "PBK5dpG4Ehx9"
      }
    },
    {
      "cell_type": "code",
      "source": [
        "import plotly.express as px\n",
        "y_train_trf = y_train.astype('str')\n",
        "fig = px.scatter_3d(tsne_df,x = 'X',y = 'Y',z = 'Z',color = y_train_trf)\n",
        "fig.update_layout(margin = dict(l = 20,r=20,t=20,b=20))\n",
        "fig.show()"
      ],
      "metadata": {
        "colab": {
          "base_uri": "https://localhost:8080/",
          "height": 542
        },
        "id": "b6fvOj0epIsj",
        "outputId": "2a4db519-4970-4ffe-88a1-440c4574f5a2"
      },
      "execution_count": null,
      "outputs": [
        {
          "output_type": "display_data",
          "data": {
            "text/html": [
              "<html>\n",
              "<head><meta charset=\"utf-8\" /></head>\n",
              "<body>\n",
              "    <div>            <script src=\"https://cdnjs.cloudflare.com/ajax/libs/mathjax/2.7.5/MathJax.js?config=TeX-AMS-MML_SVG\"></script><script type=\"text/javascript\">if (window.MathJax) {MathJax.Hub.Config({SVG: {font: \"STIX-Web\"}});}</script>                <script type=\"text/javascript\">window.PlotlyConfig = {MathJaxConfig: 'local'};</script>\n",
              "        <script src=\"https://cdn.plot.ly/plotly-2.8.3.min.js\"></script>                <div id=\"56c650a0-c0c1-464b-a21c-ea60fbe1bc30\" class=\"plotly-graph-div\" style=\"height:525px; width:100%;\"></div>            <script type=\"text/javascript\">                                    window.PLOTLYENV=window.PLOTLYENV || {};                                    if (document.getElementById(\"56c650a0-c0c1-464b-a21c-ea60fbe1bc30\")) {                    Plotly.newPlot(                        \"56c650a0-c0c1-464b-a21c-ea60fbe1bc30\",                        [{\"hovertemplate\":\"color=B<br>X=%{x}<br>Y=%{y}<br>Z=%{z}<extra></extra>\",\"legendgroup\":\"B\",\"marker\":{\"color\":\"#636efa\",\"symbol\":\"circle\"},\"mode\":\"markers\",\"name\":\"B\",\"scene\":\"scene\",\"showlegend\":true,\"x\":[58.247894287109375,83.27873992919922,-191.10350036621094,-106.92713165283203,30.231338500976562,-240.17507934570312,-82.18756103515625,-63.659183502197266,229.56646728515625,175.8995819091797,-118.98304748535156,189.40025329589844,151.2010498046875,-121.97789001464844,172.21055603027344,-256.6015625,-42.226375579833984,209.36134338378906,-242.7264862060547,60.758995056152344,204.49301147460938,-264.93994140625,247.3231964111328,-67.50584411621094,51.67570495605469,-127.37016296386719,-2.4532716274261475,-113.5716781616211,140.71591186523438,205.33523559570312,153.26263427734375,-39.44697189331055,95.49433898925781,-129.59170532226562,-147.52816772460938,-187.39694213867188,136.2460479736328,-122.66584014892578,41.346046447753906,9.645788192749023,61.366188049316406,-50.08073806762695,76.84344482421875,-106.98961639404297,190.78746032714844,74.24278259277344,-158.76243591308594,-8.918169021606445,-36.797706604003906,63.6944580078125,-325.0506896972656,30.055097579956055,-209.80587768554688,148.16293334960938,-136.3644561767578,-30.803363800048828,33.707515716552734,223.67713928222656,6.50894832611084,-101.62654113769531,-175.16259765625,49.6106071472168,-40.20661163330078,-88.57302856445312,264.61322021484375,-42.26924133300781,221.0122528076172,-184.1928253173828,158.7587890625,117.2034683227539,144.37831115722656,-130.27804565429688,-188.05368041992188,-121.2936782836914,-172.63922119140625,14.805863380432129,-228.8173370361328,44.20280838012695,49.35899353027344,-173.6857452392578,-125.3047866821289,-41.15195083618164,3.2064294815063477,-143.83656311035156,-98.56510925292969,121.34889221191406,-124.12779998779297,-45.75412368774414,96.02249908447266,-199.83831787109375,25.949909210205078,-156.70523071289062,284.64892578125,-301.16375732421875,-269.0086364746094,17.314617156982422,-163.64369201660156,269.2303161621094,13.361919403076172,73.29936218261719,30.451581954956055,-26.28546142578125,-2.687418222427368,-193.9833984375,-173.55592346191406,-96.5990219116211,220.93995666503906,-216.50521850585938,-173.72552490234375,111.75674438476562,-138.72802734375,-11.221909523010254,-272.65618896484375,166.81533813476562,-132.0781707763672,209.39495849609375,-29.526630401611328,-80.96876525878906,-153.3821563720703,269.8360900878906,-128.25302124023438,281.67462158203125,-127.75103759765625,-135.10150146484375,-257.74114990234375,-77.14457702636719,-228.20774841308594,200.77525329589844,203.28790283203125,-136.50518798828125,-88.78924560546875,232.57772827148438,-77.4546890258789,235.75746154785156,93.40499877929688,-256.6849670410156,-34.38224411010742,-25.155855178833008,-253.03842163085938,-15.290030479431152,136.62017822265625,253.3941650390625,-155.96185302734375,64.35713958740234,246.6878204345703,105.56526184082031,-177.13766479492188,12.356939315795898,24.94495964050293,55.565589904785156,78.3609619140625,-96.67498016357422,-64.78507232666016,82.1241455078125,-190.13124084472656,55.97150802612305,-49.67250061035156,-239.58729553222656,184.3050079345703,127.40591430664062,-221.8462677001953,-95.89218139648438,-209.57684326171875,-127.69841003417969,-26.116352081298828,-100.39242553710938,117.54905700683594,13.473760604858398,153.23300170898438,-35.60108947753906,89.84278869628906,153.96595764160156,111.91569519042969,-91.97440338134766,239.0978240966797,130.21775817871094,-52.26686477661133,-13.978407859802246,-84.14859008789062,-188.6776580810547,-221.9338836669922,-169.77340698242188,-108.38375091552734,-123.58118438720703,-188.51905822753906,147.55030822753906,139.07530212402344,-172.7901153564453,186.8591766357422,-26.03923225402832,52.31523895263672,-128.9833221435547,188.86866760253906,217.13375854492188,186.61720275878906,-175.83189392089844,39.688716888427734,-17.253253936767578,169.64083862304688,-128.80307006835938,-114.96681213378906,-139.69126892089844,-114.83641815185547,192.61886596679688,-84.59052276611328,62.48674011230469,-80.97620391845703,-78.449462890625,160.26971435546875,-225.30397033691406,170.93768310546875,81.55155181884766,123.50133514404297,-200.10369873046875,107.05055236816406,-153.65887451171875,-155.1310272216797,-93.57177734375,51.88123321533203,-91.49251556396484,-175.3930206298828,1.0049790143966675,-133.92352294921875,-272.647216796875,-200.11737060546875,194.59083557128906,-205.83067321777344,-143.17245483398438,-48.35640335083008,22.378320693969727,-156.31248474121094,84.63007354736328,238.13702392578125,-49.8358039855957,-55.056026458740234,35.69623947143555,14.070723533630371,-2.930666208267212,-116.62843322753906,284.3428955078125,-186.39671325683594,287.1641540527344,-63.72607421875,-310.376708984375,-48.24690246582031,-135.4239501953125,-83.27747344970703,129.2637939453125,-122.18001556396484,-69.02872467041016,-36.925018310546875,-100.7336196899414,-243.32080078125,-40.09682083129883,-153.1934814453125,126.39022827148438,-169.96517944335938,-122.36990356445312,-231.15159606933594,-122.84302520751953,-67.75802612304688,-271.3608093261719,-141.56980895996094,-216.20896911621094,187.9603729248047,131.51779174804688,209.7719268798828,-90.78089904785156,141.52719116210938,103.25973510742188,-282.5783996582031,253.21669006347656,90.99249267578125,-20.74125862121582,125.7418212890625,-113.66459655761719,141.90826416015625,-86.74401092529297,180.04928588867188,19.216110229492188,158.61245727539062,-77.38233184814453,-71.86666107177734,-146.21607971191406,66.47978210449219,20.924327850341797,-244.6107940673828,-167.42947387695312,5.38508415222168,-27.232336044311523],\"y\":[119.73860168457031,81.14008331298828,28.98074722290039,-19.576753616333008,122.12334442138672,12.577423095703125,163.85098266601562,133.27932739257812,83.91267395019531,9.223544120788574,-0.8465918302536011,147.51730346679688,113.63146209716797,227.7866668701172,204.4698028564453,187.2227783203125,-178.43923950195312,-142.14166259765625,97.10543060302734,47.497554779052734,-39.57665252685547,54.3961181640625,108.03173065185547,84.63871765136719,183.4728240966797,180.4444580078125,153.05665588378906,146.0331268310547,-81.49253845214844,-179.95652770996094,-187.02259826660156,-57.10239791870117,144.24916076660156,116.12556457519531,200.93978881835938,-135.75460815429688,-31.710878372192383,0.9306263327598572,-47.02842712402344,102.70771026611328,248.67066955566406,-60.39620590209961,157.42105102539062,52.79081344604492,244.2838592529297,201.61923217773438,-162.31005859375,248.35057067871094,-16.515811920166016,84.40520477294922,-51.5400505065918,232.9225311279297,-16.77210235595703,43.799072265625,217.7195281982422,-96.9054183959961,-120.77339172363281,-14.77261734008789,186.84019470214844,144.39739990234375,77.39765167236328,265.9328308105469,256.5513000488281,-2.5845227241516113,-25.145231246948242,202.61392211914062,138.16741943359375,245.1967315673828,210.9463348388672,81.8243179321289,35.1954231262207,-88.06929016113281,-54.72822570800781,126.79081726074219,-17.96419334411621,54.1274299621582,-93.9570541381836,53.82400894165039,121.94641876220703,50.76438903808594,-77.28295135498047,25.29339027404785,141.86004638671875,114.96266174316406,27.801776885986328,225.5701141357422,222.08668518066406,87.07779693603516,179.45242309570312,191.0096435546875,24.272939682006836,-151.02479553222656,-114.4317855834961,21.325443267822266,21.06133270263672,-168.7212677001953,147.2167205810547,44.40870666503906,190.2521514892578,-39.80703353881836,152.00775146484375,95.19230651855469,176.8473358154297,172.0929718017578,17.704214096069336,-37.94239807128906,-2.3406729698181152,205.10745239257812,244.51231384277344,10.123223304748535,14.601655006408691,-27.48495101928711,-26.09427833557129,102.84576416015625,168.9379425048828,70.1963119506836,78.70652770996094,149.32254028320312,65.63665771484375,-3.8842480182647705,150.53860473632812,41.8553581237793,-104.81404113769531,-141.24290466308594,74.42428588867188,112.8972396850586,230.53541564941406,121.42988586425781,224.4801025390625,222.80799865722656,68.77671813964844,-123.5539321899414,232.5939483642578,-74.77944946289062,58.21320724487305,-34.93747329711914,-58.130409240722656,58.56438064575195,-39.74998092651367,141.2808837890625,88.62467193603516,241.05126953125,12.93955135345459,-3.7582669258117676,-151.91232299804688,139.74966430664062,-113.68540954589844,67.430908203125,-40.618282318115234,139.863037109375,183.8519287109375,280.635009765625,154.14523315429688,-13.183571815490723,194.40414428710938,-91.951171875,13.136860847473145,131.89869689941406,-149.7506103515625,70.34087371826172,-22.264057159423828,36.5472526550293,33.29915237426758,106.72003936767578,-117.95797729492188,213.12469482421875,142.4253692626953,-20.243566513061523,177.76893615722656,206.6345977783203,-71.43195343017578,-48.88080978393555,278.9390869140625,-192.42510986328125,6.454068660736084,33.44367599487305,28.89925193786621,46.56540298461914,248.23802185058594,203.14959716796875,237.676025390625,128.40951538085938,133.70364379882812,-112.90340423583984,7.775659084320068,-62.08501052856445,179.592041015625,175.05419921875,-188.95506286621094,-150.5760040283203,24.30908203125,56.62133026123047,-61.77840805053711,59.244361877441406,77.33069610595703,-4.6545186042785645,108.79881286621094,101.83908081054688,87.89120483398438,-25.635581970214844,-45.44805908203125,279.0333557128906,64.60564422607422,-42.545738220214844,84.18000793457031,224.88235473632812,96.76734924316406,81.3021469116211,-54.397029876708984,70.33382415771484,-149.27093505859375,196.7505340576172,165.28565979003906,98.5229721069336,61.45174789428711,270.7203063964844,181.57908630371094,-26.90872573852539,-62.99382781982422,218.11080932617188,262.6218566894531,106.69464874267578,186.7162628173828,49.813541412353516,99.44828796386719,19.370986938476562,199.19056701660156,-127.97371673583984,-129.50790405273438,155.33096313476562,205.09762573242188,43.32136917114258,143.14630126953125,152.7083282470703,33.5650520324707,78.67701721191406,-105.63980102539062,-47.101768493652344,-118.02397155761719,126.48249053955078,221.22857666015625,135.11538696289062,-11.941899299621582,0.9615504145622253,-118.80097961425781,291.8312072753906,-0.5318155288696289,7.033780097961426,76.4154052734375,177.4502410888672,127.0391616821289,-63.80069351196289,-7.655886650085449,161.73135375976562,35.68577194213867,134.58738708496094,-65.39984893798828,-85.7689437866211,-69.62905883789062,55.41378402709961,37.73614501953125,143.44288635253906,-36.70555114746094,156.64251708984375,-93.17660522460938,216.10955810546875,22.40072250366211,-181.8265838623047,-70.46929931640625,112.18733215332031,-69.69246673583984,-116.99768829345703,61.10025405883789,-1.9942889213562012,-97.66033172607422,-51.48822784423828,-97.60296630859375,-70.52406311035156,-0.44809287786483765,15.88772964477539,29.568511962890625,266.5125732421875,53.788169860839844,129.14085388183594,221.92776489257812,-9.36609172821045,11.843400001525879,155.87071228027344,121.04483795166016,54.02705001831055],\"z\":[42.1793327331543,118.66443634033203,-52.69325637817383,199.21897888183594,127.25678253173828,-1.313051700592041,186.62632751464844,99.60186004638672,19.18734359741211,-0.047852158546447754,-21.864410400390625,-60.127384185791016,84.23149871826172,181.57444763183594,32.41225051879883,39.6657829284668,32.57547378540039,56.5847053527832,125.50675964355469,194.94554138183594,38.02701950073242,77.33544921875,-43.1309928894043,47.032169342041016,-35.8927116394043,-52.55651092529297,112.08480834960938,-16.827260971069336,25.180843353271484,110.06991577148438,144.34556579589844,16.528030395507812,30.10821533203125,42.040157318115234,20.29762077331543,127.61967468261719,116.02000427246094,123.07341003417969,53.783390045166016,182.32716369628906,-1.7967028617858887,90.95738983154297,84.98747253417969,56.396785736083984,94.86216735839844,69.77355194091797,-32.1046142578125,119.67000579833984,29.363323211669922,178.27481079101562,59.87209701538086,12.448007583618164,-68.57948303222656,139.6089324951172,65.03050231933594,280.8790283203125,115.64570617675781,70.11311340332031,176.32595825195312,59.0757942199707,129.7881622314453,117.15872192382812,151.27630615234375,57.756778717041016,-10.121879577636719,-190.11180114746094,112.72159576416016,16.37206268310547,119.47557830810547,-89.89070892333984,80.97259521484375,30.925308227539062,9.840071678161621,170.01663208007812,77.70633697509766,222.9725341796875,60.371368408203125,11.304990768432617,301.4701843261719,-95.18132781982422,128.20143127441406,186.82594299316406,232.5501708984375,103.72589874267578,103.74778747558594,-16.476957321166992,-94.3541488647461,209.17886352539062,-54.68385696411133,152.90480041503906,49.8544921875,178.31719970703125,-50.156063079833984,15.617874145507812,127.99434661865234,41.87769317626953,-185.23292541503906,-87.98622131347656,75.86048889160156,183.07464599609375,273.01312255859375,-42.70393371582031,-199.58316040039062,34.32307815551758,107.78137969970703,256.02239990234375,138.0476531982422,-91.55181121826172,77.07135772705078,-6.4735493659973145,66.61822509765625,273.2539978027344,45.110538482666016,175.2468719482422,-100.19544982910156,-44.875938415527344,108.71813201904297,-54.658721923828125,75.68599700927734,54.82884979248047,-229.83493041992188,1.972957968711853,233.9193878173828,-6.126864910125732,33.40998077392578,226.53529357910156,33.12723922729492,47.261409759521484,-56.24570846557617,-37.12057876586914,94.99720764160156,127.48152923583984,-74.80066680908203,64.43624877929688,58.964786529541016,-146.79702758789062,195.92503356933594,71.44633483886719,79.12164306640625,167.10728454589844,221.0827178955078,22.481773376464844,-66.46475982666016,40.38334274291992,154.43975830078125,-32.56688690185547,-13.460366249084473,161.79566955566406,127.33184051513672,-88.80262756347656,-194.90371704101562,101.51521301269531,-12.318541526794434,78.95440673828125,-11.073634147644043,-11.727569580078125,272.79266357421875,-129.88174438476562,133.3820343017578,273.0713195800781,9.974769592285156,233.83828735351562,74.38822174072266,258.22991943359375,40.580482482910156,27.1124324798584,102.01933288574219,47.31452560424805,77.90834045410156,60.21418380737305,140.96311950683594,59.170249938964844,150.8401336669922,128.67835998535156,20.96531105041504,232.64744567871094,80.78712463378906,262.2149658203125,69.72377014160156,62.62876510620117,-22.32672691345215,-5.558794021606445,129.04051208496094,-109.24446105957031,45.00617599487305,206.9613494873047,-15.37590217590332,-78.94654083251953,177.68414306640625,90.3209228515625,126.35206604003906,224.8202362060547,181.18406677246094,89.33304595947266,210.45651245117188,-30.006845474243164,-14.747550964355469,20.354421615600586,15.897564888000488,53.20111846923828,-2.7050421237945557,50.43971252441406,-3.1980228424072266,91.8978271484375,-138.16122436523438,135.25225830078125,-95.24540710449219,152.24351501464844,151.64154052734375,-36.154964447021484,91.60599517822266,8.2003812789917,-113.21415710449219,35.63237762451172,-1.8771843910217285,142.61090087890625,-191.0512237548828,-109.57520294189453,206.0499267578125,134.30093383789062,-42.71615219116211,68.8569107055664,121.63687896728516,-41.61048889160156,-44.8709831237793,90.5080337524414,115.82357788085938,36.69928741455078,208.40237426757812,26.86682891845703,202.7992706298828,280.9857177734375,31.802865982055664,51.96382141113281,134.0055389404297,46.55264663696289,72.42262268066406,152.43235778808594,97.28960418701172,85.01673126220703,-63.153228759765625,-8.675220489501953,142.1342315673828,68.47180938720703,131.20318603515625,-40.947486877441406,-77.0523910522461,49.27487564086914,-45.30878829956055,82.88934326171875,250.6466064453125,90.90316009521484,-175.50665283203125,-209.82049560546875,11.256316184997559,-145.9452362060547,-53.40472412109375,-33.32394790649414,-9.315337181091309,136.83413696289062,27.78823471069336,73.83012390136719,-99.83111572265625,-15.262733459472656,122.28125762939453,48.91775131225586,-52.21687698364258,-52.727962493896484,-25.120868682861328,256.3090515136719,95.17315673828125,35.82994842529297,237.1405487060547,101.96666717529297,88.67407989501953,-73.27613067626953,188.19732666015625,-122.7625732421875,54.072208404541016,96.57785034179688,-31.845531463623047,174.40367126464844,275.8436279296875,-80.8136978149414,-72.33555603027344,-7.500466346740723,-46.44731903076172,-224.6534881591797,319.44354248046875,-21.753421783447266],\"type\":\"scatter3d\"},{\"hovertemplate\":\"color=M<br>X=%{x}<br>Y=%{y}<br>Z=%{z}<extra></extra>\",\"legendgroup\":\"M\",\"marker\":{\"color\":\"#EF553B\",\"symbol\":\"circle\"},\"mode\":\"markers\",\"name\":\"M\",\"scene\":\"scene\",\"showlegend\":true,\"x\":[89.52740478515625,211.3874969482422,1.0586731433868408,-70.18744659423828,157.46664428710938,-213.1056671142578,145.63009643554688,-208.2604217529297,-24.731334686279297,-16.247480392456055,126.70530700683594,206.91456604003906,75.91021728515625,90.79925537109375,-24.59575653076172,3.544821262359619,-18.329038619995117,10.72271728515625,142.814453125,16.405929565429688,49.23330307006836,42.96915817260742,40.65339660644531,97.22929382324219,200.43930053710938,117.50139617919922,-32.62929153442383,116.12858581542969,41.29874038696289,95.8599624633789,84.19091033935547,164.3946990966797,-111.300048828125,-159.44309997558594,-25.87481689453125,24.428735733032227,73.36441802978516,119.12793731689453,-3.6186821460723877,-95.98274230957031,-27.418367385864258,238.94281005859375,25.995018005371094,150.14231872558594,54.41459274291992,-205.42959594726562,-108.94243621826172,32.42374801635742,207.64102172851562,119.10104370117188,3.9160685539245605,77.83494567871094,54.81032943725586,65.25865936279297,206.5321044921875,65.54010772705078,-46.47206115722656,126.85710144042969,-24.55493927001953,-123.27325439453125,67.84217834472656,75.44486236572266,162.90780639648438,145.52154541015625,27.90981674194336,-36.02413558959961,48.070777893066406,-92.42548370361328,79.8125228881836,-20.43571662902832,28.361862182617188,125.96652221679688,171.38194274902344,-69.9595947265625,-68.43193054199219,-22.709787368774414,-57.18190002441406,-248.6707763671875,-70.0133056640625,-14.253788948059082,-106.28742980957031,145.5384979248047,28.030529022216797,-126.02239990234375,30.088611602783203,-68.27116394042969,40.9813117980957,124.5148696899414,-3.24766206741333,142.88418579101562,175.59872436523438,71.97413635253906,5.361419200897217,-144.08352661132812,-31.270957946777344,1.672831654548645,-79.72174072265625,203.50509643554688,73.60395812988281,113.69851684570312,-19.881872177124023,-7.472289085388184,37.15218734741211,90.99713897705078,122.68856811523438,-3.419243097305298,238.5779571533203,-10.95279312133789,97.34202575683594,102.55831909179688,108.33731079101562,87.09490203857422,-53.66756820678711,73.75436401367188,15.055325508117676,147.0557861328125,169.31381225585938,20.8916072845459,-155.1768035888672,28.871158599853516,80.88733673095703,109.44786071777344,153.99014282226562,97.35662078857422,171.53298950195312,79.62792205810547,128.89015197753906,-18.08759307861328,-9.680586814880371,120.51468658447266,18.384178161621094,86.69231414794922,176.9280548095703,113.42129516601562,179.2710723876953,144.8924102783203,-103.98480224609375,157.5821533203125,21.58506202697754,-133.93751525878906,137.69497680664062,-18.477689743041992,29.853254318237305,79.08277893066406,-131.060302734375,166.21543884277344,187.5931396484375,-174.2809600830078,-74.12359619140625,-44.639461517333984,108.37191772460938,220.5171661376953,-50.37199783325195,-36.52268981933594,52.18006896972656,-285.16229248046875,139.40484619140625,132.710693359375,-290.30963134765625,67.77263641357422,81.97898864746094,55.95690155029297,7.8200201988220215,-75.0008773803711,44.02756881713867],\"y\":[-299.5177917480469,-78.31800842285156,223.7364959716797,43.751434326171875,-138.18710327148438,16.167312622070312,4.8028082847595215,-92.9079818725586,-108.46846771240234,-13.434097290039062,-185.06698608398438,-55.17640686035156,12.214803695678711,-153.46954345703125,-241.25579833984375,-89.99993896484375,30.627534866333008,50.165565490722656,-130.19378662109375,48.32422637939453,-118.4848403930664,-163.3455810546875,-238.40919494628906,-175.89395141601562,-230.544189453125,197.47439575195312,89.70634460449219,-129.54502868652344,-108.28764343261719,-115.61417388916016,-150.67515563964844,-213.18902587890625,-121.22200012207031,-37.14632034301758,60.61463165283203,-192.23280334472656,-82.54100799560547,-17.757322311401367,-236.92713928222656,-32.7303352355957,-185.18646240234375,-179.0472412109375,-294.89288330078125,-195.01527404785156,-251.5137176513672,-74.2790298461914,-204.60166931152344,68.75057220458984,-247.87057495117188,-219.73220825195312,-84.9098129272461,-131.2716827392578,-50.42656326293945,-279.1772155761719,-175.10633850097656,-45.926727294921875,-112.4421615600586,-260.8965148925781,-29.108238220214844,3.619680166244507,-193.09446716308594,-230.59828186035156,-23.50138282775879,-136.6387176513672,-18.580644607543945,-6.935352325439453,-72.9255599975586,-135.7136688232422,-94.11924743652344,-59.343135833740234,-155.1858673095703,-80.50244903564453,-184.68182373046875,-47.478729248046875,-112.75321960449219,-192.9287567138672,-71.18962860107422,-205.7615509033203,-163.33395385742188,-192.8711395263672,-216.0250701904297,-131.38087463378906,93.35875701904297,-95.57711029052734,-213.8610076904297,-264.53106689453125,-155.8445587158203,-178.1849365234375,-153.3859405517578,-81.03845977783203,-46.67641067504883,128.5126495361328,81.47632598876953,18.801456451416016,-131.25494384765625,-157.55642700195312,-186.8285675048828,12.036264419555664,-202.26766967773438,-253.9077606201172,20.950895309448242,-105.84564971923828,20.61915397644043,-30.88178825378418,-220.2883758544922,-41.05286407470703,-142.0371856689453,134.80972290039062,-296.50994873046875,-37.79633331298828,-88.595458984375,-231.6462860107422,-49.211822509765625,-160.1578369140625,-3.9372036457061768,-138.942626953125,-227.12586975097656,-148.78713989257812,52.319156646728516,-105.62490844726562,-129.38018798828125,6.910364151000977,-180.1798858642578,39.27633285522461,-226.46214294433594,-37.13907241821289,-229.47537231445312,-158.05735778808594,-232.15576171875,-269.1406555175781,-4.568973064422607,-103.84134674072266,-128.6253204345703,-165.14076232910156,-122.19844818115234,-164.07077026367188,-64.04484558105469,-65.06057739257812,-64.36592864990234,-43.58434295654297,-187.17880249023438,-58.918949127197266,-205.26025390625,-195.6356964111328,26.985353469848633,-229.2506866455078,-224.7446746826172,-70.6541519165039,-68.70704650878906,-6.833932399749756,-258.39788818359375,-144.48641967773438,-139.74771118164062,-116.45185852050781,-27.233291625976562,-47.65369415283203,15.577767372131348,-64.55130767822266,44.11027908325195,-37.65371322631836,-135.46658325195312,-59.6927375793457,-13.936254501342773,58.05067825317383,-312.1477966308594],\"z\":[91.38329315185547,-142.1150360107422,-127.11631774902344,-115.17211151123047,-264.5508728027344,220.95082092285156,-230.28555297851562,-123.95624542236328,-74.5676040649414,-53.71158218383789,-53.69224166870117,-187.938720703125,-135.34942626953125,-26.48459243774414,48.91445541381836,-146.2239227294922,-198.37135314941406,-119.04254150390625,-133.13906860351562,-68.52202606201172,-224.83180236816406,203.28468322753906,40.50168991088867,-114.27702331542969,-193.08380126953125,227.72093200683594,-160.77481079101562,-277.4752502441406,-173.01492309570312,-189.7269744873047,-310.41802978515625,-170.52000427246094,-218.33535766601562,-285.5129699707031,-95.15463256835938,-59.38368225097656,-259.6542663574219,-279.6097106933594,-27.82047462463379,-196.45669555664062,-229.3212890625,-172.10060119628906,22.095125198364258,51.8343391418457,-2.9657745361328125,166.59715270996094,-116.68431091308594,111.572021484375,-129.96060180664062,84.35678100585938,-202.2316131591797,-153.8387908935547,-301.60882568359375,-34.988189697265625,-202.00205993652344,-109.04637908935547,-11.494867324829102,78.65315246582031,-145.32859802246094,-291.9073486328125,-168.54486083984375,109.57630157470703,-166.68589782714844,-194.3039093017578,-231.21055603027344,-183.4307098388672,-207.4119873046875,-39.794036865234375,-100.60883331298828,-23.009326934814453,-20.637405395507812,-228.5645751953125,-135.8013916015625,206.7721405029297,38.258052825927734,-92.43899536132812,-188.30320739746094,6.174289226531982,-190.19827270507812,-166.4746551513672,-184.51283264160156,-346.9797058105469,-269.7935791015625,-297.8365478515625,124.0072250366211,-19.038606643676758,-250.34957885742188,-178.64833068847656,-51.1448974609375,-114.137939453125,-230.2688751220703,180.29483032226562,-163.6549072265625,-184.93975830078125,-200.97903442382812,-194.9816436767578,-242.49676513671875,-146.8349609375,-24.194005966186523,-107.41535186767578,-103.19102478027344,-6.777657508850098,-250.36570739746094,-193.0528106689453,-261.4486999511719,-181.8661651611328,-215.18247985839844,-112.97970581054688,42.31508255004883,-149.2593994140625,-148.81918334960938,-141.23214721679688,-48.455108642578125,-198.46556091308594,-104.79218292236328,-81.92180633544922,-105.34270477294922,-92.31990814208984,-219.1284942626953,-41.641883850097656,38.64765167236328,-47.55176544189453,-246.00196838378906,-188.43170166015625,-17.41013526916504,-253.84060668945312,1.5534237623214722,-6.980681896209717,-95.4483871459961,-151.69448852539062,-163.38534545898438,-315.905517578125,-328.17169189453125,-239.51107788085938,-164.3813934326172,-8.043830871582031,-233.76611328125,-193.41311645507812,-249.9988555908203,-186.3551788330078,-292.4078063964844,-110.04661560058594,1.6417540311813354,39.442115783691406,-153.5266571044922,-232.61416625976562,23.572307586669922,-178.29205322265625,-306.3197326660156,-246.98533630371094,-53.392520904541016,-108.31227111816406,-151.66831970214844,-252.48507690429688,-36.83361053466797,190.68896484375,-168.42135620117188,-294.73529052734375,-134.92787170410156,-0.33150485157966614,-87.64014434814453,-156.07469177246094,-267.50067138671875,-185.8556365966797,61.952362060546875],\"type\":\"scatter3d\"}],                        {\"template\":{\"data\":{\"bar\":[{\"error_x\":{\"color\":\"#2a3f5f\"},\"error_y\":{\"color\":\"#2a3f5f\"},\"marker\":{\"line\":{\"color\":\"#E5ECF6\",\"width\":0.5},\"pattern\":{\"fillmode\":\"overlay\",\"size\":10,\"solidity\":0.2}},\"type\":\"bar\"}],\"barpolar\":[{\"marker\":{\"line\":{\"color\":\"#E5ECF6\",\"width\":0.5},\"pattern\":{\"fillmode\":\"overlay\",\"size\":10,\"solidity\":0.2}},\"type\":\"barpolar\"}],\"carpet\":[{\"aaxis\":{\"endlinecolor\":\"#2a3f5f\",\"gridcolor\":\"white\",\"linecolor\":\"white\",\"minorgridcolor\":\"white\",\"startlinecolor\":\"#2a3f5f\"},\"baxis\":{\"endlinecolor\":\"#2a3f5f\",\"gridcolor\":\"white\",\"linecolor\":\"white\",\"minorgridcolor\":\"white\",\"startlinecolor\":\"#2a3f5f\"},\"type\":\"carpet\"}],\"choropleth\":[{\"colorbar\":{\"outlinewidth\":0,\"ticks\":\"\"},\"type\":\"choropleth\"}],\"contour\":[{\"colorbar\":{\"outlinewidth\":0,\"ticks\":\"\"},\"colorscale\":[[0.0,\"#0d0887\"],[0.1111111111111111,\"#46039f\"],[0.2222222222222222,\"#7201a8\"],[0.3333333333333333,\"#9c179e\"],[0.4444444444444444,\"#bd3786\"],[0.5555555555555556,\"#d8576b\"],[0.6666666666666666,\"#ed7953\"],[0.7777777777777778,\"#fb9f3a\"],[0.8888888888888888,\"#fdca26\"],[1.0,\"#f0f921\"]],\"type\":\"contour\"}],\"contourcarpet\":[{\"colorbar\":{\"outlinewidth\":0,\"ticks\":\"\"},\"type\":\"contourcarpet\"}],\"heatmap\":[{\"colorbar\":{\"outlinewidth\":0,\"ticks\":\"\"},\"colorscale\":[[0.0,\"#0d0887\"],[0.1111111111111111,\"#46039f\"],[0.2222222222222222,\"#7201a8\"],[0.3333333333333333,\"#9c179e\"],[0.4444444444444444,\"#bd3786\"],[0.5555555555555556,\"#d8576b\"],[0.6666666666666666,\"#ed7953\"],[0.7777777777777778,\"#fb9f3a\"],[0.8888888888888888,\"#fdca26\"],[1.0,\"#f0f921\"]],\"type\":\"heatmap\"}],\"heatmapgl\":[{\"colorbar\":{\"outlinewidth\":0,\"ticks\":\"\"},\"colorscale\":[[0.0,\"#0d0887\"],[0.1111111111111111,\"#46039f\"],[0.2222222222222222,\"#7201a8\"],[0.3333333333333333,\"#9c179e\"],[0.4444444444444444,\"#bd3786\"],[0.5555555555555556,\"#d8576b\"],[0.6666666666666666,\"#ed7953\"],[0.7777777777777778,\"#fb9f3a\"],[0.8888888888888888,\"#fdca26\"],[1.0,\"#f0f921\"]],\"type\":\"heatmapgl\"}],\"histogram\":[{\"marker\":{\"pattern\":{\"fillmode\":\"overlay\",\"size\":10,\"solidity\":0.2}},\"type\":\"histogram\"}],\"histogram2d\":[{\"colorbar\":{\"outlinewidth\":0,\"ticks\":\"\"},\"colorscale\":[[0.0,\"#0d0887\"],[0.1111111111111111,\"#46039f\"],[0.2222222222222222,\"#7201a8\"],[0.3333333333333333,\"#9c179e\"],[0.4444444444444444,\"#bd3786\"],[0.5555555555555556,\"#d8576b\"],[0.6666666666666666,\"#ed7953\"],[0.7777777777777778,\"#fb9f3a\"],[0.8888888888888888,\"#fdca26\"],[1.0,\"#f0f921\"]],\"type\":\"histogram2d\"}],\"histogram2dcontour\":[{\"colorbar\":{\"outlinewidth\":0,\"ticks\":\"\"},\"colorscale\":[[0.0,\"#0d0887\"],[0.1111111111111111,\"#46039f\"],[0.2222222222222222,\"#7201a8\"],[0.3333333333333333,\"#9c179e\"],[0.4444444444444444,\"#bd3786\"],[0.5555555555555556,\"#d8576b\"],[0.6666666666666666,\"#ed7953\"],[0.7777777777777778,\"#fb9f3a\"],[0.8888888888888888,\"#fdca26\"],[1.0,\"#f0f921\"]],\"type\":\"histogram2dcontour\"}],\"mesh3d\":[{\"colorbar\":{\"outlinewidth\":0,\"ticks\":\"\"},\"type\":\"mesh3d\"}],\"parcoords\":[{\"line\":{\"colorbar\":{\"outlinewidth\":0,\"ticks\":\"\"}},\"type\":\"parcoords\"}],\"pie\":[{\"automargin\":true,\"type\":\"pie\"}],\"scatter\":[{\"marker\":{\"colorbar\":{\"outlinewidth\":0,\"ticks\":\"\"}},\"type\":\"scatter\"}],\"scatter3d\":[{\"line\":{\"colorbar\":{\"outlinewidth\":0,\"ticks\":\"\"}},\"marker\":{\"colorbar\":{\"outlinewidth\":0,\"ticks\":\"\"}},\"type\":\"scatter3d\"}],\"scattercarpet\":[{\"marker\":{\"colorbar\":{\"outlinewidth\":0,\"ticks\":\"\"}},\"type\":\"scattercarpet\"}],\"scattergeo\":[{\"marker\":{\"colorbar\":{\"outlinewidth\":0,\"ticks\":\"\"}},\"type\":\"scattergeo\"}],\"scattergl\":[{\"marker\":{\"colorbar\":{\"outlinewidth\":0,\"ticks\":\"\"}},\"type\":\"scattergl\"}],\"scattermapbox\":[{\"marker\":{\"colorbar\":{\"outlinewidth\":0,\"ticks\":\"\"}},\"type\":\"scattermapbox\"}],\"scatterpolar\":[{\"marker\":{\"colorbar\":{\"outlinewidth\":0,\"ticks\":\"\"}},\"type\":\"scatterpolar\"}],\"scatterpolargl\":[{\"marker\":{\"colorbar\":{\"outlinewidth\":0,\"ticks\":\"\"}},\"type\":\"scatterpolargl\"}],\"scatterternary\":[{\"marker\":{\"colorbar\":{\"outlinewidth\":0,\"ticks\":\"\"}},\"type\":\"scatterternary\"}],\"surface\":[{\"colorbar\":{\"outlinewidth\":0,\"ticks\":\"\"},\"colorscale\":[[0.0,\"#0d0887\"],[0.1111111111111111,\"#46039f\"],[0.2222222222222222,\"#7201a8\"],[0.3333333333333333,\"#9c179e\"],[0.4444444444444444,\"#bd3786\"],[0.5555555555555556,\"#d8576b\"],[0.6666666666666666,\"#ed7953\"],[0.7777777777777778,\"#fb9f3a\"],[0.8888888888888888,\"#fdca26\"],[1.0,\"#f0f921\"]],\"type\":\"surface\"}],\"table\":[{\"cells\":{\"fill\":{\"color\":\"#EBF0F8\"},\"line\":{\"color\":\"white\"}},\"header\":{\"fill\":{\"color\":\"#C8D4E3\"},\"line\":{\"color\":\"white\"}},\"type\":\"table\"}]},\"layout\":{\"annotationdefaults\":{\"arrowcolor\":\"#2a3f5f\",\"arrowhead\":0,\"arrowwidth\":1},\"autotypenumbers\":\"strict\",\"coloraxis\":{\"colorbar\":{\"outlinewidth\":0,\"ticks\":\"\"}},\"colorscale\":{\"diverging\":[[0,\"#8e0152\"],[0.1,\"#c51b7d\"],[0.2,\"#de77ae\"],[0.3,\"#f1b6da\"],[0.4,\"#fde0ef\"],[0.5,\"#f7f7f7\"],[0.6,\"#e6f5d0\"],[0.7,\"#b8e186\"],[0.8,\"#7fbc41\"],[0.9,\"#4d9221\"],[1,\"#276419\"]],\"sequential\":[[0.0,\"#0d0887\"],[0.1111111111111111,\"#46039f\"],[0.2222222222222222,\"#7201a8\"],[0.3333333333333333,\"#9c179e\"],[0.4444444444444444,\"#bd3786\"],[0.5555555555555556,\"#d8576b\"],[0.6666666666666666,\"#ed7953\"],[0.7777777777777778,\"#fb9f3a\"],[0.8888888888888888,\"#fdca26\"],[1.0,\"#f0f921\"]],\"sequentialminus\":[[0.0,\"#0d0887\"],[0.1111111111111111,\"#46039f\"],[0.2222222222222222,\"#7201a8\"],[0.3333333333333333,\"#9c179e\"],[0.4444444444444444,\"#bd3786\"],[0.5555555555555556,\"#d8576b\"],[0.6666666666666666,\"#ed7953\"],[0.7777777777777778,\"#fb9f3a\"],[0.8888888888888888,\"#fdca26\"],[1.0,\"#f0f921\"]]},\"colorway\":[\"#636efa\",\"#EF553B\",\"#00cc96\",\"#ab63fa\",\"#FFA15A\",\"#19d3f3\",\"#FF6692\",\"#B6E880\",\"#FF97FF\",\"#FECB52\"],\"font\":{\"color\":\"#2a3f5f\"},\"geo\":{\"bgcolor\":\"white\",\"lakecolor\":\"white\",\"landcolor\":\"#E5ECF6\",\"showlakes\":true,\"showland\":true,\"subunitcolor\":\"white\"},\"hoverlabel\":{\"align\":\"left\"},\"hovermode\":\"closest\",\"mapbox\":{\"style\":\"light\"},\"paper_bgcolor\":\"white\",\"plot_bgcolor\":\"#E5ECF6\",\"polar\":{\"angularaxis\":{\"gridcolor\":\"white\",\"linecolor\":\"white\",\"ticks\":\"\"},\"bgcolor\":\"#E5ECF6\",\"radialaxis\":{\"gridcolor\":\"white\",\"linecolor\":\"white\",\"ticks\":\"\"}},\"scene\":{\"xaxis\":{\"backgroundcolor\":\"#E5ECF6\",\"gridcolor\":\"white\",\"gridwidth\":2,\"linecolor\":\"white\",\"showbackground\":true,\"ticks\":\"\",\"zerolinecolor\":\"white\"},\"yaxis\":{\"backgroundcolor\":\"#E5ECF6\",\"gridcolor\":\"white\",\"gridwidth\":2,\"linecolor\":\"white\",\"showbackground\":true,\"ticks\":\"\",\"zerolinecolor\":\"white\"},\"zaxis\":{\"backgroundcolor\":\"#E5ECF6\",\"gridcolor\":\"white\",\"gridwidth\":2,\"linecolor\":\"white\",\"showbackground\":true,\"ticks\":\"\",\"zerolinecolor\":\"white\"}},\"shapedefaults\":{\"line\":{\"color\":\"#2a3f5f\"}},\"ternary\":{\"aaxis\":{\"gridcolor\":\"white\",\"linecolor\":\"white\",\"ticks\":\"\"},\"baxis\":{\"gridcolor\":\"white\",\"linecolor\":\"white\",\"ticks\":\"\"},\"bgcolor\":\"#E5ECF6\",\"caxis\":{\"gridcolor\":\"white\",\"linecolor\":\"white\",\"ticks\":\"\"}},\"title\":{\"x\":0.05},\"xaxis\":{\"automargin\":true,\"gridcolor\":\"white\",\"linecolor\":\"white\",\"ticks\":\"\",\"title\":{\"standoff\":15},\"zerolinecolor\":\"white\",\"zerolinewidth\":2},\"yaxis\":{\"automargin\":true,\"gridcolor\":\"white\",\"linecolor\":\"white\",\"ticks\":\"\",\"title\":{\"standoff\":15},\"zerolinecolor\":\"white\",\"zerolinewidth\":2}}},\"scene\":{\"domain\":{\"x\":[0.0,1.0],\"y\":[0.0,1.0]},\"xaxis\":{\"title\":{\"text\":\"X\"}},\"yaxis\":{\"title\":{\"text\":\"Y\"}},\"zaxis\":{\"title\":{\"text\":\"Z\"}}},\"legend\":{\"title\":{\"text\":\"color\"},\"tracegroupgap\":0},\"margin\":{\"t\":20,\"l\":20,\"r\":20,\"b\":20}},                        {\"responsive\": true}                    ).then(function(){\n",
              "                            \n",
              "var gd = document.getElementById('56c650a0-c0c1-464b-a21c-ea60fbe1bc30');\n",
              "var x = new MutationObserver(function (mutations, observer) {{\n",
              "        var display = window.getComputedStyle(gd).display;\n",
              "        if (!display || display === 'none') {{\n",
              "            console.log([gd, 'removed!']);\n",
              "            Plotly.purge(gd);\n",
              "            observer.disconnect();\n",
              "        }}\n",
              "}});\n",
              "\n",
              "// Listen for the removal of the full notebook cells\n",
              "var notebookContainer = gd.closest('#notebook-container');\n",
              "if (notebookContainer) {{\n",
              "    x.observe(notebookContainer, {childList: true});\n",
              "}}\n",
              "\n",
              "// Listen for the clearing of the current output cell\n",
              "var outputEl = gd.closest('.output');\n",
              "if (outputEl) {{\n",
              "    x.observe(outputEl, {childList: true});\n",
              "}}\n",
              "\n",
              "                        })                };                            </script>        </div>\n",
              "</body>\n",
              "</html>"
            ]
          },
          "metadata": {}
        }
      ]
    },
    {
      "cell_type": "markdown",
      "source": [
        "**Implementing UMAP**"
      ],
      "metadata": {
        "id": "HB-gF72hlyK_"
      }
    },
    {
      "cell_type": "code",
      "source": [
        "!pip install umap-learn"
      ],
      "metadata": {
        "colab": {
          "base_uri": "https://localhost:8080/"
        },
        "id": "yzH5jZnGlxVl",
        "outputId": "04d5d734-fd28-46d4-ee05-e7df708fd71c"
      },
      "execution_count": null,
      "outputs": [
        {
          "output_type": "stream",
          "name": "stdout",
          "text": [
            "Looking in indexes: https://pypi.org/simple, https://us-python.pkg.dev/colab-wheels/public/simple/\n",
            "Requirement already satisfied: umap-learn in /usr/local/lib/python3.8/dist-packages (0.5.3)\n",
            "Requirement already satisfied: pynndescent>=0.5 in /usr/local/lib/python3.8/dist-packages (from umap-learn) (0.5.8)\n",
            "Requirement already satisfied: numpy>=1.17 in /usr/local/lib/python3.8/dist-packages (from umap-learn) (1.21.6)\n",
            "Requirement already satisfied: scipy>=1.0 in /usr/local/lib/python3.8/dist-packages (from umap-learn) (1.7.3)\n",
            "Requirement already satisfied: scikit-learn>=0.22 in /usr/local/lib/python3.8/dist-packages (from umap-learn) (1.0.2)\n",
            "Requirement already satisfied: tqdm in /usr/local/lib/python3.8/dist-packages (from umap-learn) (4.64.1)\n",
            "Requirement already satisfied: numba>=0.49 in /usr/local/lib/python3.8/dist-packages (from umap-learn) (0.56.4)\n",
            "Requirement already satisfied: llvmlite<0.40,>=0.39.0dev0 in /usr/local/lib/python3.8/dist-packages (from numba>=0.49->umap-learn) (0.39.1)\n",
            "Requirement already satisfied: importlib-metadata in /usr/local/lib/python3.8/dist-packages (from numba>=0.49->umap-learn) (4.13.0)\n",
            "Requirement already satisfied: setuptools in /usr/local/lib/python3.8/dist-packages (from numba>=0.49->umap-learn) (57.4.0)\n",
            "Requirement already satisfied: joblib>=0.11 in /usr/local/lib/python3.8/dist-packages (from pynndescent>=0.5->umap-learn) (1.2.0)\n",
            "Requirement already satisfied: threadpoolctl>=2.0.0 in /usr/local/lib/python3.8/dist-packages (from scikit-learn>=0.22->umap-learn) (3.1.0)\n",
            "Requirement already satisfied: zipp>=0.5 in /usr/local/lib/python3.8/dist-packages (from importlib-metadata->numba>=0.49->umap-learn) (3.11.0)\n"
          ]
        }
      ]
    },
    {
      "cell_type": "code",
      "source": [
        "from umap import UMAP\n",
        "\n",
        "\n",
        "umap_2d = UMAP(n_components=2, init='random', random_state=0).fit_transform(X_train)\n",
        "umap_3d = UMAP(n_components=3, init='random', random_state=0).fit_transform(X_train)\n",
        "\n",
        "umap_df = pd.DataFrame({'X' : umap_2d[:,0],'Y' : umap_2d[:,1], 'classification' : y_train})\n",
        "\n",
        "y_train_trf = y_train.astype('str')\n",
        "fig = px.scatter(umap_df,x = 'X',y = 'Y',color = y_train_trf)\n",
        "fig.update_layout(margin = dict(l = 20,r=20,t=20,b=20))\n",
        "fig.show()\n",
        "\n",
        "umap_df1 = pd.DataFrame({'X' : umap_3d[:,0],'Y' : umap_3d[:,1], 'Z': umap_3d[:,2], 'classification' : y_train})\n",
        "\n",
        "y_train_trf = y_train.astype('str')\n",
        "fig = px.scatter_3d(umap_df1,x = 'X',y = 'Y',z = 'Z',color = y_train_trf)\n",
        "fig.update_layout(margin = dict(l = 20,r=20,t=20,b=20))\n",
        "fig.show()"
      ],
      "metadata": {
        "colab": {
          "base_uri": "https://localhost:8080/",
          "height": 1000
        },
        "id": "FpMR0HP9l5mc",
        "outputId": "f8c6fbbb-bc85-4f7d-e8dd-af3e886f68a8"
      },
      "execution_count": null,
      "outputs": [
        {
          "output_type": "display_data",
          "data": {
            "text/html": [
              "<html>\n",
              "<head><meta charset=\"utf-8\" /></head>\n",
              "<body>\n",
              "    <div>            <script src=\"https://cdnjs.cloudflare.com/ajax/libs/mathjax/2.7.5/MathJax.js?config=TeX-AMS-MML_SVG\"></script><script type=\"text/javascript\">if (window.MathJax) {MathJax.Hub.Config({SVG: {font: \"STIX-Web\"}});}</script>                <script type=\"text/javascript\">window.PlotlyConfig = {MathJaxConfig: 'local'};</script>\n",
              "        <script src=\"https://cdn.plot.ly/plotly-2.8.3.min.js\"></script>                <div id=\"f7bc13ec-0453-40e7-a591-68405aa72651\" class=\"plotly-graph-div\" style=\"height:525px; width:100%;\"></div>            <script type=\"text/javascript\">                                    window.PLOTLYENV=window.PLOTLYENV || {};                                    if (document.getElementById(\"f7bc13ec-0453-40e7-a591-68405aa72651\")) {                    Plotly.newPlot(                        \"f7bc13ec-0453-40e7-a591-68405aa72651\",                        [{\"hovertemplate\":\"color=B<br>X=%{x}<br>Y=%{y}<extra></extra>\",\"legendgroup\":\"B\",\"marker\":{\"color\":\"#636efa\",\"symbol\":\"circle\"},\"mode\":\"markers\",\"name\":\"B\",\"orientation\":\"v\",\"showlegend\":true,\"x\":[9.407248497009277,9.34779167175293,11.068718910217285,9.436705589294434,9.399453163146973,11.06112289428711,10.909097671508789,11.103894233703613,9.456230163574219,7.823630332946777,10.752886772155762,11.376138687133789,8.743599891662598,10.575529098510742,9.553340911865234,11.636818885803223,6.069921970367432,6.322708606719971,11.536439895629883,8.922481536865234,7.70098352432251,11.407757759094238,9.322563171386719,10.11109447479248,9.232239723205566,11.376497268676758,10.148602485656738,10.874963760375977,7.550663948059082,6.6181793212890625,6.3562397956848145,6.894741535186768,9.486969947814941,10.996706008911133,11.50939655303955,10.229086875915527,7.702254772186279,10.805699348449707,8.096733093261719,9.555948257446289,9.355962753295898,9.659836769104004,9.272071838378906,10.280790328979492,9.624823570251465,9.212267875671387,10.03698444366455,11.094539642333984,8.407092094421387,8.728216171264648,11.355318069458008,9.4849271774292,11.054549217224121,9.2667236328125,11.262337684631348,9.302515983581543,8.8756742477417,7.880807399749756,10.281570434570312,11.166952133178711,10.377008438110352,11.408211708068848,10.875088691711426,10.431923866271973,8.030531883239746,7.698085784912109,9.414937019348145,11.584158897399902,9.942302703857422,11.18087387084961,8.256688117980957,10.582179069519043,10.718902587890625,10.618107795715332,10.70097541809082,9.280502319335938,11.700165748596191,9.060090065002441,9.654976844787598,10.881685256958008,10.31347942352295,11.318848609924316,9.778703689575195,10.814504623413086,10.677637100219727,9.03640079498291,11.4834566116333,9.736928939819336,9.021344184875488,10.507980346679688,8.555559158325195,10.741116523742676,10.428601264953613,11.484931945800781,11.358105659484863,6.019766807556152,11.9212007522583,9.27370834350586,10.231961250305176,8.567313194274902,9.890035629272461,9.059418678283691,7.659720420837402,11.675167083740234,10.824199676513672,9.005865097045898,7.8212809562683105,11.655719757080078,11.275495529174805,8.02546215057373,10.533024787902832,8.98569107055664,11.296380043029785,9.085389137268066,11.37059497833252,9.58288860321045,9.550098419189453,10.388520240783691,10.51013469696045,8.074849128723145,11.844303131103516,8.732344627380371,9.68200969696045,10.17983627319336,11.451557159423828,9.711328506469727,11.606361389160156,9.490178108215332,9.471915245056152,11.791619300842285,10.246441841125488,6.740446090698242,11.536476135253906,7.650533676147461,8.382485389709473,8.286845207214355,9.105009078979492,9.780571937561035,10.96013069152832,10.077570915222168,9.214852333068848,9.43955135345459,10.777626991271973,8.08545970916748,6.79740047454834,8.93123722076416,10.342474937438965,9.172859191894531,8.965479850769043,9.159622192382812,11.738444328308105,11.13704776763916,9.952010154724121,8.29930591583252,11.766989707946777,6.219532012939453,9.356112480163574,9.1705961227417,6.663221836090088,9.406932830810547,10.79672908782959,9.299116134643555,10.598033905029297,9.472463607788086,6.644545078277588,11.174962043762207,9.126973152160645,8.21286678314209,9.680289268493652,10.634533882141113,8.079503059387207,7.618268966674805,11.597246170043945,9.405166625976562,8.044641494750977,9.292215347290039,10.080473899841309,9.75838565826416,11.193373680114746,11.457080841064453,11.75613784790039,11.666656494140625,10.892518043518066,8.301526069641113,10.815995216369629,7.38209867477417,8.819340705871582,11.510669708251953,6.434576511383057,8.890878677368164,8.87148666381836,9.42857837677002,7.308979511260986,8.74803638458252,9.070730209350586,10.87428092956543,9.461987495422363,9.483027458190918,9.914463996887207,10.649860382080078,10.484676361083984,11.353638648986816,10.433367729187012,7.635751247406006,8.047871589660645,11.248250007629395,8.369426727294922,11.318299293518066,7.349097728729248,11.225896835327148,6.611637115478516,9.347129821777344,8.82947826385498,11.597480773925781,8.391188621520996,10.88195514678955,11.9236478805542,7.884498119354248,8.686341285705566,10.763105392456055,11.676582336425781,9.843534469604492,10.300867080688477,11.25745964050293,11.388026237487793,8.055960655212402,10.811707496643066,10.502131462097168,9.485522270202637,9.979813575744629,10.391373634338379,9.348093032836914,9.460578918457031,11.062765121459961,10.354442596435547,9.426054954528809,8.290139198303223,8.969680786132812,10.38375473022461,11.393937110900879,11.709793090820312,9.48852825164795,10.416434288024902,11.512158393859863,9.26600456237793,11.513313293457031,7.477815628051758,8.276741981506348,10.290358543395996,11.226082801818848,9.774266242980957,10.520277976989746,8.721633911132812,7.645480632781982,10.398285865783691,8.5491943359375,10.730406761169434,10.510512351989746,10.463028907775879,11.479665756225586,9.939974784851074,11.588444709777832,7.749974250793457,11.775453567504883,6.966146469116211,9.622237205505371,9.382030487060547,6.959971904754639,7.797170162200928,9.398773193359375,8.543617248535156,7.243441581726074,9.282383918762207,8.880441665649414,7.613296031951904,7.725975036621094,7.372990608215332,8.08773422241211,8.032033920288086,8.728935241699219,7.851483345031738,10.774809837341309,9.366456985473633,11.263986587524414,9.141310691833496,7.899104118347168,11.106773376464844,11.897171020507812,9.855429649353027,8.967341423034668],\"xaxis\":\"x\",\"y\":[5.682707786560059,4.763755798339844,7.504223823547363,5.257379531860352,4.0537872314453125,6.8907341957092285,5.206812381744385,5.685552597045898,7.164017677307129,6.821662902832031,7.2944488525390625,6.3397216796875,6.678361892700195,4.235232353210449,6.037627696990967,4.4903340339660645,5.344054698944092,6.38999605178833,5.984599590301514,3.7481658458709717,6.936177730560303,5.915482997894287,7.03555154800415,5.455921173095703,6.151281356811523,3.6824758052825928,4.553077220916748,3.83042573928833,6.386044025421143,6.602962970733643,6.6695966720581055,4.799651622772217,6.071431636810303,5.364997386932373,4.567530632019043,4.15739631652832,6.556246280670166,5.625936985015869,5.221079349517822,3.9736509323120117,5.739490985870361,6.905547142028809,5.884993076324463,5.609403133392334,6.3286967277526855,5.733067989349365,7.173717498779297,5.603167533874512,5.349463939666748,3.902017116546631,6.5781755447387695,5.687880039215088,7.200901508331299,7.06822395324707,4.696436405181885,6.368125915527344,7.028445243835449,7.010255336761475,3.8120884895324707,5.859618663787842,5.625938415527344,6.103649139404297,4.667837142944336,5.993906021118164,7.140937328338623,5.999441146850586,7.399264335632324,4.438809394836426,6.505769729614258,4.470353603363037,6.255549430847168,7.474147796630859,6.6606621742248535,5.333416938781738,5.942824363708496,4.082014560699463,5.836724281311035,5.457303047180176,3.642167806625366,7.444392681121826,6.853569030761719,3.7430307865142822,4.397843837738037,5.29931640625,5.654816150665283,6.1884942054748535,3.5609207153320312,4.841617107391357,6.254177570343018,4.130898952484131,5.11922550201416,4.2911295890808105,7.530852794647217,6.475070953369141,6.447229862213135,5.421212196350098,5.091197490692139,3.3077685832977295,4.685461044311523,6.096692085266113,4.090874671936035,3.2297682762145996,6.190756320953369,4.242725372314453,5.497027397155762,4.673346042633057,6.801790714263916,3.905428886413574,4.5401411056518555,5.719655990600586,5.807508945465088,5.517854690551758,6.613013744354248,3.0952210426330566,3.530456781387329,6.844213485717773,5.040433406829834,3.7842607498168945,5.623051643371582,7.123197078704834,5.148582935333252,6.906623840332031,5.934447765350342,7.329603672027588,5.754924297332764,4.8930277824401855,4.386948108673096,7.184185981750488,6.920769691467285,4.000930309295654,5.361518383026123,6.686010360717773,3.623270273208618,7.098132610321045,5.518478870391846,6.9597978591918945,5.098608493804932,5.282793045043945,6.763678550720215,3.9406538009643555,3.217400550842285,3.325227975845337,7.429235458374023,5.280993461608887,6.638836860656738,6.330048084259033,7.421692371368408,3.973890781402588,5.378467082977295,6.2010650634765625,5.696429252624512,4.741966724395752,3.934844732284546,5.190247058868408,4.279995441436768,5.3834075927734375,5.084579944610596,3.6071548461914062,6.71499490737915,3.2494521141052246,6.694900989532471,5.772451400756836,6.193936347961426,5.403852939605713,5.190658092498779,4.978795528411865,6.062939643859863,5.418102741241455,6.156251907348633,5.001335620880127,6.436149597167969,6.782632350921631,6.094132423400879,4.0674052238464355,7.169051170349121,3.262531042098999,5.609777927398682,4.796894550323486,4.92189359664917,4.228456497192383,4.195498943328857,5.470401287078857,5.319248199462891,4.32769250869751,5.995612144470215,6.266180992126465,6.396943092346191,3.690934896469116,6.670424938201904,7.3530659675598145,4.8862433433532715,5.473930358886719,6.3772196769714355,6.733809471130371,3.1701114177703857,7.469696998596191,4.587879657745361,4.462824821472168,7.13571310043335,5.889750957489014,7.394245624542236,4.709907531738281,5.540637016296387,6.869781494140625,4.003355503082275,5.994546413421631,4.066425800323486,3.889049768447876,6.447547435760498,7.000738620758057,6.62018346786499,6.013726711273193,6.539273738861084,5.796627998352051,5.967531681060791,4.482933044433594,5.032403945922852,4.508633613586426,6.046773433685303,4.363123416900635,3.962671995162964,5.594277381896973,4.287914752960205,7.025326251983643,5.947831630706787,6.842678546905518,4.247171878814697,7.497334003448486,6.315831661224365,4.653689384460449,4.085719585418701,3.4088094234466553,7.254570484161377,5.555615425109863,4.930628776550293,5.473022937774658,6.988763332366943,5.896934986114502,6.847828388214111,6.475851058959961,3.9609427452087402,6.677073001861572,4.9053568840026855,6.384442329406738,7.308649063110352,3.978379726409912,5.908840179443359,6.101222038269043,5.4016242027282715,5.570794105529785,4.315188407897949,6.710939407348633,7.015691757202148,6.098188877105713,5.789618492126465,6.622946739196777,7.171319961547852,7.50295352935791,6.284732341766357,5.534134864807129,5.706264019012451,5.402338027954102,4.743682384490967,4.37864875793457,6.645854473114014,6.123271465301514,6.849522113800049,5.415348529815674,6.261779308319092,3.362905502319336,7.131122589111328,7.020011901855469,3.3464953899383545,5.060152053833008,6.684154033660889,4.935486316680908,6.248379230499268,4.264441013336182,6.863551139831543,4.998020172119141,6.696506977081299,4.542483329772949,5.321850299835205,3.6412792205810547,6.25843620300293,5.204897403717041,7.150944709777832,5.125988006591797,3.9861714839935303,3.1993725299835205],\"yaxis\":\"y\",\"type\":\"scatter\"},{\"hovertemplate\":\"color=M<br>X=%{x}<br>Y=%{y}<extra></extra>\",\"legendgroup\":\"M\",\"marker\":{\"color\":\"#EF553B\",\"symbol\":\"circle\"},\"mode\":\"markers\",\"name\":\"M\",\"orientation\":\"v\",\"showlegend\":true,\"x\":[5.114439487457275,2.884702444076538,3.405944347381592,7.955337047576904,2.44590425491333,3.435337781906128,3.014573097229004,10.682544708251953,5.675259113311768,7.351373672485352,4.751655101776123,2.8669254779815674,4.27111291885376,4.9265666007995605,5.767947673797607,4.601871490478516,4.7891693115234375,7.6721391677856445,3.5789954662323,7.866640567779541,3.514799118041992,4.396295547485352,5.369665145874023,3.765000104904175,2.908935546875,9.083301544189453,7.969352722167969,2.433264970779419,4.0909552574157715,3.5796611309051514,2.393674373626709,2.8342573642730713,3.287230968475342,5.519147872924805,7.863409996032715,5.6328911781311035,3.230968952178955,3.3014042377471924,5.471639633178711,4.240537643432617,3.5676422119140625,3.423551321029663,5.363908767700195,4.964480400085449,5.455429553985596,4.061976432800293,3.3528711795806885,9.010649681091309,2.812361240386963,5.036673545837402,4.16552209854126,3.670321226119995,3.1102490425109863,5.252871990203857,3.299913167953491,4.269759178161621,6.527944087982178,4.999338626861572,4.760124683380127,5.532573699951172,3.377041816711426,5.448284149169922,3.1090950965881348,3.0546796321868896,3.933889389038086,4.649278163909912,3.9947116374969482,7.089203834533691,4.260081768035889,6.8157172203063965,5.938196182250977,3.068331241607666,2.9946892261505127,9.232057571411133,6.882864475250244,5.571532726287842,4.120189666748047,3.6427855491638184,3.32515549659729,3.3067309856414795,3.2825427055358887,2.432279348373413,3.598125457763672,5.949339389801025,5.472385406494141,5.218801021575928,3.7543296813964844,3.057661771774292,5.806382656097412,3.6814794540405273,3.102383613586426,9.010311126708984,7.756223201751709,7.426415920257568,3.4280381202697754,3.4331610202789307,3.581678628921509,3.102611541748047,5.4752655029296875,3.2388768196105957,7.535358905792236,6.388275146484375,3.9819984436035156,3.8550729751586914,2.348362445831299,4.557499408721924,3.434281826019287,4.908285617828369,5.152228832244873,4.109997272491455,3.891187906265259,3.2420921325683594,7.161876678466797,3.3511288166046143,7.378696441650391,3.9670379161834717,2.948378562927246,5.627161026000977,7.627752304077148,5.924960613250732,5.669765472412109,7.516765117645264,2.460151433944702,3.572357177734375,4.844884872436523,3.2580795288085938,5.051943302154541,5.956211090087891,5.226537704467773,3.2793006896972656,4.50399923324585,2.5633556842803955,2.4238321781158447,2.560685634613037,3.079796552658081,4.88197135925293,4.1298909187316895,3.0509541034698486,3.941636800765991,4.3352766036987305,2.3487040996551514,4.816895484924316,5.659398555755615,5.368710517883301,7.561702728271484,2.435983896255493,5.037655353546143,4.299932479858398,5.78643274307251,4.251842975616455,4.913839340209961,3.011918544769287,3.1681482791900635,3.4659481048583984,7.663445472717285,5.226465225219727,3.2500362396240234,2.8495757579803467,5.062044143676758,7.683029651641846,4.428398132324219,4.178119659423828,3.9386818408966064,4.59493350982666,5.1934123039245605],\"xaxis\":\"x\",\"y\":[6.078624725341797,3.855774164199829,3.1176106929779053,4.055556774139404,4.415626049041748,4.691568851470947,3.509585380554199,6.211108207702637,5.2542724609375,4.165648460388184,5.081662178039551,3.730684518814087,4.079895973205566,4.724044322967529,5.6900315284729,4.23134708404541,3.65114164352417,3.950944423675537,4.74800443649292,3.9221537113189697,4.238693714141846,3.8973000049591064,5.760763168334961,5.032530307769775,4.809548854827881,4.504510879516602,3.7207889556884766,4.388092517852783,4.419805526733398,4.46970796585083,4.270327091217041,4.817519664764404,3.1802351474761963,5.651239395141602,3.9166531562805176,5.102067470550537,4.001628398895264,4.052361011505127,5.305380821228027,3.1034374237060547,3.1664013862609863,5.012034893035889,5.86751127243042,5.551556587219238,5.772083282470703,3.1058952808380127,3.1085317134857178,4.1742048263549805,4.896307945251465,5.784787654876709,4.0016770362854,4.5759477615356445,3.9304842948913574,5.685848236083984,4.886715412139893,4.1860198974609375,5.076186656951904,6.0029754638671875,3.874370574951172,5.799025535583496,4.721275329589844,5.836940288543701,3.3723819255828857,4.165452003479004,3.622319221496582,3.7679977416992188,4.035703182220459,5.313042640686035,4.736658573150635,4.633516311645508,5.046360015869141,3.813063621520996,4.700129508972168,4.871670722961426,5.113781929016113,4.9416608810424805,3.270585060119629,3.9388842582702637,3.087678909301758,3.2184078693389893,3.1751723289489746,4.442898273468018,3.857738971710205,5.4194207191467285,5.574603080749512,5.153740882873535,4.507366180419922,4.6024980545043945,4.981038570404053,4.531013488769531,3.5691990852355957,3.847282886505127,3.7170212268829346,4.726797103881836,3.1685099601745605,3.088198184967041,3.258870840072632,3.2719082832336426,5.286706924438477,5.146228313446045,3.962862968444824,5.010122299194336,3.4804251194000244,4.216048717498779,4.653954982757568,3.835584878921509,4.867564678192139,4.542508125305176,6.048591613769531,4.317656993865967,4.590681552886963,5.074615955352783,4.453973770141602,4.553399085998535,4.017198085784912,4.7362189292907715,4.944783687591553,5.003411293029785,5.136895656585693,5.195483207702637,5.771426200866699,5.637261867523193,4.60679292678833,3.500875949859619,5.652719497680664,3.952029228210449,5.578117847442627,5.146736145019531,5.190430641174316,5.043042182922363,3.8140065670013428,4.238090991973877,4.4635186195373535,4.506317138671875,4.345223426818848,5.020784378051758,3.087904691696167,3.5942845344543457,3.783409357070923,3.10162091255188,4.588198184967041,4.126474380493164,5.506566047668457,5.717087745666504,4.853006839752197,4.703348159790039,5.5722761154174805,3.115281105041504,5.130003452301025,3.3439230918884277,5.677736759185791,4.565098285675049,3.2903852462768555,3.2364234924316406,5.1893391609191895,4.992245197296143,3.3852221965789795,4.199778079986572,5.2701416015625,5.210081577301025,5.066644668579102,4.233699321746826,3.590824842453003,3.325204849243164,5.992909908294678],\"yaxis\":\"y\",\"type\":\"scatter\"}],                        {\"template\":{\"data\":{\"bar\":[{\"error_x\":{\"color\":\"#2a3f5f\"},\"error_y\":{\"color\":\"#2a3f5f\"},\"marker\":{\"line\":{\"color\":\"#E5ECF6\",\"width\":0.5},\"pattern\":{\"fillmode\":\"overlay\",\"size\":10,\"solidity\":0.2}},\"type\":\"bar\"}],\"barpolar\":[{\"marker\":{\"line\":{\"color\":\"#E5ECF6\",\"width\":0.5},\"pattern\":{\"fillmode\":\"overlay\",\"size\":10,\"solidity\":0.2}},\"type\":\"barpolar\"}],\"carpet\":[{\"aaxis\":{\"endlinecolor\":\"#2a3f5f\",\"gridcolor\":\"white\",\"linecolor\":\"white\",\"minorgridcolor\":\"white\",\"startlinecolor\":\"#2a3f5f\"},\"baxis\":{\"endlinecolor\":\"#2a3f5f\",\"gridcolor\":\"white\",\"linecolor\":\"white\",\"minorgridcolor\":\"white\",\"startlinecolor\":\"#2a3f5f\"},\"type\":\"carpet\"}],\"choropleth\":[{\"colorbar\":{\"outlinewidth\":0,\"ticks\":\"\"},\"type\":\"choropleth\"}],\"contour\":[{\"colorbar\":{\"outlinewidth\":0,\"ticks\":\"\"},\"colorscale\":[[0.0,\"#0d0887\"],[0.1111111111111111,\"#46039f\"],[0.2222222222222222,\"#7201a8\"],[0.3333333333333333,\"#9c179e\"],[0.4444444444444444,\"#bd3786\"],[0.5555555555555556,\"#d8576b\"],[0.6666666666666666,\"#ed7953\"],[0.7777777777777778,\"#fb9f3a\"],[0.8888888888888888,\"#fdca26\"],[1.0,\"#f0f921\"]],\"type\":\"contour\"}],\"contourcarpet\":[{\"colorbar\":{\"outlinewidth\":0,\"ticks\":\"\"},\"type\":\"contourcarpet\"}],\"heatmap\":[{\"colorbar\":{\"outlinewidth\":0,\"ticks\":\"\"},\"colorscale\":[[0.0,\"#0d0887\"],[0.1111111111111111,\"#46039f\"],[0.2222222222222222,\"#7201a8\"],[0.3333333333333333,\"#9c179e\"],[0.4444444444444444,\"#bd3786\"],[0.5555555555555556,\"#d8576b\"],[0.6666666666666666,\"#ed7953\"],[0.7777777777777778,\"#fb9f3a\"],[0.8888888888888888,\"#fdca26\"],[1.0,\"#f0f921\"]],\"type\":\"heatmap\"}],\"heatmapgl\":[{\"colorbar\":{\"outlinewidth\":0,\"ticks\":\"\"},\"colorscale\":[[0.0,\"#0d0887\"],[0.1111111111111111,\"#46039f\"],[0.2222222222222222,\"#7201a8\"],[0.3333333333333333,\"#9c179e\"],[0.4444444444444444,\"#bd3786\"],[0.5555555555555556,\"#d8576b\"],[0.6666666666666666,\"#ed7953\"],[0.7777777777777778,\"#fb9f3a\"],[0.8888888888888888,\"#fdca26\"],[1.0,\"#f0f921\"]],\"type\":\"heatmapgl\"}],\"histogram\":[{\"marker\":{\"pattern\":{\"fillmode\":\"overlay\",\"size\":10,\"solidity\":0.2}},\"type\":\"histogram\"}],\"histogram2d\":[{\"colorbar\":{\"outlinewidth\":0,\"ticks\":\"\"},\"colorscale\":[[0.0,\"#0d0887\"],[0.1111111111111111,\"#46039f\"],[0.2222222222222222,\"#7201a8\"],[0.3333333333333333,\"#9c179e\"],[0.4444444444444444,\"#bd3786\"],[0.5555555555555556,\"#d8576b\"],[0.6666666666666666,\"#ed7953\"],[0.7777777777777778,\"#fb9f3a\"],[0.8888888888888888,\"#fdca26\"],[1.0,\"#f0f921\"]],\"type\":\"histogram2d\"}],\"histogram2dcontour\":[{\"colorbar\":{\"outlinewidth\":0,\"ticks\":\"\"},\"colorscale\":[[0.0,\"#0d0887\"],[0.1111111111111111,\"#46039f\"],[0.2222222222222222,\"#7201a8\"],[0.3333333333333333,\"#9c179e\"],[0.4444444444444444,\"#bd3786\"],[0.5555555555555556,\"#d8576b\"],[0.6666666666666666,\"#ed7953\"],[0.7777777777777778,\"#fb9f3a\"],[0.8888888888888888,\"#fdca26\"],[1.0,\"#f0f921\"]],\"type\":\"histogram2dcontour\"}],\"mesh3d\":[{\"colorbar\":{\"outlinewidth\":0,\"ticks\":\"\"},\"type\":\"mesh3d\"}],\"parcoords\":[{\"line\":{\"colorbar\":{\"outlinewidth\":0,\"ticks\":\"\"}},\"type\":\"parcoords\"}],\"pie\":[{\"automargin\":true,\"type\":\"pie\"}],\"scatter\":[{\"marker\":{\"colorbar\":{\"outlinewidth\":0,\"ticks\":\"\"}},\"type\":\"scatter\"}],\"scatter3d\":[{\"line\":{\"colorbar\":{\"outlinewidth\":0,\"ticks\":\"\"}},\"marker\":{\"colorbar\":{\"outlinewidth\":0,\"ticks\":\"\"}},\"type\":\"scatter3d\"}],\"scattercarpet\":[{\"marker\":{\"colorbar\":{\"outlinewidth\":0,\"ticks\":\"\"}},\"type\":\"scattercarpet\"}],\"scattergeo\":[{\"marker\":{\"colorbar\":{\"outlinewidth\":0,\"ticks\":\"\"}},\"type\":\"scattergeo\"}],\"scattergl\":[{\"marker\":{\"colorbar\":{\"outlinewidth\":0,\"ticks\":\"\"}},\"type\":\"scattergl\"}],\"scattermapbox\":[{\"marker\":{\"colorbar\":{\"outlinewidth\":0,\"ticks\":\"\"}},\"type\":\"scattermapbox\"}],\"scatterpolar\":[{\"marker\":{\"colorbar\":{\"outlinewidth\":0,\"ticks\":\"\"}},\"type\":\"scatterpolar\"}],\"scatterpolargl\":[{\"marker\":{\"colorbar\":{\"outlinewidth\":0,\"ticks\":\"\"}},\"type\":\"scatterpolargl\"}],\"scatterternary\":[{\"marker\":{\"colorbar\":{\"outlinewidth\":0,\"ticks\":\"\"}},\"type\":\"scatterternary\"}],\"surface\":[{\"colorbar\":{\"outlinewidth\":0,\"ticks\":\"\"},\"colorscale\":[[0.0,\"#0d0887\"],[0.1111111111111111,\"#46039f\"],[0.2222222222222222,\"#7201a8\"],[0.3333333333333333,\"#9c179e\"],[0.4444444444444444,\"#bd3786\"],[0.5555555555555556,\"#d8576b\"],[0.6666666666666666,\"#ed7953\"],[0.7777777777777778,\"#fb9f3a\"],[0.8888888888888888,\"#fdca26\"],[1.0,\"#f0f921\"]],\"type\":\"surface\"}],\"table\":[{\"cells\":{\"fill\":{\"color\":\"#EBF0F8\"},\"line\":{\"color\":\"white\"}},\"header\":{\"fill\":{\"color\":\"#C8D4E3\"},\"line\":{\"color\":\"white\"}},\"type\":\"table\"}]},\"layout\":{\"annotationdefaults\":{\"arrowcolor\":\"#2a3f5f\",\"arrowhead\":0,\"arrowwidth\":1},\"autotypenumbers\":\"strict\",\"coloraxis\":{\"colorbar\":{\"outlinewidth\":0,\"ticks\":\"\"}},\"colorscale\":{\"diverging\":[[0,\"#8e0152\"],[0.1,\"#c51b7d\"],[0.2,\"#de77ae\"],[0.3,\"#f1b6da\"],[0.4,\"#fde0ef\"],[0.5,\"#f7f7f7\"],[0.6,\"#e6f5d0\"],[0.7,\"#b8e186\"],[0.8,\"#7fbc41\"],[0.9,\"#4d9221\"],[1,\"#276419\"]],\"sequential\":[[0.0,\"#0d0887\"],[0.1111111111111111,\"#46039f\"],[0.2222222222222222,\"#7201a8\"],[0.3333333333333333,\"#9c179e\"],[0.4444444444444444,\"#bd3786\"],[0.5555555555555556,\"#d8576b\"],[0.6666666666666666,\"#ed7953\"],[0.7777777777777778,\"#fb9f3a\"],[0.8888888888888888,\"#fdca26\"],[1.0,\"#f0f921\"]],\"sequentialminus\":[[0.0,\"#0d0887\"],[0.1111111111111111,\"#46039f\"],[0.2222222222222222,\"#7201a8\"],[0.3333333333333333,\"#9c179e\"],[0.4444444444444444,\"#bd3786\"],[0.5555555555555556,\"#d8576b\"],[0.6666666666666666,\"#ed7953\"],[0.7777777777777778,\"#fb9f3a\"],[0.8888888888888888,\"#fdca26\"],[1.0,\"#f0f921\"]]},\"colorway\":[\"#636efa\",\"#EF553B\",\"#00cc96\",\"#ab63fa\",\"#FFA15A\",\"#19d3f3\",\"#FF6692\",\"#B6E880\",\"#FF97FF\",\"#FECB52\"],\"font\":{\"color\":\"#2a3f5f\"},\"geo\":{\"bgcolor\":\"white\",\"lakecolor\":\"white\",\"landcolor\":\"#E5ECF6\",\"showlakes\":true,\"showland\":true,\"subunitcolor\":\"white\"},\"hoverlabel\":{\"align\":\"left\"},\"hovermode\":\"closest\",\"mapbox\":{\"style\":\"light\"},\"paper_bgcolor\":\"white\",\"plot_bgcolor\":\"#E5ECF6\",\"polar\":{\"angularaxis\":{\"gridcolor\":\"white\",\"linecolor\":\"white\",\"ticks\":\"\"},\"bgcolor\":\"#E5ECF6\",\"radialaxis\":{\"gridcolor\":\"white\",\"linecolor\":\"white\",\"ticks\":\"\"}},\"scene\":{\"xaxis\":{\"backgroundcolor\":\"#E5ECF6\",\"gridcolor\":\"white\",\"gridwidth\":2,\"linecolor\":\"white\",\"showbackground\":true,\"ticks\":\"\",\"zerolinecolor\":\"white\"},\"yaxis\":{\"backgroundcolor\":\"#E5ECF6\",\"gridcolor\":\"white\",\"gridwidth\":2,\"linecolor\":\"white\",\"showbackground\":true,\"ticks\":\"\",\"zerolinecolor\":\"white\"},\"zaxis\":{\"backgroundcolor\":\"#E5ECF6\",\"gridcolor\":\"white\",\"gridwidth\":2,\"linecolor\":\"white\",\"showbackground\":true,\"ticks\":\"\",\"zerolinecolor\":\"white\"}},\"shapedefaults\":{\"line\":{\"color\":\"#2a3f5f\"}},\"ternary\":{\"aaxis\":{\"gridcolor\":\"white\",\"linecolor\":\"white\",\"ticks\":\"\"},\"baxis\":{\"gridcolor\":\"white\",\"linecolor\":\"white\",\"ticks\":\"\"},\"bgcolor\":\"#E5ECF6\",\"caxis\":{\"gridcolor\":\"white\",\"linecolor\":\"white\",\"ticks\":\"\"}},\"title\":{\"x\":0.05},\"xaxis\":{\"automargin\":true,\"gridcolor\":\"white\",\"linecolor\":\"white\",\"ticks\":\"\",\"title\":{\"standoff\":15},\"zerolinecolor\":\"white\",\"zerolinewidth\":2},\"yaxis\":{\"automargin\":true,\"gridcolor\":\"white\",\"linecolor\":\"white\",\"ticks\":\"\",\"title\":{\"standoff\":15},\"zerolinecolor\":\"white\",\"zerolinewidth\":2}}},\"xaxis\":{\"anchor\":\"y\",\"domain\":[0.0,1.0],\"title\":{\"text\":\"X\"}},\"yaxis\":{\"anchor\":\"x\",\"domain\":[0.0,1.0],\"title\":{\"text\":\"Y\"}},\"legend\":{\"title\":{\"text\":\"color\"},\"tracegroupgap\":0},\"margin\":{\"t\":20,\"l\":20,\"r\":20,\"b\":20}},                        {\"responsive\": true}                    ).then(function(){\n",
              "                            \n",
              "var gd = document.getElementById('f7bc13ec-0453-40e7-a591-68405aa72651');\n",
              "var x = new MutationObserver(function (mutations, observer) {{\n",
              "        var display = window.getComputedStyle(gd).display;\n",
              "        if (!display || display === 'none') {{\n",
              "            console.log([gd, 'removed!']);\n",
              "            Plotly.purge(gd);\n",
              "            observer.disconnect();\n",
              "        }}\n",
              "}});\n",
              "\n",
              "// Listen for the removal of the full notebook cells\n",
              "var notebookContainer = gd.closest('#notebook-container');\n",
              "if (notebookContainer) {{\n",
              "    x.observe(notebookContainer, {childList: true});\n",
              "}}\n",
              "\n",
              "// Listen for the clearing of the current output cell\n",
              "var outputEl = gd.closest('.output');\n",
              "if (outputEl) {{\n",
              "    x.observe(outputEl, {childList: true});\n",
              "}}\n",
              "\n",
              "                        })                };                            </script>        </div>\n",
              "</body>\n",
              "</html>"
            ]
          },
          "metadata": {}
        },
        {
          "output_type": "display_data",
          "data": {
            "text/html": [
              "<html>\n",
              "<head><meta charset=\"utf-8\" /></head>\n",
              "<body>\n",
              "    <div>            <script src=\"https://cdnjs.cloudflare.com/ajax/libs/mathjax/2.7.5/MathJax.js?config=TeX-AMS-MML_SVG\"></script><script type=\"text/javascript\">if (window.MathJax) {MathJax.Hub.Config({SVG: {font: \"STIX-Web\"}});}</script>                <script type=\"text/javascript\">window.PlotlyConfig = {MathJaxConfig: 'local'};</script>\n",
              "        <script src=\"https://cdn.plot.ly/plotly-2.8.3.min.js\"></script>                <div id=\"89584e72-55dd-4a46-a6de-dd9a56637928\" class=\"plotly-graph-div\" style=\"height:525px; width:100%;\"></div>            <script type=\"text/javascript\">                                    window.PLOTLYENV=window.PLOTLYENV || {};                                    if (document.getElementById(\"89584e72-55dd-4a46-a6de-dd9a56637928\")) {                    Plotly.newPlot(                        \"89584e72-55dd-4a46-a6de-dd9a56637928\",                        [{\"hovertemplate\":\"color=B<br>X=%{x}<br>Y=%{y}<br>Z=%{z}<extra></extra>\",\"legendgroup\":\"B\",\"marker\":{\"color\":\"#636efa\",\"symbol\":\"circle\"},\"mode\":\"markers\",\"name\":\"B\",\"scene\":\"scene\",\"showlegend\":true,\"x\":[-0.5764064788818359,-0.8082107901573181,-0.7825344800949097,-0.42520004510879517,-1.269684076309204,-1.0341520309448242,-1.8794631958007812,-1.5599195957183838,0.04024694859981537,1.3278660774230957,-0.5407671928405762,-1.2840155363082886,0.3012831509113312,-2.167466402053833,-0.8414267301559448,-2.4277684688568115,2.1308085918426514,2.3598694801330566,-1.765728235244751,-1.0205621719360352,1.4000627994537354,-1.6501903533935547,-0.002953317714855075,-1.0698002576828003,-0.42558929324150085,-2.5857653617858887,-1.6468764543533325,-2.1819846630096436,0.9615850448608398,2.2871592044830322,2.3986356258392334,0.9794677495956421,-0.5980166792869568,-1.7495439052581787,-2.794990062713623,-1.8045941591262817,1.2765488624572754,-1.5122325420379639,0.4246610105037689,-1.3823258876800537,-0.4833323061466217,-0.06872273981571198,-0.2678597867488861,-1.0687155723571777,-0.5581165552139282,-0.2326744794845581,-0.091690294444561,-1.495545744895935,-0.08789806813001633,-0.8147883415222168,-1.0011762380599976,-0.650529146194458,-0.8429291248321533,0.03899553790688515,-2.6858692169189453,-0.38578858971595764,0.48646554350852966,1.2031058073043823,-1.8897172212600708,-1.6084792613983154,-1.1440712213516235,-1.3845854997634888,-2.0855162143707275,-0.969275176525116,1.272391676902771,0.6065382957458496,0.19963756203651428,-2.8909971714019775,-0.733937680721283,-2.409080982208252,0.6771070957183838,-0.3856458067893982,-0.8444750905036926,-1.6094993352890015,-1.37422513961792,-1.1228647232055664,-1.8237768411636353,-0.32121673226356506,-1.5732609033584595,-0.7121530175209045,-0.6102879047393799,-2.344961404800415,-1.2813063859939575,-1.7812649011611938,-1.4208637475967407,0.12334825843572617,-2.5438191890716553,-1.0794726610183716,-0.02801169641315937,-2.139244556427002,0.013324687257409096,-2.2465224266052246,-0.09398449212312698,-1.2333877086639404,-1.3751134872436523,2.432032585144043,-2.517648935317993,-1.3703627586364746,-1.6299536228179932,0.2555871903896332,-1.4720687866210938,-1.2640072107315063,0.74454665184021,-2.8713085651397705,-1.5899434089660645,-0.22864209115505219,1.1374038457870483,-2.568589448928833,-2.733637809753418,0.7553984522819519,-1.1483705043792725,-0.35724136233329773,-1.008470058441162,-1.125256061553955,-2.3803136348724365,-0.2339695543050766,-0.9227427840232849,-1.9355781078338623,-1.4437075853347778,1.1305114030838013,-2.4355525970458984,0.6108292937278748,-0.9315714836120605,-0.07447091490030289,-1.9112730026245117,-1.1019301414489746,-2.768592596054077,0.04737893119454384,-0.09191595017910004,-2.7145297527313232,-1.2471786737442017,2.169942617416382,-2.415109634399414,1.5248159170150757,0.1825636625289917,0.8543359041213989,-0.33581626415252686,-0.8515413403511047,-0.745135486125946,-1.6918388605117798,-1.3299627304077148,-1.5713322162628174,-0.526025116443634,0.4739411473274231,2.0842738151550293,0.08232933282852173,-0.06736719608306885,-1.1395214796066284,-0.06861118972301483,-0.3510824739933014,-1.978716254234314,-2.6021108627319336,-1.6364408731460571,0.25682470202445984,-2.752032995223999,1.853678584098816,-0.6663162112236023,-1.4230226278305054,2.294970989227295,-1.5347070693969727,-0.888262927532196,-0.5419853329658508,-1.100911259651184,-0.8379141688346863,1.37352454662323,-2.3325679302215576,-0.21634069085121155,0.24318762123584747,-0.8232169151306152,-1.7815965414047241,0.8643286228179932,1.2920233011245728,-1.5294231176376343,-1.2299739122390747,1.1537058353424072,-1.4405406713485718,-0.8491281270980835,-0.9854596257209778,-2.4790074825286865,-2.814584255218506,-2.872541666030884,-2.319488763809204,-1.7412737607955933,-0.4928250312805176,-1.3518104553222656,1.043167233467102,0.1333201676607132,-2.5298314094543457,2.393167734146118,0.6127862334251404,-0.388092964887619,-0.7382307648658752,1.2925481796264648,0.5565329194068909,-1.1711128950119019,-0.6532130837440491,-0.9461458325386047,-1.052083134651184,-0.07597636431455612,-1.2472565174102783,-0.3986339271068573,-2.7672207355499268,-1.3683642148971558,1.2719366550445557,-0.4203413128852844,-1.3330031633377075,-0.6164690256118774,-2.348996162414551,1.3225427865982056,-1.4102232456207275,2.261125087738037,-0.4028637111186981,0.4711972773075104,-1.7563116550445557,0.3948622941970825,-2.3728013038635254,-2.5340659618377686,0.005512617994099855,0.12401288002729416,-2.210867166519165,-2.831350564956665,-0.7673403024673462,-1.990248203277588,-1.2230898141860962,-1.9208900928497314,1.0688191652297974,-2.325917959213257,-0.272329181432724,-0.4187178313732147,-1.2861969470977783,-1.980407476425171,-1.4934371709823608,0.027088360860943794,-1.5737149715423584,-1.4421335458755493,-0.49855461716651917,1.0355364084243774,0.015819529071450233,-0.7597929239273071,-1.1711950302124023,-2.8070244789123535,-0.2991439998149872,-1.4527028799057007,-1.3006377220153809,0.19157300889492035,-2.7740726470947266,0.5791985988616943,0.6725392937660217,-1.300858736038208,-1.7570492029190063,-1.2806559801101685,-0.6506817936897278,0.5746341347694397,0.7040833234786987,-1.385483741760254,0.6402780413627625,-0.6003797054290771,-0.08749373257160187,-0.9513040781021118,-1.9212411642074585,-0.7994880080223083,-2.0595431327819824,0.2179725170135498,-2.6549346446990967,1.7796623706817627,-0.7974878549575806,-0.06599114835262299,0.8187807202339172,0.7377455830574036,-1.585250973701477,-0.516663134098053,1.7494635581970215,-1.514884114265442,-0.48456063866615295,1.1503846645355225,0.2551376223564148,1.1744928359985352,-0.39466193318367004,1.0694547891616821,-0.33900439739227295,1.3150036334991455,-2.1710779666900635,-0.6779429316520691,-2.336223840713501,-0.24605847895145416,0.49009135365486145,-0.9917590022087097,-2.5183780193328857,-1.570027470588684,-1.0904194116592407],\"y\":[2.9838502407073975,3.0914032459259033,5.400808334350586,3.3300602436065674,3.813701868057251,5.07772970199585,3.40395188331604,3.7059690952301025,3.6863934993743896,3.180049419403076,5.3793487548828125,4.016668319702148,3.1936254501342773,3.2709567546844482,2.6836860179901123,4.2790913581848145,5.045836448669434,4.1213226318359375,4.30441951751709,4.1114420890808105,3.109515428543091,4.545479774475098,3.4646434783935547,3.7207376956939697,2.3622994422912598,4.554104328155518,3.516918897628784,4.287919044494629,3.3679699897766113,3.8273379802703857,3.852358102798462,5.005761623382568,2.9286932945251465,4.391093730926514,3.9900174140930176,3.495077133178711,3.4350218772888184,4.0962042808532715,4.308878421783447,3.805917501449585,2.4654459953308105,4.11965274810791,2.812793493270874,4.039677143096924,3.0004584789276123,2.615703582763672,4.580386638641357,3.4954090118408203,4.348760604858398,4.261801719665527,4.374763011932373,2.564696788787842,5.360487461090088,3.495394468307495,3.9155831336975098,2.8517441749572754,4.090935707092285,3.0515077114105225,3.8564398288726807,4.7626051902771,4.118216037750244,3.8986868858337402,3.281113624572754,4.41935920715332,3.0781614780426025,3.61653470993042,4.140887260437012,4.1709184646606445,3.2463605403900146,3.6492505073547363,3.1064541339874268,5.340421199798584,4.771456241607666,3.280045986175537,4.604496955871582,3.804633617401123,4.2073187828063965,3.4458203315734863,3.0928878784179688,5.460207939147949,4.202560901641846,4.535365104675293,2.96665096282959,3.770789861679077,4.2391228675842285,2.536086320877075,4.785602569580078,3.0324854850769043,2.435250759124756,3.4779574871063232,3.9823665618896484,3.380406618118286,5.1895012855529785,4.364729404449463,4.150045871734619,4.9512410163879395,3.700887680053711,3.4499711990356445,3.3035385608673096,3.063314914703369,2.936833620071411,3.3559048175811768,3.531041383743286,4.230069160461426,4.309474945068359,3.2262344360351562,2.9477179050445557,4.710592746734619,3.6973235607147217,3.7248783111572266,4.415272235870361,2.717111349105835,4.503243923187256,3.249415397644043,4.700947284698486,3.4291999340057373,4.283585548400879,4.113253116607666,4.046699047088623,3.1134912967681885,3.5986738204956055,2.8745129108428955,2.714038848876953,4.917943000793457,4.378971576690674,2.864098310470581,4.25723123550415,3.8597285747528076,3.6029508113861084,4.550509929656982,4.047017574310303,3.58162522315979,4.914743900299072,3.212559700012207,4.360440731048584,3.6670854091644287,3.1807806491851807,3.915212869644165,4.595625400543213,3.49554443359375,3.3756632804870605,3.4452121257781982,5.433136940002441,4.010383605957031,3.6138765811920166,2.567403793334961,5.1370368003845215,3.886474847793579,3.2713985443115234,2.7057292461395264,4.368786334991455,3.5829524993896484,3.8680977821350098,3.948763608932495,4.426665782928467,4.817442417144775,2.7928342819213867,3.8125805854797363,3.826702356338501,3.543278217315674,4.7396016120910645,2.866088390350342,4.709232807159424,2.742272138595581,4.833376884460449,4.0940117835998535,2.898607015609741,4.324832916259766,2.8329179286956787,3.4875974655151367,3.3682785034179688,3.1073992252349854,4.136167526245117,3.74440336227417,3.0764682292938232,3.411900281906128,4.2460784912109375,3.4910130500793457,3.680678606033325,4.125342845916748,4.413463592529297,4.4075188636779785,3.5142300128936768,4.302378177642822,4.693805694580078,3.4668960571289062,2.557950496673584,4.6977620124816895,3.8218023777008057,4.260405540466309,3.9897944927215576,2.909844398498535,3.4888696670532227,2.9583470821380615,3.2522294521331787,5.354717254638672,3.1950578689575195,3.795783519744873,4.3342366218566895,4.4215264320373535,5.2534379959106445,3.8745615482330322,4.503567695617676,3.12656831741333,4.752017498016357,3.700138807296753,4.497496128082275,4.497275352478027,3.4956164360046387,5.144908428192139,3.8026015758514404,2.587615489959717,2.8263442516326904,4.152094841003418,3.1639766693115234,3.433675765991211,3.6689133644104004,4.506310939788818,2.9812047481536865,3.4645273685455322,4.516378879547119,3.7214529514312744,3.4360647201538086,5.276413440704346,4.78633451461792,3.0259745121002197,3.6611785888671875,5.25794792175293,3.07073712348938,3.0886728763580322,3.2199368476867676,3.618330240249634,3.8669538497924805,3.8541934490203857,4.059438705444336,3.45451021194458,3.962437629699707,2.918743371963501,3.996046543121338,4.164538383483887,4.592392921447754,3.2480833530426025,3.7827746868133545,4.310004711151123,3.921107769012451,4.354206085205078,4.027044773101807,3.1013715267181396,4.628111839294434,3.8433637619018555,3.0023865699768066,4.281147003173828,3.976900100708008,3.5375118255615234,4.591073989868164,2.882708787918091,5.2644782066345215,5.233656406402588,4.585502624511719,4.227773666381836,3.9039061069488525,4.248892784118652,4.806131362915039,4.376195430755615,3.521390676498413,2.7564826011657715,3.499927043914795,4.813740253448486,3.4324758052825928,3.41585636138916,4.380236625671387,3.3386800289154053,3.6222548484802246,4.126564025878906,3.1105470657348633,4.72962760925293,3.495795965194702,4.476165771484375,3.2437620162963867,4.034897327423096,3.490600824356079,3.208399772644043,2.823103666305542,4.785802364349365,2.418400764465332,4.641058921813965,5.244934558868408,3.6663177013397217,2.965796709060669,3.2367117404937744],\"z\":[8.460295677185059,7.65654182434082,8.898414611816406,8.027557373046875,7.356442451477051,9.021434783935547,8.623222351074219,8.943267822265625,9.514101028442383,8.622064590454102,8.960540771484375,9.61728286743164,9.104487419128418,7.737913608551025,9.121857643127441,8.320338249206543,8.030364990234375,7.973961353302002,9.202897071838379,6.716975212097168,8.608647346496582,8.888532638549805,9.451592445373535,8.269155502319336,8.89806842803955,7.604950428009033,7.7620625495910645,7.681772708892822,7.7388691902160645,7.690423488616943,7.619184494018555,8.269268989562988,9.053702354431152,8.345229148864746,8.12206745147705,7.582433223724365,8.12455940246582,8.67398738861084,8.241564750671387,7.053582191467285,8.447193145751953,9.195652961730957,8.748468399047852,8.457563400268555,9.305047988891602,8.672441482543945,9.067456245422363,9.232650756835938,8.549983978271484,6.88424015045166,9.554819107055664,8.569812774658203,9.08305835723877,9.431548118591309,8.023786544799805,8.839592933654785,9.113161087036133,8.718083381652832,7.366893291473389,8.931864738464355,8.524688720703125,9.530529975891113,8.324933052062988,8.61629581451416,8.905230522155762,7.4401421546936035,9.295140266418457,8.15135383605957,9.48833179473877,8.10793399810791,8.422586441040039,9.07872486114502,9.063700675964355,8.636651992797852,8.555527687072754,6.962545394897461,9.28726577758789,8.355561256408691,6.945806503295898,8.939115524291992,9.487519264221191,7.746135234832764,7.4791669845581055,8.382344245910645,8.295982360839844,8.81401252746582,7.648396015167236,7.793354511260986,8.929532051086426,7.723763942718506,8.159956932067871,7.833774566650391,8.90335464477539,9.545791625976562,9.671260833740234,8.020665168762207,8.873642921447754,6.3235554695129395,7.914732933044434,8.39371395111084,7.246687412261963,6.303985595703125,7.490489482879639,8.079590797424316,8.4076509475708,7.56723165512085,8.356351852416992,7.931378364562988,8.111312866210938,8.472277641296387,8.564305305480957,8.087374687194824,9.383257865905762,6.359721660614014,7.59338903427124,9.437479972839355,7.703177452087402,7.311745643615723,8.49825382232666,8.891907691955566,8.890344619750977,9.199943542480469,9.00252628326416,9.06125545501709,8.772918701171875,7.9048075675964355,8.106082916259766,9.456624031066895,9.531976699829102,7.814188480377197,8.31283187866211,7.762063026428223,7.8126959800720215,8.492985725402832,8.784329414367676,8.872784614562988,7.868412017822266,8.183738708496094,9.184205055236816,7.319305419921875,6.367103099822998,6.546988010406494,8.918378829956055,8.034104347229004,7.7014055252075195,9.035547256469727,8.858205795288086,7.002982139587402,8.211932182312012,8.781050682067871,9.130925178527832,8.128754615783691,7.214921474456787,8.142536163330078,8.186233520507812,7.922813892364502,7.833220958709717,6.638791084289551,7.719088554382324,6.470245361328125,9.03504467010498,8.38852596282959,8.596277236938477,8.200448036193848,8.45040225982666,8.204806327819824,8.865853309631348,8.5100679397583,9.193563461303711,8.229864120483398,8.292438507080078,8.266511917114258,9.531745910644531,6.9662628173828125,8.925616264343262,6.349867343902588,8.316001892089844,7.349668025970459,8.316298484802246,7.998531341552734,8.058852195739746,8.654601097106934,8.616191864013672,7.163290500640869,8.648805618286133,7.536770343780518,8.901632308959961,7.745765209197998,7.600805282592773,9.071572303771973,7.930318832397461,8.261106491088867,7.665533065795898,8.888713836669922,6.395576000213623,9.007030487060547,7.633219242095947,7.525226593017578,9.268929481506348,8.530035972595215,9.0159330368042,8.169631004333496,8.251036643981934,8.330727577209473,6.909363746643066,9.349384307861328,7.000202655792236,7.9375410079956055,7.779047966003418,8.853848457336426,7.718484878540039,8.789374351501465,8.8898344039917,9.2799654006958,8.488704681396484,8.03764533996582,8.81092643737793,7.388094902038574,8.311229705810547,7.819208145141602,7.8725905418396,8.502426147460938,7.701040744781494,8.901077270507812,8.696423530578613,8.575187683105469,7.845211029052734,9.025745391845703,9.136412620544434,7.9290876388549805,7.576478004455566,6.530119895935059,9.45537281036377,8.8945951461792,8.00861930847168,8.515602111816406,8.803608894348145,8.505395889282227,9.610701560974121,9.597227096557617,7.934901714324951,9.095955848693848,8.029657363891602,9.553519248962402,9.39614200592041,7.775317192077637,7.401053428649902,8.409132957458496,8.012017250061035,8.87772274017334,7.5146331787109375,9.395323753356934,9.030343055725098,7.4772114753723145,8.327817916870117,8.782761573791504,8.825174331665039,8.728002548217773,8.740894317626953,8.779648780822754,8.514455795288086,8.685365676879883,7.862694263458252,8.344518661499023,7.858137130737305,9.083330154418945,9.342220306396484,8.180611610412598,7.60183048248291,6.523887634277344,9.282437324523926,8.517401695251465,6.476242542266846,8.117530822753906,8.151657104492188,7.8974385261535645,7.560115814208984,7.086000919342041,8.674006462097168,8.117608070373535,8.558719635009766,8.089731216430664,7.967939376831055,7.602359294891357,8.92105770111084,8.146882057189941,8.906099319458008,8.8464994430542,7.29663610458374,6.347828388214111],\"type\":\"scatter3d\"},{\"hovertemplate\":\"color=M<br>X=%{x}<br>Y=%{y}<br>Z=%{z}<extra></extra>\",\"legendgroup\":\"M\",\"marker\":{\"color\":\"#EF553B\",\"symbol\":\"circle\"},\"mode\":\"markers\",\"name\":\"M\",\"scene\":\"scene\",\"showlegend\":true,\"x\":[3.0764381885528564,2.882387399673462,2.205289840698242,-0.3758543133735657,3.1928257942199707,3.17395281791687,2.3927218914031982,-1.0920926332473755,2.252479076385498,0.16124941408634186,2.858212947845459,2.757770299911499,2.082458972930908,2.3377315998077393,2.725724697113037,2.1072120666503906,1.4111818075180054,-0.08366988599300385,3.0821645259857178,-0.34062522649765015,2.5282037258148193,1.9121413230895996,2.966799020767212,3.2468321323394775,3.5238687992095947,-0.5265655517578125,-0.30775296688079834,3.025869131088257,2.345001220703125,2.847635269165039,3.100522518157959,3.514824151992798,2.3697588443756104,2.9452552795410156,-0.24827493727207184,2.4385361671447754,2.3072752952575684,2.4464786052703857,2.7378110885620117,1.4104359149932861,2.06467342376709,3.3671889305114746,3.1334903240203857,2.7730205059051514,2.965101480484009,1.6928290128707886,2.1960060596466064,-0.8531509637832642,3.607593536376953,2.8374955654144287,2.1662416458129883,2.9638421535491943,2.5286896228790283,3.044184684753418,3.374567985534668,2.1797244548797607,1.6900984048843384,2.9625611305236816,1.6863361597061157,2.943021774291992,3.1859703063964844,2.763399600982666,2.432074546813965,2.931065320968628,1.8349300622940063,1.6023964881896973,2.156980276107788,0.5965086221694946,2.756403923034668,1.1984575986862183,2.139742851257324,2.5707318782806396,3.3487558364868164,-0.35791435837745667,0.7040597796440125,2.2886085510253906,1.7594997882843018,2.132087230682373,2.2184619903564453,2.5416479110717773,2.2560813426971436,3.2203497886657715,2.100029230117798,2.3846921920776367,2.596996784210205,2.763998508453369,2.6434056758880615,3.3457634449005127,2.2264111042022705,2.872382164001465,2.4558489322662354,-1.169112205505371,-0.1841992288827896,0.6395953893661499,2.1988182067871094,2.1881299018859863,2.042799949645996,2.523329257965088,2.786714792251587,3.540709972381592,-0.008731252513825893,1.7351953983306885,1.7863960266113281,2.3349270820617676,3.414752721786499,1.8245075941085815,3.32830810546875,2.196847915649414,3.0759437084198,2.477187395095825,2.826420783996582,3.4899489879608154,0.3690531253814697,3.0653252601623535,0.20807090401649475,2.972032070159912,3.5762686729431152,2.275534152984619,0.7941094636917114,2.1326608657836914,2.7540030479431152,1.1603354215621948,3.3187639713287354,2.1417789459228516,3.060964822769165,2.3436009883880615,3.0234391689300537,2.189403533935547,2.484604597091675,3.5353646278381348,1.7742908000946045,2.913520097732544,3.219501256942749,3.254204273223877,2.89475154876709,2.5229275226593018,1.503910779953003,2.602217435836792,1.9136697053909302,1.2639015913009644,3.26046085357666,1.9427138566970825,2.663024425506592,2.9734699726104736,0.45710980892181396,3.4855403900146484,2.9185290336608887,1.2766053676605225,2.347343921661377,1.4967797994613647,3.1262028217315674,3.2455766201019287,2.287423610687256,2.213571310043335,0.7979952096939087,2.6571266651153564,2.381744146347046,2.7742791175842285,2.5444705486297607,0.8235220909118652,2.964353561401367,2.3163676261901855,1.8579087257385254,0.886792004108429,3.1422691345214844],\"y\":[4.751932144165039,6.203062534332275,5.997686386108398,4.711255073547363,7.3511271476745605,6.768158435821533,6.445343971252441,4.9035139083862305,5.33673620223999,4.993614673614502,5.6146368980407715,6.306321144104004,6.375011920928955,5.780333518981934,4.9451727867126465,6.1704583168029785,6.178671360015869,4.8821845054626465,6.465922832489014,4.668496131896973,6.822085857391357,6.545523643493652,5.095176696777344,6.269994735717773,6.722627639770508,3.369771957397461,4.841057777404785,7.362832546234131,6.617684841156006,6.6689229011535645,7.402135372161865,6.708214282989502,5.922676086425781,4.967727184295654,4.732572078704834,5.398316860198975,7.118690013885498,7.183773040771484,5.233667373657227,5.8923211097717285,6.209292888641357,6.646453857421875,4.870789051055908,5.004150390625,5.080428123474121,5.929995059967041,5.721624374389648,3.8625667095184326,6.4856767654418945,4.88853120803833,6.620834827423096,6.66900110244751,6.9328436851501465,5.090426445007324,6.684566020965576,6.42521858215332,5.057576656341553,4.813566207885742,6.176131248474121,5.100235939025879,6.576568603515625,4.855678081512451,6.040933132171631,6.482793807983398,6.689929008483887,6.283974647521973,6.762201309204102,4.883561611175537,6.299801826477051,5.125698089599609,5.34046745300293,6.6164164543151855,6.3617634773254395,3.2535152435302734,4.978072643280029,5.437995433807373,6.022593975067139,6.825826644897461,6.070394992828369,5.838277339935303,5.94119119644165,7.329495906829834,6.818905353546143,4.980276107788086,4.914770126342773,5.563504219055176,6.799388885498047,6.6048784255981445,5.389740467071533,6.539424419403076,6.303761005401611,4.304126262664795,4.889626502990723,4.676548957824707,6.008056163787842,6.037812232971191,6.21661376953125,5.982181549072266,5.269327163696289,6.266482830047607,4.952930927276611,5.143273830413818,6.565004348754883,6.802121639251709,7.175017356872559,6.413947582244873,6.643258094787598,5.794700622558594,4.779770374298096,6.627718448638916,6.643802165985107,6.2156195640563965,5.029648780822754,6.673343181610107,5.077232837677002,6.22958517074585,6.351886749267578,5.473443508148193,4.420205593109131,5.142770290374756,4.957425594329834,4.0405097007751465,7.232938766479492,6.055553436279297,5.168121337890625,7.11079740524292,5.114626407623291,5.2175188064575195,5.2858357429504395,6.298415660858154,6.341122627258301,7.292870044708252,7.33513879776001,7.106825351715088,6.599867343902588,5.432668685913086,5.980277061462402,6.385724067687988,6.753391742706299,5.93466854095459,7.305056571960449,5.973000526428223,5.0676422119140625,5.161860466003418,4.680267333984375,7.111718654632568,5.039431571960449,5.950982093811035,5.287660598754883,6.286436557769775,5.228507995605469,6.13330078125,6.067115306854248,6.001094818115234,4.4810791015625,5.585901260375977,5.983684062957764,7.24666166305542,5.314810276031494,4.424501419067383,6.03054141998291,6.629312038421631,6.642719745635986,5.779025554656982,4.8504414558410645],\"z\":[7.247867107391357,5.4195876121521,5.235452175140381,6.864260673522949,5.360752582550049,6.004925727844238,5.327490329742432,8.351760864257812,7.826557636260986,7.043471813201904,7.061582565307617,5.454267501831055,6.326188564300537,6.9612555503845215,7.9131550788879395,6.5615973472595215,6.4704718589782715,6.850795269012451,6.007122039794922,6.7714009284973145,5.9555158615112305,6.3771562576293945,7.875484466552734,6.484602928161621,5.733493328094482,7.433015823364258,6.718262672424316,5.389603137969971,6.318486213684082,6.032476425170898,5.381446361541748,5.6795196533203125,5.194815158843994,7.853565692901611,6.697718143463135,7.765982151031494,5.669534206390381,5.7133259773254395,7.775959491729736,5.764318943023682,5.371307373046875,6.060297966003418,7.660732746124268,7.147030830383301,7.85638427734375,5.719780921936035,5.45457124710083,7.163207530975342,5.641139984130859,7.168332099914551,6.190184116363525,6.183620452880859,5.508895397186279,7.799530029296875,5.994953155517578,6.479301929473877,8.168119430541992,7.150825500488281,6.5513715744018555,7.8082275390625,5.994707107543945,7.273547649383545,5.354936122894287,5.617878437042236,5.867685317993164,6.504802227020264,6.108928203582764,8.422012329101562,6.721686840057373,7.9204182624816895,7.886641979217529,5.456087589263916,5.640155792236328,7.734618663787842,8.571744918823242,7.522247314453125,5.771430492401123,5.80150032043457,5.322756767272949,5.3040771484375,5.222447872161865,5.323981285095215,5.819395065307617,7.9602179527282715,7.513518810272217,7.593348979949951,6.091465950012207,5.781139850616455,7.7604899406433105,6.171516418457031,5.290782928466797,6.993744373321533,6.706213474273682,7.342889785766602,5.4007110595703125,5.510617733001709,5.324676990509033,5.383793354034424,7.706189155578613,6.055478572845459,6.748064994812012,8.071822166442871,5.854465007781982,6.184691905975342,5.4829864501953125,6.380353927612305,6.0862650871276855,6.906321048736572,7.271293640136719,6.355443954467773,6.227113246917725,5.9954915046691895,7.437694549560547,5.937854766845703,6.901033878326416,6.392322540283203,5.741261959075928,7.559767246246338,7.7766499519348145,7.8645453453063965,7.8597822189331055,8.395180702209473,5.428683757781982,5.782841205596924,7.288994312286377,5.641809940338135,7.4527177810668945,7.915034294128418,7.366375923156738,5.998123645782471,6.382363319396973,5.408958435058594,5.32208776473999,5.543440341949463,5.636172294616699,7.0976409912109375,5.700284004211426,5.431358814239502,5.911186218261719,5.889494895935059,5.370790958404541,6.696902275085449,7.922406196594238,7.849577903747559,7.622942924499512,5.485949516296387,7.242640495300293,5.907039165496826,7.857410907745361,5.894827842712402,7.431066989898682,5.694833278656006,5.421989440917969,5.301722526550293,7.900879859924316,7.540585041046143,5.471805095672607,5.495152473449707,7.230508804321289,7.9622650146484375,6.886833190917969,6.284145355224609,5.859991550445557,6.233527660369873,7.4936933517456055],\"type\":\"scatter3d\"}],                        {\"template\":{\"data\":{\"bar\":[{\"error_x\":{\"color\":\"#2a3f5f\"},\"error_y\":{\"color\":\"#2a3f5f\"},\"marker\":{\"line\":{\"color\":\"#E5ECF6\",\"width\":0.5},\"pattern\":{\"fillmode\":\"overlay\",\"size\":10,\"solidity\":0.2}},\"type\":\"bar\"}],\"barpolar\":[{\"marker\":{\"line\":{\"color\":\"#E5ECF6\",\"width\":0.5},\"pattern\":{\"fillmode\":\"overlay\",\"size\":10,\"solidity\":0.2}},\"type\":\"barpolar\"}],\"carpet\":[{\"aaxis\":{\"endlinecolor\":\"#2a3f5f\",\"gridcolor\":\"white\",\"linecolor\":\"white\",\"minorgridcolor\":\"white\",\"startlinecolor\":\"#2a3f5f\"},\"baxis\":{\"endlinecolor\":\"#2a3f5f\",\"gridcolor\":\"white\",\"linecolor\":\"white\",\"minorgridcolor\":\"white\",\"startlinecolor\":\"#2a3f5f\"},\"type\":\"carpet\"}],\"choropleth\":[{\"colorbar\":{\"outlinewidth\":0,\"ticks\":\"\"},\"type\":\"choropleth\"}],\"contour\":[{\"colorbar\":{\"outlinewidth\":0,\"ticks\":\"\"},\"colorscale\":[[0.0,\"#0d0887\"],[0.1111111111111111,\"#46039f\"],[0.2222222222222222,\"#7201a8\"],[0.3333333333333333,\"#9c179e\"],[0.4444444444444444,\"#bd3786\"],[0.5555555555555556,\"#d8576b\"],[0.6666666666666666,\"#ed7953\"],[0.7777777777777778,\"#fb9f3a\"],[0.8888888888888888,\"#fdca26\"],[1.0,\"#f0f921\"]],\"type\":\"contour\"}],\"contourcarpet\":[{\"colorbar\":{\"outlinewidth\":0,\"ticks\":\"\"},\"type\":\"contourcarpet\"}],\"heatmap\":[{\"colorbar\":{\"outlinewidth\":0,\"ticks\":\"\"},\"colorscale\":[[0.0,\"#0d0887\"],[0.1111111111111111,\"#46039f\"],[0.2222222222222222,\"#7201a8\"],[0.3333333333333333,\"#9c179e\"],[0.4444444444444444,\"#bd3786\"],[0.5555555555555556,\"#d8576b\"],[0.6666666666666666,\"#ed7953\"],[0.7777777777777778,\"#fb9f3a\"],[0.8888888888888888,\"#fdca26\"],[1.0,\"#f0f921\"]],\"type\":\"heatmap\"}],\"heatmapgl\":[{\"colorbar\":{\"outlinewidth\":0,\"ticks\":\"\"},\"colorscale\":[[0.0,\"#0d0887\"],[0.1111111111111111,\"#46039f\"],[0.2222222222222222,\"#7201a8\"],[0.3333333333333333,\"#9c179e\"],[0.4444444444444444,\"#bd3786\"],[0.5555555555555556,\"#d8576b\"],[0.6666666666666666,\"#ed7953\"],[0.7777777777777778,\"#fb9f3a\"],[0.8888888888888888,\"#fdca26\"],[1.0,\"#f0f921\"]],\"type\":\"heatmapgl\"}],\"histogram\":[{\"marker\":{\"pattern\":{\"fillmode\":\"overlay\",\"size\":10,\"solidity\":0.2}},\"type\":\"histogram\"}],\"histogram2d\":[{\"colorbar\":{\"outlinewidth\":0,\"ticks\":\"\"},\"colorscale\":[[0.0,\"#0d0887\"],[0.1111111111111111,\"#46039f\"],[0.2222222222222222,\"#7201a8\"],[0.3333333333333333,\"#9c179e\"],[0.4444444444444444,\"#bd3786\"],[0.5555555555555556,\"#d8576b\"],[0.6666666666666666,\"#ed7953\"],[0.7777777777777778,\"#fb9f3a\"],[0.8888888888888888,\"#fdca26\"],[1.0,\"#f0f921\"]],\"type\":\"histogram2d\"}],\"histogram2dcontour\":[{\"colorbar\":{\"outlinewidth\":0,\"ticks\":\"\"},\"colorscale\":[[0.0,\"#0d0887\"],[0.1111111111111111,\"#46039f\"],[0.2222222222222222,\"#7201a8\"],[0.3333333333333333,\"#9c179e\"],[0.4444444444444444,\"#bd3786\"],[0.5555555555555556,\"#d8576b\"],[0.6666666666666666,\"#ed7953\"],[0.7777777777777778,\"#fb9f3a\"],[0.8888888888888888,\"#fdca26\"],[1.0,\"#f0f921\"]],\"type\":\"histogram2dcontour\"}],\"mesh3d\":[{\"colorbar\":{\"outlinewidth\":0,\"ticks\":\"\"},\"type\":\"mesh3d\"}],\"parcoords\":[{\"line\":{\"colorbar\":{\"outlinewidth\":0,\"ticks\":\"\"}},\"type\":\"parcoords\"}],\"pie\":[{\"automargin\":true,\"type\":\"pie\"}],\"scatter\":[{\"marker\":{\"colorbar\":{\"outlinewidth\":0,\"ticks\":\"\"}},\"type\":\"scatter\"}],\"scatter3d\":[{\"line\":{\"colorbar\":{\"outlinewidth\":0,\"ticks\":\"\"}},\"marker\":{\"colorbar\":{\"outlinewidth\":0,\"ticks\":\"\"}},\"type\":\"scatter3d\"}],\"scattercarpet\":[{\"marker\":{\"colorbar\":{\"outlinewidth\":0,\"ticks\":\"\"}},\"type\":\"scattercarpet\"}],\"scattergeo\":[{\"marker\":{\"colorbar\":{\"outlinewidth\":0,\"ticks\":\"\"}},\"type\":\"scattergeo\"}],\"scattergl\":[{\"marker\":{\"colorbar\":{\"outlinewidth\":0,\"ticks\":\"\"}},\"type\":\"scattergl\"}],\"scattermapbox\":[{\"marker\":{\"colorbar\":{\"outlinewidth\":0,\"ticks\":\"\"}},\"type\":\"scattermapbox\"}],\"scatterpolar\":[{\"marker\":{\"colorbar\":{\"outlinewidth\":0,\"ticks\":\"\"}},\"type\":\"scatterpolar\"}],\"scatterpolargl\":[{\"marker\":{\"colorbar\":{\"outlinewidth\":0,\"ticks\":\"\"}},\"type\":\"scatterpolargl\"}],\"scatterternary\":[{\"marker\":{\"colorbar\":{\"outlinewidth\":0,\"ticks\":\"\"}},\"type\":\"scatterternary\"}],\"surface\":[{\"colorbar\":{\"outlinewidth\":0,\"ticks\":\"\"},\"colorscale\":[[0.0,\"#0d0887\"],[0.1111111111111111,\"#46039f\"],[0.2222222222222222,\"#7201a8\"],[0.3333333333333333,\"#9c179e\"],[0.4444444444444444,\"#bd3786\"],[0.5555555555555556,\"#d8576b\"],[0.6666666666666666,\"#ed7953\"],[0.7777777777777778,\"#fb9f3a\"],[0.8888888888888888,\"#fdca26\"],[1.0,\"#f0f921\"]],\"type\":\"surface\"}],\"table\":[{\"cells\":{\"fill\":{\"color\":\"#EBF0F8\"},\"line\":{\"color\":\"white\"}},\"header\":{\"fill\":{\"color\":\"#C8D4E3\"},\"line\":{\"color\":\"white\"}},\"type\":\"table\"}]},\"layout\":{\"annotationdefaults\":{\"arrowcolor\":\"#2a3f5f\",\"arrowhead\":0,\"arrowwidth\":1},\"autotypenumbers\":\"strict\",\"coloraxis\":{\"colorbar\":{\"outlinewidth\":0,\"ticks\":\"\"}},\"colorscale\":{\"diverging\":[[0,\"#8e0152\"],[0.1,\"#c51b7d\"],[0.2,\"#de77ae\"],[0.3,\"#f1b6da\"],[0.4,\"#fde0ef\"],[0.5,\"#f7f7f7\"],[0.6,\"#e6f5d0\"],[0.7,\"#b8e186\"],[0.8,\"#7fbc41\"],[0.9,\"#4d9221\"],[1,\"#276419\"]],\"sequential\":[[0.0,\"#0d0887\"],[0.1111111111111111,\"#46039f\"],[0.2222222222222222,\"#7201a8\"],[0.3333333333333333,\"#9c179e\"],[0.4444444444444444,\"#bd3786\"],[0.5555555555555556,\"#d8576b\"],[0.6666666666666666,\"#ed7953\"],[0.7777777777777778,\"#fb9f3a\"],[0.8888888888888888,\"#fdca26\"],[1.0,\"#f0f921\"]],\"sequentialminus\":[[0.0,\"#0d0887\"],[0.1111111111111111,\"#46039f\"],[0.2222222222222222,\"#7201a8\"],[0.3333333333333333,\"#9c179e\"],[0.4444444444444444,\"#bd3786\"],[0.5555555555555556,\"#d8576b\"],[0.6666666666666666,\"#ed7953\"],[0.7777777777777778,\"#fb9f3a\"],[0.8888888888888888,\"#fdca26\"],[1.0,\"#f0f921\"]]},\"colorway\":[\"#636efa\",\"#EF553B\",\"#00cc96\",\"#ab63fa\",\"#FFA15A\",\"#19d3f3\",\"#FF6692\",\"#B6E880\",\"#FF97FF\",\"#FECB52\"],\"font\":{\"color\":\"#2a3f5f\"},\"geo\":{\"bgcolor\":\"white\",\"lakecolor\":\"white\",\"landcolor\":\"#E5ECF6\",\"showlakes\":true,\"showland\":true,\"subunitcolor\":\"white\"},\"hoverlabel\":{\"align\":\"left\"},\"hovermode\":\"closest\",\"mapbox\":{\"style\":\"light\"},\"paper_bgcolor\":\"white\",\"plot_bgcolor\":\"#E5ECF6\",\"polar\":{\"angularaxis\":{\"gridcolor\":\"white\",\"linecolor\":\"white\",\"ticks\":\"\"},\"bgcolor\":\"#E5ECF6\",\"radialaxis\":{\"gridcolor\":\"white\",\"linecolor\":\"white\",\"ticks\":\"\"}},\"scene\":{\"xaxis\":{\"backgroundcolor\":\"#E5ECF6\",\"gridcolor\":\"white\",\"gridwidth\":2,\"linecolor\":\"white\",\"showbackground\":true,\"ticks\":\"\",\"zerolinecolor\":\"white\"},\"yaxis\":{\"backgroundcolor\":\"#E5ECF6\",\"gridcolor\":\"white\",\"gridwidth\":2,\"linecolor\":\"white\",\"showbackground\":true,\"ticks\":\"\",\"zerolinecolor\":\"white\"},\"zaxis\":{\"backgroundcolor\":\"#E5ECF6\",\"gridcolor\":\"white\",\"gridwidth\":2,\"linecolor\":\"white\",\"showbackground\":true,\"ticks\":\"\",\"zerolinecolor\":\"white\"}},\"shapedefaults\":{\"line\":{\"color\":\"#2a3f5f\"}},\"ternary\":{\"aaxis\":{\"gridcolor\":\"white\",\"linecolor\":\"white\",\"ticks\":\"\"},\"baxis\":{\"gridcolor\":\"white\",\"linecolor\":\"white\",\"ticks\":\"\"},\"bgcolor\":\"#E5ECF6\",\"caxis\":{\"gridcolor\":\"white\",\"linecolor\":\"white\",\"ticks\":\"\"}},\"title\":{\"x\":0.05},\"xaxis\":{\"automargin\":true,\"gridcolor\":\"white\",\"linecolor\":\"white\",\"ticks\":\"\",\"title\":{\"standoff\":15},\"zerolinecolor\":\"white\",\"zerolinewidth\":2},\"yaxis\":{\"automargin\":true,\"gridcolor\":\"white\",\"linecolor\":\"white\",\"ticks\":\"\",\"title\":{\"standoff\":15},\"zerolinecolor\":\"white\",\"zerolinewidth\":2}}},\"scene\":{\"domain\":{\"x\":[0.0,1.0],\"y\":[0.0,1.0]},\"xaxis\":{\"title\":{\"text\":\"X\"}},\"yaxis\":{\"title\":{\"text\":\"Y\"}},\"zaxis\":{\"title\":{\"text\":\"Z\"}}},\"legend\":{\"title\":{\"text\":\"color\"},\"tracegroupgap\":0},\"margin\":{\"t\":20,\"l\":20,\"r\":20,\"b\":20}},                        {\"responsive\": true}                    ).then(function(){\n",
              "                            \n",
              "var gd = document.getElementById('89584e72-55dd-4a46-a6de-dd9a56637928');\n",
              "var x = new MutationObserver(function (mutations, observer) {{\n",
              "        var display = window.getComputedStyle(gd).display;\n",
              "        if (!display || display === 'none') {{\n",
              "            console.log([gd, 'removed!']);\n",
              "            Plotly.purge(gd);\n",
              "            observer.disconnect();\n",
              "        }}\n",
              "}});\n",
              "\n",
              "// Listen for the removal of the full notebook cells\n",
              "var notebookContainer = gd.closest('#notebook-container');\n",
              "if (notebookContainer) {{\n",
              "    x.observe(notebookContainer, {childList: true});\n",
              "}}\n",
              "\n",
              "// Listen for the clearing of the current output cell\n",
              "var outputEl = gd.closest('.output');\n",
              "if (outputEl) {{\n",
              "    x.observe(outputEl, {childList: true});\n",
              "}}\n",
              "\n",
              "                        })                };                            </script>        </div>\n",
              "</body>\n",
              "</html>"
            ]
          },
          "metadata": {}
        }
      ]
    },
    {
      "cell_type": "code",
      "source": [
        "from sklearn.linear_model import LogisticRegression\n",
        "lr = LogisticRegression()"
      ],
      "metadata": {
        "id": "ATs-Z1XGpSPS"
      },
      "execution_count": null,
      "outputs": []
    },
    {
      "cell_type": "code",
      "source": [
        "lr.fit(X_train,y_train)"
      ],
      "metadata": {
        "colab": {
          "base_uri": "https://localhost:8080/"
        },
        "id": "72pUG_JpqKqh",
        "outputId": "abe25604-3687-4308-923e-5a25dc7c5070"
      },
      "execution_count": null,
      "outputs": [
        {
          "output_type": "execute_result",
          "data": {
            "text/plain": [
              "LogisticRegression()"
            ]
          },
          "metadata": {},
          "execution_count": 180
        }
      ]
    },
    {
      "cell_type": "code",
      "source": [
        "y_pred = lr.predict(X_test)"
      ],
      "metadata": {
        "id": "_32GM0uRqOZK"
      },
      "execution_count": null,
      "outputs": []
    },
    {
      "cell_type": "code",
      "source": [
        "from sklearn.metrics import accuracy_score,confusion_matrix,f1_score,classification_report\n",
        "acc = accuracy_score(y_test,y_pred)\n",
        "acc"
      ],
      "metadata": {
        "colab": {
          "base_uri": "https://localhost:8080/"
        },
        "id": "mAWea3qGqRp9",
        "outputId": "e45ab0d1-e66f-4eac-e7ec-5136addb0c32"
      },
      "execution_count": null,
      "outputs": [
        {
          "output_type": "execute_result",
          "data": {
            "text/plain": [
              "0.9649122807017544"
            ]
          },
          "metadata": {},
          "execution_count": 182
        }
      ]
    },
    {
      "cell_type": "code",
      "source": [
        "cm = confusion_matrix(y_test,y_pred)\n",
        "cm"
      ],
      "metadata": {
        "colab": {
          "base_uri": "https://localhost:8080/"
        },
        "id": "5cimtdlRqgF9",
        "outputId": "88107863-c10f-4e80-e500-22412bda8ea6"
      },
      "execution_count": null,
      "outputs": [
        {
          "output_type": "execute_result",
          "data": {
            "text/plain": [
              "array([[65,  2],\n",
              "       [ 2, 45]])"
            ]
          },
          "metadata": {},
          "execution_count": 183
        }
      ]
    },
    {
      "cell_type": "code",
      "source": [
        "print(\"classification Report:\",classification_report(y_test,y_pred))"
      ],
      "metadata": {
        "colab": {
          "base_uri": "https://localhost:8080/"
        },
        "id": "96LJM9g3qpYy",
        "outputId": "41cc8176-1e43-4ba9-a226-b320d4f7f17c"
      },
      "execution_count": null,
      "outputs": [
        {
          "output_type": "stream",
          "name": "stdout",
          "text": [
            "classification Report:               precision    recall  f1-score   support\n",
            "\n",
            "           B       0.97      0.97      0.97        67\n",
            "           M       0.96      0.96      0.96        47\n",
            "\n",
            "    accuracy                           0.96       114\n",
            "   macro avg       0.96      0.96      0.96       114\n",
            "weighted avg       0.96      0.96      0.96       114\n",
            "\n"
          ]
        }
      ]
    },
    {
      "cell_type": "code",
      "source": [
        "from sklearn.svm import SVC\n",
        "sm = SVC()"
      ],
      "metadata": {
        "id": "wnHAsCvxlpmi"
      },
      "execution_count": null,
      "outputs": []
    },
    {
      "cell_type": "code",
      "source": [
        "sm.fit(X_train,y_train)"
      ],
      "metadata": {
        "colab": {
          "base_uri": "https://localhost:8080/"
        },
        "id": "xmivRqy9lwbn",
        "outputId": "6268876c-27e4-40c5-a5dd-5abd33373a5a"
      },
      "execution_count": null,
      "outputs": [
        {
          "output_type": "execute_result",
          "data": {
            "text/plain": [
              "SVC()"
            ]
          },
          "metadata": {},
          "execution_count": 186
        }
      ]
    },
    {
      "cell_type": "code",
      "source": [
        "y_pred = sm.predict(X_test)"
      ],
      "metadata": {
        "id": "xDEmLeBwl3fn"
      },
      "execution_count": null,
      "outputs": []
    },
    {
      "cell_type": "code",
      "source": [
        "print(accuracy_score(y_test,y_pred))"
      ],
      "metadata": {
        "colab": {
          "base_uri": "https://localhost:8080/"
        },
        "id": "3DtfzoiSl7ss",
        "outputId": "7c5eefef-27cd-4190-a171-39341f32ada6"
      },
      "execution_count": null,
      "outputs": [
        {
          "output_type": "stream",
          "name": "stdout",
          "text": [
            "0.9736842105263158\n"
          ]
        }
      ]
    },
    {
      "cell_type": "markdown",
      "source": [
        "**Conclusion:**\n",
        "\n",
        "After Applying all the techniques which includes PCA, t-SNE and UMAP, we observerd that, PCA performs well when we select n_components is 15 (According to Hyper-paramter Tuning) for Support Vector Machine (SVM)\n",
        "\n",
        "When we are comparing with the dimentionality reduction techniques then UMAP performs well compare to PCA and t-SNE, after that PCA performs well as we have shown in visualization."
      ],
      "metadata": {
        "id": "xNzjGQ3-pU2S"
      }
    },
    {
      "cell_type": "markdown",
      "source": [
        "**Prons for UMAP:**\n",
        "When we are using umap for 2 dimentional then it shows the good classification of data\n",
        "\n",
        "**Cons for UMAP:**\n",
        "When we are using umap for 3 diemtional then we observed some of the data points are miss classified.\n",
        "Also, it does'nt work well with low dimentional data"
      ],
      "metadata": {
        "id": "GTKh7Pztqdq7"
      }
    }
  ]
}